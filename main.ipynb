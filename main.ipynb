{
 "cells": [
  {
   "cell_type": "markdown",
   "metadata": {},
   "source": [
    "# Link prediction in machine learning open-source quasi network \n",
    "\n",
    "This project seeks to derive promising technologies in the GitHub machine learning ecosystem by using GNN-based link prediction techniques.\n",
    "\n",
    "The network to be used for analysis is the topic quasi network in the GitHub open source. This is a topic quasi network derived from a heterogeneous network based on the relationship between projects in rows, topics in columns, and topic appearances as components of the network.\n",
    " \n",
    "Previously, it was attempted to apply direct link prediction to a heterogeneous network of 'project-topic', but this was put off for follow-up research."
   ]
  },
  {
   "cell_type": "code",
   "execution_count": 1,
   "metadata": {},
   "outputs": [],
   "source": [
    "# Basic data analysis and data IO\n",
    "import numpy as np\n",
    "import pandas as pd\n",
    "import pickle\n",
    "\n",
    "# Network preprocssing \n",
    "import scipy.sparse as sp\n",
    "import torch\n",
    "\n",
    "# GNN \n",
    "from torch_geometric.data import InMemoryDataset, Data\n",
    "from torch_geometric.nn import GCNConv, VGAE\n",
    "import torch_geometric.transforms as T \n",
    "from torch_geometric.utils import negative_sampling\n",
    "\n",
    "# Evaluation \n",
    "from sklearn.metrics import roc_auc_score, f1_score, precision_score, recall_score\n",
    "\n",
    "# Clustering\n",
    "from sklearn.cluster import KMeans\n",
    "from collections import Counter\n",
    "\n",
    "# Visualization\n",
    "from sklearn.manifold import TSNE\n",
    "import plotly.express as px\n",
    "import plotly.graph_objects as go\n",
    "from plotly.subplots import make_subplots\n",
    "import chart_studio\n",
    "from chart_studio.plotly import plot\n",
    "\n",
    "# ETC\n",
    "from tqdm import tqdm\n",
    "import networkx as nx\n",
    "import warnings \n",
    "\n",
    "warnings.filterwarnings(action='ignore')\n",
    "chart_studio.tools.set_credentials_file(username='Your User Name', api_key='Your API Key')"
   ]
  },
  {
   "cell_type": "markdown",
   "metadata": {},
   "source": [
    "# 1. Construct Data loader "
   ]
  },
  {
   "cell_type": "code",
   "execution_count": 2,
   "metadata": {},
   "outputs": [],
   "source": [
    "node_feature = None"
   ]
  },
  {
   "cell_type": "code",
   "execution_count": 3,
   "metadata": {},
   "outputs": [
    {
     "name": "stdout",
     "output_type": "stream",
     "text": [
      "Graph with 6463 nodes and 73527 edges\n"
     ]
    }
   ],
   "source": [
    "\"\"\"\n",
    "- Select feature information to be input to the GNN algorithm\n",
    "- Mainly divided into two types: None and basic\n",
    "     - None: contains no information, identity matrix as input, total length 39\n",
    "     - basic : readme information \n",
    "\"\"\"\n",
    "\n",
    "original = pd.read_csv('data/network/coword/coword.csv', index_col=0)\n",
    "node_data = original.columns\n",
    "n_topic = 6463\n",
    "\n",
    "G_original = nx.from_pandas_adjacency(original)\n",
    "print(nx.info(G_original))\n",
    "\n",
    "\n",
    "def feature_selector(network, feature=None) :\n",
    "    if feature == 'basic' :\n",
    "        \n",
    "        # call document embedding vector\n",
    "        with open('data/readme/2048_readme_vector.pickle', 'rb') as f :\n",
    "            doc2vec = pickle.load(f)\n",
    "        repo_feature = torch.tensor(doc2vec).to(torch.float)\n",
    "        topic_feature = torch.zeros((n_topic, repo_feature.size(1))).to(torch.float)\n",
    "        x = torch.cat((topic_feature, repo_feature), 0)\n",
    "        \n",
    "        # not use in this project \n",
    "        '''\n",
    "        data = pd.read_csv('data/data/filtered_data.csv')\n",
    "\n",
    "        # call social metric \n",
    "        need_feature = ['contributors_count', 'stargazers_count', 'forks_count', 'watchers_count']\n",
    "        feature_data = data[need_feature]\n",
    "\n",
    "        x = torch.tensor(feature_data.values).to(torch.float)\n",
    "        x = torch.cat((x, doc2vec), 1)\n",
    "        '''\n",
    "        \n",
    "\n",
    "    # add all genereated feature vectors\n",
    "    elif feature == None :\n",
    "        x = torch.eye(network.shape[0]).to(torch.float)\n",
    "        \n",
    "    return x"
   ]
  },
  {
   "cell_type": "code",
   "execution_count": 4,
   "metadata": {},
   "outputs": [],
   "source": [
    "class MyData(InMemoryDataset) :\n",
    "    def __init__(self, transform) :\n",
    "        super(MyData, self).__init__()\n",
    "\n",
    "        network = pd.read_csv('data/network/coword/coword.csv', index_col=0)\n",
    "        self.node_name = network.columns\n",
    "        network = network.values\n",
    "\n",
    "        adj = sp.csr_matrix(network).tocoo()\n",
    "        row = torch.from_numpy(adj.row).to(torch.float)\n",
    "        col = torch.from_numpy(adj.col).to(torch.float)\n",
    "\n",
    "        edge_index = torch.stack([row, col], dim=0).to(torch.long)\n",
    "        x = feature_selector(network, feature=node_feature)\n",
    "        edge_weight = torch.tensor(adj.data).to(torch.float)\n",
    "\n",
    "        data = Data(x=x, edge_index=edge_index, edge_attr=edge_weight)\n",
    "        if transform : \n",
    "            data = transform(data)\n",
    "\n",
    "        self.data, self.slices = self.collate([data])"
   ]
  },
  {
   "cell_type": "markdown",
   "metadata": {},
   "source": [
    "- Slices contain shape information of data, but there is no need to use it.\n",
    "- All information is included in the data, so you can just use it"
   ]
  },
  {
   "cell_type": "code",
   "execution_count": 5,
   "metadata": {},
   "outputs": [],
   "source": [
    "device = torch.device('cuda' if torch.cuda.is_available() else 'cpu')\n",
    "\n",
    "\n",
    "transform_train = T.Compose([\n",
    "    T.NormalizeFeatures(),\n",
    "    T.ToDevice(device),\n",
    "    T.RandomLinkSplit(num_val=0.05, num_test=0.1, is_undirected=False, split_labels=True,\n",
    "                      add_negative_train_samples=True),\n",
    "])\n",
    "\n",
    "transform_embedding = T.Compose([\n",
    "    T.NormalizeFeatures(),\n",
    "    T.ToDevice(device),\n",
    "])\n",
    "\n",
    "# train splited data \n",
    "data_load = MyData(transform=transform_train)\n",
    "train_data, val_data, test_data = data_load[0]\n",
    "\n",
    "# embedding full data \n",
    "full_data = MyData(transform=transform_embedding)\n",
    "data = full_data.data"
   ]
  },
  {
   "cell_type": "markdown",
   "metadata": {},
   "source": [
    "- As a result of loading data, 4 basic information is included\n",
    "    - x : original network, sparse network type\n",
    "    - edge_index : A variant of the sparse network, including only pairs of indexes in which values ​​exist\n",
    "    - edge_attribute : edge weight\n",
    "    - train, val, test mask: indicates the purpose of each edge <br></br>\n",
    "\n",
    "- Train, val, test split edge index, edge weight information is also included"
   ]
  },
  {
   "cell_type": "markdown",
   "metadata": {},
   "source": [
    "---"
   ]
  },
  {
   "cell_type": "markdown",
   "metadata": {},
   "source": [
    "# 2. Model construction"
   ]
  },
  {
   "cell_type": "code",
   "execution_count": null,
   "metadata": {},
   "outputs": [],
   "source": [
    "class GCNmodel(torch.nn.Module):\n",
    "    def __init__(self, in_channels, hidden_channels, out_channels):\n",
    "        super().__init__()\n",
    "        self.conv1 = GCNConv(in_channels, hidden_channels)\n",
    "        self.conv2 = GCNConv(hidden_channels, out_channels)\n",
    "\n",
    "    def encode(self, x, edge_index):\n",
    "        x = self.conv1(x, edge_index).relu()\n",
    "        return self.conv2(x, edge_index)\n",
    "\n",
    "    def decode(self, z, edge_label_index):\n",
    "        return (z[edge_label_index[0]] * z[edge_label_index[1]]).sum(dim=-1)\n",
    "\n",
    "    def decode_all(self, z):\n",
    "        prob_adj = z @ z.t()\n",
    "        return prob_adj"
   ]
  },
  {
   "cell_type": "markdown",
   "metadata": {},
   "source": [
    "---"
   ]
  },
  {
   "cell_type": "markdown",
   "metadata": {},
   "source": [
    "# 3. GCN based link prediction"
   ]
  },
  {
   "cell_type": "code",
   "execution_count": null,
   "metadata": {},
   "outputs": [],
   "source": [
    "device = 'cpu'\n",
    "hidden_size = 128\n",
    "embedding_size = 64\n",
    "epochs = 200\n",
    "iteration = 1000\n",
    "\n",
    "model = GCNmodel(data_load.num_features, hidden_size, embedding_size).to(device)\n",
    "optimizer = torch.optim.Adam(params=model.parameters(), lr=0.01)\n",
    "criterion = torch.nn.BCEWithLogitsLoss()"
   ]
  },
  {
   "cell_type": "code",
   "execution_count": null,
   "metadata": {},
   "outputs": [],
   "source": [
    "def train():\n",
    "    model.train()\n",
    "    optimizer.zero_grad()\n",
    "    z = model.encode(train_data.x, train_data.edge_index)\n",
    "\n",
    "    # We perform a new round of negative sampling for every training epoch:\n",
    "    neg_edge_index = negative_sampling(\n",
    "        edge_index=train_data.edge_index, num_nodes=train_data.num_nodes,\n",
    "        num_neg_samples=train_data.edge_label_index.size(1), method='sparse')\n",
    "\n",
    "    edge_label_index = torch.cat(\n",
    "        [train_data.edge_label_index, neg_edge_index],\n",
    "        dim=-1,\n",
    "    )\n",
    "    edge_label = torch.cat([\n",
    "        train_data.edge_label,\n",
    "        train_data.edge_label.new_zeros(neg_edge_index.size(1))\n",
    "    ], dim=0)\n",
    "\n",
    "    out = model.decode(z, edge_label_index).view(-1)\n",
    "    loss = criterion(out, edge_label)\n",
    "    loss.backward()\n",
    "    optimizer.step()\n",
    "    return loss\n",
    "\n",
    "@torch.no_grad()\n",
    "def test(data):\n",
    "    model.eval()\n",
    "    z = model.encode(data.x, data.edge_index)\n",
    "    out = model.decode(z, data.edge_label_index).view(-1).sigmoid()\n",
    "    out_binary = np.array([1 if ele >=0.95 else 0 for ele in out.cpu().numpy()])\n",
    "    label = data.edge_label.cpu().numpy()\n",
    "    return roc_auc_score(label, out.cpu().numpy()), f1_score(label, out_binary), precision_score(label, out_binary), recall_score(label, out_binary)"
   ]
  },
  {
   "cell_type": "code",
   "execution_count": null,
   "metadata": {},
   "outputs": [],
   "source": [
    "def training_visualization(auc, f1, precision, recall) :\n",
    "    x_range = np.array(range(1, epochs+1))\n",
    "    \n",
    "    fig = make_subplots(\n",
    "        rows=1, cols=2,\n",
    "        subplot_titles=('validation', 'test')\n",
    "    )\n",
    "\n",
    "    fig.add_trace(\n",
    "        go.Scatter(x=x_range, y=auc[0], mode='lines', name='val_auc'),\n",
    "        row=1, col=1\n",
    "    ) \n",
    "    \n",
    "    fig.add_trace(\n",
    "        go.Scatter(x=x_range, y=f1[0], mode='lines', name='val_f1'),\n",
    "        row=1, col=1\n",
    "    )\n",
    "\n",
    "    fig.add_trace(\n",
    "        go.Scatter(x=x_range, y=precision[0], mode='lines', name='val_precision'),\n",
    "        row=1, col=1\n",
    "    )\n",
    "\n",
    "    fig.add_trace(\n",
    "        go.Scatter(x=x_range, y=recall[0], mode='lines', name='val_recall'),\n",
    "        row=1, col=1\n",
    "    )\n",
    "\n",
    "    fig.add_trace(\n",
    "        go.Scatter(x=x_range, y=auc[1], mode='lines', name='test_auc'),\n",
    "        row=1, col=2\n",
    "    ) \n",
    "    \n",
    "    fig.add_trace(\n",
    "        go.Scatter(x=x_range, y=f1[1], mode='lines', name='test_f1'),\n",
    "        row=1, col=2\n",
    "    )\n",
    "\n",
    "    fig.add_trace(\n",
    "        go.Scatter(x=x_range, y=precision[1], mode='lines', name='test_precision'),\n",
    "        row=1, col=2\n",
    "    )\n",
    "\n",
    "    fig.add_trace(\n",
    "        go.Scatter(x=x_range, y=recall[1], mode='lines', name='test_recall'),\n",
    "        row=1, col=2\n",
    "    )\n",
    "\n",
    "    fig.update_layout(height=500, width=900,\n",
    "                  title_text=\"link prediction loss function graphs\")\n",
    "    fig.show()\n",
    "    plot(fig, filename = 'training_graph', auto_open=True)\n"
   ]
  },
  {
   "cell_type": "code",
   "execution_count": null,
   "metadata": {},
   "outputs": [],
   "source": [
    "best_val_auc = final_test_auc = 0\n",
    "final_test_f1 = final_test_precision = final_test_recall = 0\n",
    "\n",
    "# visualize training process \n",
    "# add all validation and test metrics into list to draw graph \n",
    "val_auc_list, val_f1_list, val_precision_list, val_recall_list = [],[],[],[]\n",
    "test_auc_list, test_f1_list, test_precision_list, test_recall_list = [],[],[],[]\n",
    "\n",
    "# training parts\n",
    "for epoch in range(1, epochs+1):\n",
    "    loss = train()\n",
    "    val_auc, val_f1, val_precision, val_recall = test(val_data)\n",
    "    test_auc, test_f1, test_precision, test_recall = test(test_data)\n",
    "\n",
    "    # for visualization \n",
    "    val_auc_list.append(val_auc); val_f1_list.append(val_f1); val_precision_list.append(val_precision); val_recall_list.append(val_recall)\n",
    "    test_auc_list.append(test_auc); test_f1_list.append(test_f1); test_precision_list.append(test_precision); test_recall_list.append(test_recall)\n",
    "    \n",
    "    # find best metrics when training \n",
    "    if val_auc > best_val_auc:\n",
    "        best_val = val_auc\n",
    "        final_test_auc = test_auc\n",
    "        final_test_f1 = test_f1\n",
    "        final_test_precision = test_precision\n",
    "        final_test_recall = test_recall \n",
    "\n",
    "    if epoch % 10 == 0 :\n",
    "        print(f'Epoch: {epoch:03d}, Loss: {loss:.4f}, Val: {val_auc:.4f}, '\n",
    "            f'Test: {test_auc:.4f}')\n",
    "\n",
    "# for visualization \n",
    "auc_list = [val_auc_list, test_auc_list]\n",
    "f1_list = [val_f1_list, test_f1_list]\n",
    "precision_list = [val_precision_list, test_precision_list]\n",
    "recall_list = [val_recall_list, test_recall_list]\n",
    "\n",
    "print('\\n')\n",
    "print('Final Result')\n",
    "print(f'Final Test AUC: {final_test_auc:.4f}')\n",
    "print(f'Final Test F1 score: {final_test_f1:.4f}')\n",
    "print(f'Final Test Precision: {final_test_precision:.4f}')\n",
    "print(f'Final Test Recall: {final_test_recall:.4f}')\n",
    "\n",
    "\n",
    "# conduct link prediction in currnet network \n",
    "# output form is adjacency matrix with logits \n",
    "z = model.encode(data.x, data.edge_index)\n",
    "pred_logit = model.decode_all(z)"
   ]
  },
  {
   "cell_type": "code",
   "execution_count": null,
   "metadata": {},
   "outputs": [],
   "source": [
    "# visualization traing process \n",
    "training_visualization(auc_list, f1_list, precision_list, recall_list)"
   ]
  },
  {
   "cell_type": "code",
   "execution_count": null,
   "metadata": {},
   "outputs": [],
   "source": [
    "# Extract repo-topic heterogeneous network\n",
    "# Conduct dichotomize\n",
    "pred_network = pred_logit.sigmoid()\n",
    "\n",
    "#pred_network = torch.where(pred_network>0.92, 1, 0)"
   ]
  },
  {
   "cell_type": "markdown",
   "metadata": {},
   "source": [
    "original network has 78,683 edges \n",
    "\n",
    "- When the edge threshold is 0.8, the number of created edges is 302,876, which is very large compared to the original network edges.\n",
    "- When the edge threshold is 0.9, the number of created edges is 98,041, which is little large compared to the original network edges.\n",
    "- When the edge threshold is 0.95, the number of created edges is 44,948, which is quite small compared to the original network edges.\n",
    "- When the edge threshold is 0.92, the number of created edges is 75,201, which is similar compared to the original network edges."
   ]
  },
  {
   "cell_type": "code",
   "execution_count": null,
   "metadata": {},
   "outputs": [],
   "source": [
    "# change network from tensor to pandas dataframe\n",
    "pred_network = pred_network.detach().numpy()\n",
    "pred_network = pd.DataFrame(pred_network, columns=node_data, index=node_data)\n",
    "\n",
    "# remove diagonal term\n",
    "for i in range(len(pred_network)) :\n",
    "    pred_network.iloc[i, i] = 0"
   ]
  },
  {
   "cell_type": "code",
   "execution_count": null,
   "metadata": {},
   "outputs": [],
   "source": [
    "pred_network.to_csv('data/network/predicted_network.test.csv')"
   ]
  },
  {
   "cell_type": "markdown",
   "metadata": {},
   "source": [
    "# 4. VGAE based link prediction"
   ]
  },
  {
   "cell_type": "markdown",
   "metadata": {},
   "source": [
    "The community detection method detects too many technologies, making it difficult to accurately detect technologies.\n",
    "\n",
    "Therefore, we intend to derive about 10-15 technology clusters through clustering.\n",
    "\n",
    "We use a graph autoencoder to learn the characteristics of the network.\n",
    "\n",
    "Based on this, future link prediction is also performed."
   ]
  },
  {
   "cell_type": "code",
   "execution_count": 6,
   "metadata": {},
   "outputs": [],
   "source": [
    "class VariationalGCNEncoder(torch.nn.Module) : \n",
    "    def __init__(self, in_channels, out_channels) :\n",
    "        super().__init__() \n",
    "        self.conv1 = GCNConv(in_channels, 2 * out_channels)\n",
    "        self.conv_mu = GCNConv(2 * out_channels, out_channels)\n",
    "        self.conv_logstd = GCNConv(2 * out_channels, out_channels)\n",
    "\n",
    "    def forward(self, x, edge_index, edge_weight) : \n",
    "        x = self.conv1(x, edge_index, edge_weight).relu()\n",
    "        return self.conv_mu(x, edge_index, edge_weight), self.conv_logstd(x, edge_index, edge_weight)"
   ]
  },
  {
   "cell_type": "code",
   "execution_count": 7,
   "metadata": {},
   "outputs": [],
   "source": [
    "epochs = 200\n",
    "in_channels, out_channels = data.x.size(1), 16"
   ]
  },
  {
   "cell_type": "code",
   "execution_count": 8,
   "metadata": {},
   "outputs": [],
   "source": [
    "def train() :\n",
    "    model.train()\n",
    "    optimizer.zero_grad()\n",
    "    z = model.encode(train_data.x, train_data.edge_index, train_data.edge_attr)\n",
    "    loss = model.recon_loss(z, train_data.pos_edge_label_index)\n",
    "    loss = loss + (1 / train_data.num_nodes) * model.kl_loss()\n",
    "    loss.backward()\n",
    "    optimizer.step()\n",
    "\n",
    "    return float(loss)\n",
    "\n",
    "\n",
    "@torch.no_grad()\n",
    "def test(data) :\n",
    "    model.eval()\n",
    "    z = model.encode(data.x, data.edge_index, data.edge_attr)\n",
    "    return model.test(z, data.pos_edge_label_index, data.neg_edge_label_index)"
   ]
  },
  {
   "cell_type": "code",
   "execution_count": 9,
   "metadata": {},
   "outputs": [
    {
     "name": "stdout",
     "output_type": "stream",
     "text": [
      "==============================1==============================\n",
      "Epoch: 050, AUC: 0.8829, AP: 0.8989\n",
      "Epoch: 100, AUC: 0.9128, AP: 0.9186\n",
      "Epoch: 150, AUC: 0.9387, AP: 0.9406\n",
      "Epoch: 200, AUC: 0.9532, AP: 0.9538\n",
      "==============================2==============================\n",
      "Epoch: 050, AUC: 0.8889, AP: 0.9032\n",
      "Epoch: 100, AUC: 0.9303, AP: 0.9346\n",
      "Epoch: 150, AUC: 0.9563, AP: 0.9575\n",
      "Epoch: 200, AUC: 0.9628, AP: 0.9632\n",
      "==============================3==============================\n",
      "Epoch: 050, AUC: 0.8847, AP: 0.9005\n",
      "Epoch: 100, AUC: 0.8944, AP: 0.9055\n",
      "Epoch: 150, AUC: 0.9163, AP: 0.9232\n",
      "Epoch: 200, AUC: 0.9345, AP: 0.9372\n",
      "==============================4==============================\n",
      "Epoch: 050, AUC: 0.9019, AP: 0.9133\n",
      "Epoch: 100, AUC: 0.9325, AP: 0.9365\n",
      "Epoch: 150, AUC: 0.9494, AP: 0.9509\n",
      "Epoch: 200, AUC: 0.9586, AP: 0.9589\n",
      "==============================5==============================\n",
      "Epoch: 050, AUC: 0.8950, AP: 0.9081\n",
      "Epoch: 100, AUC: 0.9239, AP: 0.9290\n",
      "Epoch: 150, AUC: 0.9399, AP: 0.9423\n",
      "Epoch: 200, AUC: 0.9480, AP: 0.9500\n",
      "==============================6==============================\n",
      "Epoch: 050, AUC: 0.8855, AP: 0.9007\n",
      "Epoch: 100, AUC: 0.9079, AP: 0.9163\n",
      "Epoch: 150, AUC: 0.9410, AP: 0.9439\n",
      "Epoch: 200, AUC: 0.9559, AP: 0.9563\n",
      "==============================7==============================\n",
      "Epoch: 050, AUC: 0.8925, AP: 0.9063\n",
      "Epoch: 100, AUC: 0.9198, AP: 0.9246\n",
      "Epoch: 150, AUC: 0.9404, AP: 0.9428\n",
      "Epoch: 200, AUC: 0.9523, AP: 0.9541\n",
      "==============================8==============================\n",
      "Epoch: 050, AUC: 0.8921, AP: 0.9053\n",
      "Epoch: 100, AUC: 0.9202, AP: 0.9242\n",
      "Epoch: 150, AUC: 0.9389, AP: 0.9415\n",
      "Epoch: 200, AUC: 0.9463, AP: 0.9484\n",
      "==============================9==============================\n",
      "Epoch: 050, AUC: 0.8851, AP: 0.9016\n",
      "Epoch: 100, AUC: 0.9252, AP: 0.9309\n",
      "Epoch: 150, AUC: 0.9509, AP: 0.9526\n",
      "Epoch: 200, AUC: 0.9584, AP: 0.9589\n",
      "==============================10==============================\n",
      "Epoch: 050, AUC: 0.8893, AP: 0.9032\n",
      "Epoch: 100, AUC: 0.9185, AP: 0.9247\n",
      "Epoch: 150, AUC: 0.9402, AP: 0.9429\n",
      "Epoch: 200, AUC: 0.9575, AP: 0.9592\n"
     ]
    }
   ],
   "source": [
    "model_container = []\n",
    "auc_container = []\n",
    "\n",
    "for tries in range(1, 11) : \n",
    "    model = VGAE(VariationalGCNEncoder(in_channels, out_channels)).to(device)\n",
    "    optimizer = torch.optim.Adam(model.parameters(), lr=0.01)\n",
    "\n",
    "    print('=============================={}=============================='.format(tries))\n",
    "    for epoch in range(1, epochs + 1):\n",
    "        loss = train()\n",
    "        auc, ap = test(test_data)\n",
    "        if tries == 10 :\n",
    "            auc_container.append(auc)\n",
    "        if epoch % 50 == 0  :\n",
    "            print(f'Epoch: {epoch:03d}, AUC: {auc:.4f}, AP: {ap:.4f}')\n",
    "\n",
    "    model_container.append(model)"
   ]
  },
  {
   "cell_type": "code",
   "execution_count": 10,
   "metadata": {},
   "outputs": [
    {
     "data": {
      "application/vnd.plotly.v1+json": {
       "config": {
        "plotlyServerURL": "https://plotly.com"
       },
       "data": [
        {
         "mode": "lines",
         "type": "scatter",
         "x": [
          1,
          2,
          3,
          4,
          5,
          6,
          7,
          8,
          9,
          10,
          11,
          12,
          13,
          14,
          15,
          16,
          17,
          18,
          19,
          20,
          21,
          22,
          23,
          24,
          25,
          26,
          27,
          28,
          29,
          30,
          31,
          32,
          33,
          34,
          35,
          36,
          37,
          38,
          39,
          40,
          41,
          42,
          43,
          44,
          45,
          46,
          47,
          48,
          49,
          50,
          51,
          52,
          53,
          54,
          55,
          56,
          57,
          58,
          59,
          60,
          61,
          62,
          63,
          64,
          65,
          66,
          67,
          68,
          69,
          70,
          71,
          72,
          73,
          74,
          75,
          76,
          77,
          78,
          79,
          80,
          81,
          82,
          83,
          84,
          85,
          86,
          87,
          88,
          89,
          90,
          91,
          92,
          93,
          94,
          95,
          96,
          97,
          98,
          99,
          100,
          101,
          102,
          103,
          104,
          105,
          106,
          107,
          108,
          109,
          110,
          111,
          112,
          113,
          114,
          115,
          116,
          117,
          118,
          119,
          120,
          121,
          122,
          123,
          124,
          125,
          126,
          127,
          128,
          129,
          130,
          131,
          132,
          133,
          134,
          135,
          136,
          137,
          138,
          139,
          140,
          141,
          142,
          143,
          144,
          145,
          146,
          147,
          148,
          149,
          150,
          151,
          152,
          153,
          154,
          155,
          156,
          157,
          158,
          159,
          160,
          161,
          162,
          163,
          164,
          165,
          166,
          167,
          168,
          169,
          170,
          171,
          172,
          173,
          174,
          175,
          176,
          177,
          178,
          179,
          180,
          181,
          182,
          183,
          184,
          185,
          186,
          187,
          188,
          189,
          190,
          191,
          192,
          193,
          194,
          195,
          196,
          197,
          198,
          199,
          200
         ],
         "xaxis": "x",
         "y": [
          0.8776557668604624,
          0.8742741581835951,
          0.8741767743058804,
          0.8740107481593404,
          0.874025819583857,
          0.8741630070058539,
          0.8744739944512276,
          0.8750024677781245,
          0.8756249351839722,
          0.8762764609807224,
          0.8769671891296136,
          0.8770277129922592,
          0.876337680838885,
          0.875500028267592,
          0.8748550184687381,
          0.8744397981797983,
          0.8742027296204247,
          0.8741412785345155,
          0.8742828407854759,
          0.8746064833254158,
          0.875096935873956,
          0.8757397004513914,
          0.8765190165745206,
          0.8773290489914944,
          0.8779609828612838,
          0.8782285411113107,
          0.878179525453608,
          0.8780582441882929,
          0.8780389759801772,
          0.8782144107837222,
          0.8786092229117562,
          0.879199445608355,
          0.8799142838743735,
          0.8806336518919459,
          0.8812850643871002,
          0.8817651787430945,
          0.8820793525068152,
          0.8822522576788133,
          0.8824106186255569,
          0.8826669808280982,
          0.8830956516350518,
          0.8836664327027253,
          0.8841703658288862,
          0.8849554071510186,
          0.885570819798321,
          0.8861140315817793,
          0.8866503967116639,
          0.8873341857158829,
          0.8882481133839129,
          0.8892866681827498,
          0.8901867383719324,
          0.8910522608235107,
          0.8915461101076468,
          0.8918940084381941,
          0.8923789970750846,
          0.8933973518179877,
          0.8949908925171348,
          0.8970183713913008,
          0.8989118376004295,
          0.900694416231448,
          0.9018772640809317,
          0.9022559087649306,
          0.9015137555652183,
          0.8997876681849466,
          0.8982250033267891,
          0.8987446576274345,
          0.9016375433393055,
          0.9046521242141579,
          0.9057086361597879,
          0.9047622718634794,
          0.9023890335154214,
          0.9012083892663616,
          0.9028695779550241,
          0.904479905788567,
          0.9042945212550904,
          0.9021872757452153,
          0.9005153950855548,
          0.9010959039045233,
          0.9029930951926479,
          0.9032616569710945,
          0.9020532769538429,
          0.9001826491092355,
          0.9004173868929245,
          0.9020504282280059,
          0.9033391899467726,
          0.9030840139425707,
          0.9023293097007786,
          0.9029534951287829,
          0.9049719884927199,
          0.905846038623589,
          0.9061999997456495,
          0.9063563212636689,
          0.9077896673800429,
          0.9107268216439808,
          0.9122739387484636,
          0.9122350208064507,
          0.9140106857278489,
          0.9172021558287717,
          0.9181849963020904,
          0.9184859160913817,
          0.920162828266806,
          0.9224699701635278,
          0.9220689588196102,
          0.9219365023173068,
          0.9250635616171652,
          0.9260184397191,
          0.9241326942044269,
          0.9261193058866768,
          0.9277994714364943,
          0.926532791967518,
          0.9272822635254069,
          0.929111675024201,
          0.9283681668298941,
          0.9279018267107588,
          0.9298874972960804,
          0.9298498025488466,
          0.928852565836031,
          0.9316585769712659,
          0.9311930692720176,
          0.9302508647628683,
          0.9326948611136321,
          0.9325912179008198,
          0.9328574280930845,
          0.9330521842871266,
          0.9344725816496967,
          0.9340465745863826,
          0.9338402153840213,
          0.9350850368941213,
          0.9361798332177387,
          0.9352711798546062,
          0.9349092760594537,
          0.9364907721052858,
          0.9372551555405463,
          0.9353987528269038,
          0.9370399819364884,
          0.9370520404634683,
          0.9360516544287454,
          0.9366432737409333,
          0.9380230467007212,
          0.9389748009158005,
          0.9366057709127287,
          0.9393628958777988,
          0.9388458821980186,
          0.9380476146487865,
          0.9401287776688567,
          0.9395815656453839,
          0.9394788519681123,
          0.9406741930527392,
          0.9403516858410348,
          0.9402422180012882,
          0.9412008003717218,
          0.9410646303518095,
          0.9419118372535878,
          0.942082240541369,
          0.9426920967859227,
          0.9423211820454891,
          0.9430424276323631,
          0.9441988692731967,
          0.9440753404741857,
          0.9440337957849725,
          0.9453809702570595,
          0.9459188499286837,
          0.9443278804820774,
          0.9468114005915499,
          0.947146576771485,
          0.9460721007422297,
          0.9478973617029738,
          0.9480527490608975,
          0.9480617299465715,
          0.9476783659042665,
          0.9502256378157257,
          0.9473928019496198,
          0.9499065504623919,
          0.9499653886747655,
          0.948866945889586,
          0.951398727854307,
          0.9494561558086548,
          0.9507474402221359,
          0.9517212951852256,
          0.9493242056951163,
          0.9529060506636178,
          0.9512885778927082,
          0.9518592849675026,
          0.953136989375432,
          0.9524447536216335,
          0.9536090986268425,
          0.9538309708987163,
          0.9529062055862081,
          0.954707589969849,
          0.9549879767352516,
          0.9529061500915488,
          0.9566710996879465,
          0.9541069735860453,
          0.9555374131696457,
          0.956047857669148,
          0.9556239316555526,
          0.9569439438042584,
          0.9556474822015333,
          0.9563970901837926,
          0.9575172151947614
         ],
         "yaxis": "y"
        }
       ],
       "layout": {
        "template": {
         "data": {
          "bar": [
           {
            "error_x": {
             "color": "#2a3f5f"
            },
            "error_y": {
             "color": "#2a3f5f"
            },
            "marker": {
             "line": {
              "color": "#E5ECF6",
              "width": 0.5
             },
             "pattern": {
              "fillmode": "overlay",
              "size": 10,
              "solidity": 0.2
             }
            },
            "type": "bar"
           }
          ],
          "barpolar": [
           {
            "marker": {
             "line": {
              "color": "#E5ECF6",
              "width": 0.5
             },
             "pattern": {
              "fillmode": "overlay",
              "size": 10,
              "solidity": 0.2
             }
            },
            "type": "barpolar"
           }
          ],
          "carpet": [
           {
            "aaxis": {
             "endlinecolor": "#2a3f5f",
             "gridcolor": "white",
             "linecolor": "white",
             "minorgridcolor": "white",
             "startlinecolor": "#2a3f5f"
            },
            "baxis": {
             "endlinecolor": "#2a3f5f",
             "gridcolor": "white",
             "linecolor": "white",
             "minorgridcolor": "white",
             "startlinecolor": "#2a3f5f"
            },
            "type": "carpet"
           }
          ],
          "choropleth": [
           {
            "colorbar": {
             "outlinewidth": 0,
             "ticks": ""
            },
            "type": "choropleth"
           }
          ],
          "contour": [
           {
            "colorbar": {
             "outlinewidth": 0,
             "ticks": ""
            },
            "colorscale": [
             [
              0,
              "#0d0887"
             ],
             [
              0.1111111111111111,
              "#46039f"
             ],
             [
              0.2222222222222222,
              "#7201a8"
             ],
             [
              0.3333333333333333,
              "#9c179e"
             ],
             [
              0.4444444444444444,
              "#bd3786"
             ],
             [
              0.5555555555555556,
              "#d8576b"
             ],
             [
              0.6666666666666666,
              "#ed7953"
             ],
             [
              0.7777777777777778,
              "#fb9f3a"
             ],
             [
              0.8888888888888888,
              "#fdca26"
             ],
             [
              1,
              "#f0f921"
             ]
            ],
            "type": "contour"
           }
          ],
          "contourcarpet": [
           {
            "colorbar": {
             "outlinewidth": 0,
             "ticks": ""
            },
            "type": "contourcarpet"
           }
          ],
          "heatmap": [
           {
            "colorbar": {
             "outlinewidth": 0,
             "ticks": ""
            },
            "colorscale": [
             [
              0,
              "#0d0887"
             ],
             [
              0.1111111111111111,
              "#46039f"
             ],
             [
              0.2222222222222222,
              "#7201a8"
             ],
             [
              0.3333333333333333,
              "#9c179e"
             ],
             [
              0.4444444444444444,
              "#bd3786"
             ],
             [
              0.5555555555555556,
              "#d8576b"
             ],
             [
              0.6666666666666666,
              "#ed7953"
             ],
             [
              0.7777777777777778,
              "#fb9f3a"
             ],
             [
              0.8888888888888888,
              "#fdca26"
             ],
             [
              1,
              "#f0f921"
             ]
            ],
            "type": "heatmap"
           }
          ],
          "heatmapgl": [
           {
            "colorbar": {
             "outlinewidth": 0,
             "ticks": ""
            },
            "colorscale": [
             [
              0,
              "#0d0887"
             ],
             [
              0.1111111111111111,
              "#46039f"
             ],
             [
              0.2222222222222222,
              "#7201a8"
             ],
             [
              0.3333333333333333,
              "#9c179e"
             ],
             [
              0.4444444444444444,
              "#bd3786"
             ],
             [
              0.5555555555555556,
              "#d8576b"
             ],
             [
              0.6666666666666666,
              "#ed7953"
             ],
             [
              0.7777777777777778,
              "#fb9f3a"
             ],
             [
              0.8888888888888888,
              "#fdca26"
             ],
             [
              1,
              "#f0f921"
             ]
            ],
            "type": "heatmapgl"
           }
          ],
          "histogram": [
           {
            "marker": {
             "pattern": {
              "fillmode": "overlay",
              "size": 10,
              "solidity": 0.2
             }
            },
            "type": "histogram"
           }
          ],
          "histogram2d": [
           {
            "colorbar": {
             "outlinewidth": 0,
             "ticks": ""
            },
            "colorscale": [
             [
              0,
              "#0d0887"
             ],
             [
              0.1111111111111111,
              "#46039f"
             ],
             [
              0.2222222222222222,
              "#7201a8"
             ],
             [
              0.3333333333333333,
              "#9c179e"
             ],
             [
              0.4444444444444444,
              "#bd3786"
             ],
             [
              0.5555555555555556,
              "#d8576b"
             ],
             [
              0.6666666666666666,
              "#ed7953"
             ],
             [
              0.7777777777777778,
              "#fb9f3a"
             ],
             [
              0.8888888888888888,
              "#fdca26"
             ],
             [
              1,
              "#f0f921"
             ]
            ],
            "type": "histogram2d"
           }
          ],
          "histogram2dcontour": [
           {
            "colorbar": {
             "outlinewidth": 0,
             "ticks": ""
            },
            "colorscale": [
             [
              0,
              "#0d0887"
             ],
             [
              0.1111111111111111,
              "#46039f"
             ],
             [
              0.2222222222222222,
              "#7201a8"
             ],
             [
              0.3333333333333333,
              "#9c179e"
             ],
             [
              0.4444444444444444,
              "#bd3786"
             ],
             [
              0.5555555555555556,
              "#d8576b"
             ],
             [
              0.6666666666666666,
              "#ed7953"
             ],
             [
              0.7777777777777778,
              "#fb9f3a"
             ],
             [
              0.8888888888888888,
              "#fdca26"
             ],
             [
              1,
              "#f0f921"
             ]
            ],
            "type": "histogram2dcontour"
           }
          ],
          "mesh3d": [
           {
            "colorbar": {
             "outlinewidth": 0,
             "ticks": ""
            },
            "type": "mesh3d"
           }
          ],
          "parcoords": [
           {
            "line": {
             "colorbar": {
              "outlinewidth": 0,
              "ticks": ""
             }
            },
            "type": "parcoords"
           }
          ],
          "pie": [
           {
            "automargin": true,
            "type": "pie"
           }
          ],
          "scatter": [
           {
            "marker": {
             "colorbar": {
              "outlinewidth": 0,
              "ticks": ""
             }
            },
            "type": "scatter"
           }
          ],
          "scatter3d": [
           {
            "line": {
             "colorbar": {
              "outlinewidth": 0,
              "ticks": ""
             }
            },
            "marker": {
             "colorbar": {
              "outlinewidth": 0,
              "ticks": ""
             }
            },
            "type": "scatter3d"
           }
          ],
          "scattercarpet": [
           {
            "marker": {
             "colorbar": {
              "outlinewidth": 0,
              "ticks": ""
             }
            },
            "type": "scattercarpet"
           }
          ],
          "scattergeo": [
           {
            "marker": {
             "colorbar": {
              "outlinewidth": 0,
              "ticks": ""
             }
            },
            "type": "scattergeo"
           }
          ],
          "scattergl": [
           {
            "marker": {
             "colorbar": {
              "outlinewidth": 0,
              "ticks": ""
             }
            },
            "type": "scattergl"
           }
          ],
          "scattermapbox": [
           {
            "marker": {
             "colorbar": {
              "outlinewidth": 0,
              "ticks": ""
             }
            },
            "type": "scattermapbox"
           }
          ],
          "scatterpolar": [
           {
            "marker": {
             "colorbar": {
              "outlinewidth": 0,
              "ticks": ""
             }
            },
            "type": "scatterpolar"
           }
          ],
          "scatterpolargl": [
           {
            "marker": {
             "colorbar": {
              "outlinewidth": 0,
              "ticks": ""
             }
            },
            "type": "scatterpolargl"
           }
          ],
          "scatterternary": [
           {
            "marker": {
             "colorbar": {
              "outlinewidth": 0,
              "ticks": ""
             }
            },
            "type": "scatterternary"
           }
          ],
          "surface": [
           {
            "colorbar": {
             "outlinewidth": 0,
             "ticks": ""
            },
            "colorscale": [
             [
              0,
              "#0d0887"
             ],
             [
              0.1111111111111111,
              "#46039f"
             ],
             [
              0.2222222222222222,
              "#7201a8"
             ],
             [
              0.3333333333333333,
              "#9c179e"
             ],
             [
              0.4444444444444444,
              "#bd3786"
             ],
             [
              0.5555555555555556,
              "#d8576b"
             ],
             [
              0.6666666666666666,
              "#ed7953"
             ],
             [
              0.7777777777777778,
              "#fb9f3a"
             ],
             [
              0.8888888888888888,
              "#fdca26"
             ],
             [
              1,
              "#f0f921"
             ]
            ],
            "type": "surface"
           }
          ],
          "table": [
           {
            "cells": {
             "fill": {
              "color": "#EBF0F8"
             },
             "line": {
              "color": "white"
             }
            },
            "header": {
             "fill": {
              "color": "#C8D4E3"
             },
             "line": {
              "color": "white"
             }
            },
            "type": "table"
           }
          ]
         },
         "layout": {
          "annotationdefaults": {
           "arrowcolor": "#2a3f5f",
           "arrowhead": 0,
           "arrowwidth": 1
          },
          "autotypenumbers": "strict",
          "coloraxis": {
           "colorbar": {
            "outlinewidth": 0,
            "ticks": ""
           }
          },
          "colorscale": {
           "diverging": [
            [
             0,
             "#8e0152"
            ],
            [
             0.1,
             "#c51b7d"
            ],
            [
             0.2,
             "#de77ae"
            ],
            [
             0.3,
             "#f1b6da"
            ],
            [
             0.4,
             "#fde0ef"
            ],
            [
             0.5,
             "#f7f7f7"
            ],
            [
             0.6,
             "#e6f5d0"
            ],
            [
             0.7,
             "#b8e186"
            ],
            [
             0.8,
             "#7fbc41"
            ],
            [
             0.9,
             "#4d9221"
            ],
            [
             1,
             "#276419"
            ]
           ],
           "sequential": [
            [
             0,
             "#0d0887"
            ],
            [
             0.1111111111111111,
             "#46039f"
            ],
            [
             0.2222222222222222,
             "#7201a8"
            ],
            [
             0.3333333333333333,
             "#9c179e"
            ],
            [
             0.4444444444444444,
             "#bd3786"
            ],
            [
             0.5555555555555556,
             "#d8576b"
            ],
            [
             0.6666666666666666,
             "#ed7953"
            ],
            [
             0.7777777777777778,
             "#fb9f3a"
            ],
            [
             0.8888888888888888,
             "#fdca26"
            ],
            [
             1,
             "#f0f921"
            ]
           ],
           "sequentialminus": [
            [
             0,
             "#0d0887"
            ],
            [
             0.1111111111111111,
             "#46039f"
            ],
            [
             0.2222222222222222,
             "#7201a8"
            ],
            [
             0.3333333333333333,
             "#9c179e"
            ],
            [
             0.4444444444444444,
             "#bd3786"
            ],
            [
             0.5555555555555556,
             "#d8576b"
            ],
            [
             0.6666666666666666,
             "#ed7953"
            ],
            [
             0.7777777777777778,
             "#fb9f3a"
            ],
            [
             0.8888888888888888,
             "#fdca26"
            ],
            [
             1,
             "#f0f921"
            ]
           ]
          },
          "colorway": [
           "#636efa",
           "#EF553B",
           "#00cc96",
           "#ab63fa",
           "#FFA15A",
           "#19d3f3",
           "#FF6692",
           "#B6E880",
           "#FF97FF",
           "#FECB52"
          ],
          "font": {
           "color": "#2a3f5f"
          },
          "geo": {
           "bgcolor": "white",
           "lakecolor": "white",
           "landcolor": "#E5ECF6",
           "showlakes": true,
           "showland": true,
           "subunitcolor": "white"
          },
          "hoverlabel": {
           "align": "left"
          },
          "hovermode": "closest",
          "mapbox": {
           "style": "light"
          },
          "paper_bgcolor": "white",
          "plot_bgcolor": "#E5ECF6",
          "polar": {
           "angularaxis": {
            "gridcolor": "white",
            "linecolor": "white",
            "ticks": ""
           },
           "bgcolor": "#E5ECF6",
           "radialaxis": {
            "gridcolor": "white",
            "linecolor": "white",
            "ticks": ""
           }
          },
          "scene": {
           "xaxis": {
            "backgroundcolor": "#E5ECF6",
            "gridcolor": "white",
            "gridwidth": 2,
            "linecolor": "white",
            "showbackground": true,
            "ticks": "",
            "zerolinecolor": "white"
           },
           "yaxis": {
            "backgroundcolor": "#E5ECF6",
            "gridcolor": "white",
            "gridwidth": 2,
            "linecolor": "white",
            "showbackground": true,
            "ticks": "",
            "zerolinecolor": "white"
           },
           "zaxis": {
            "backgroundcolor": "#E5ECF6",
            "gridcolor": "white",
            "gridwidth": 2,
            "linecolor": "white",
            "showbackground": true,
            "ticks": "",
            "zerolinecolor": "white"
           }
          },
          "shapedefaults": {
           "line": {
            "color": "#2a3f5f"
           }
          },
          "ternary": {
           "aaxis": {
            "gridcolor": "white",
            "linecolor": "white",
            "ticks": ""
           },
           "baxis": {
            "gridcolor": "white",
            "linecolor": "white",
            "ticks": ""
           },
           "bgcolor": "#E5ECF6",
           "caxis": {
            "gridcolor": "white",
            "linecolor": "white",
            "ticks": ""
           }
          },
          "title": {
           "x": 0.05
          },
          "xaxis": {
           "automargin": true,
           "gridcolor": "white",
           "linecolor": "white",
           "ticks": "",
           "title": {
            "standoff": 15
           },
           "zerolinecolor": "white",
           "zerolinewidth": 2
          },
          "yaxis": {
           "automargin": true,
           "gridcolor": "white",
           "linecolor": "white",
           "ticks": "",
           "title": {
            "standoff": 15
           },
           "zerolinecolor": "white",
           "zerolinewidth": 2
          }
         }
        },
        "xaxis": {
         "anchor": "y",
         "domain": [
          0,
          1
         ]
        },
        "yaxis": {
         "anchor": "x",
         "domain": [
          0,
          1
         ]
        }
       }
      }
     },
     "metadata": {},
     "output_type": "display_data"
    },
    {
     "data": {
      "text/plain": [
       "'https://plotly.com/~injokim/19/'"
      ]
     },
     "execution_count": 10,
     "metadata": {},
     "output_type": "execute_result"
    }
   ],
   "source": [
    "x_range = np.array(range(1, epochs+1))\n",
    "\n",
    "fig = make_subplots(\n",
    ")\n",
    "\n",
    "fig.add_trace(\n",
    "    go.Scatter(x=x_range, y=auc_container, mode='lines'),\n",
    "    row=1, col=1\n",
    ")\n",
    "    \n",
    "fig.show()\n",
    "plot(fig, filename = 'training_graph', auto_open=True)"
   ]
  },
  {
   "cell_type": "code",
   "execution_count": 11,
   "metadata": {},
   "outputs": [],
   "source": [
    "def ensemble_network(voting_method) : \n",
    "    # voting method has 2 conditions 'soft' or 'hard'\n",
    "    \n",
    "    assert voting_method == 'soft' or voting_method == 'hard'\n",
    "    edge_threshold = 0.98\n",
    "\n",
    "    # soft voting \n",
    "    if voting_method == 'soft' :\n",
    "        new_network = torch.zeros((n_topic, n_topic))\n",
    "\n",
    "        for i in range(10) : \n",
    "            z = model_container[i].encode(data.x, data.edge_index, data.edge_attr)\n",
    "            new_network += model_container[i].decoder.forward_all(z)\n",
    "\n",
    "        new_network /= 10\n",
    "        new_network = torch.where(new_network>= edge_threshold, 1, 0)\n",
    "        mean_z = None\n",
    "\n",
    "\n",
    "    # hard voting\n",
    "    if voting_method == 'hard' :\n",
    "        new_network = torch.zeros((n_topic, n_topic))\n",
    "        \n",
    "        for i in range(10) :\n",
    "            z = model_container[i].encode(data.x, data.edge_index, data.edge_attr)\n",
    "            new_network += torch.where(model_container[i].decoder.forward_all(z)>= edge_threshold, 1, 0)\n",
    "\n",
    "            if i == 0 :\n",
    "                mean_z = torch.zeros(z.size())\n",
    "            mean_z += z\n",
    "\n",
    "        new_network = torch.where(new_network >= 10, 1, 0)\n",
    "        mean_z /= 10\n",
    "\n",
    "    # remove diagonal term\n",
    "    for i in range(new_network.size(1)) : \n",
    "        new_network[i,i] = 0\n",
    "\n",
    "    return new_network, mean_z"
   ]
  },
  {
   "cell_type": "code",
   "execution_count": 12,
   "metadata": {},
   "outputs": [
    {
     "name": "stdout",
     "output_type": "stream",
     "text": [
      "Graph with 6463 nodes and 35104 edges\n",
      "Graph with 6463 nodes and 20722 edges\n"
     ]
    }
   ],
   "source": [
    "soft_voting_network, _ = ensemble_network('soft')\n",
    "hard_voting_network, z = ensemble_network('hard')\n",
    "\n",
    "G_soft = nx.from_numpy_matrix(soft_voting_network.detach().numpy())\n",
    "G_hard = nx.from_numpy_matrix(hard_voting_network.detach().numpy())\n",
    "\n",
    "print(nx.info(G_soft))\n",
    "print(nx.info(G_hard))"
   ]
  },
  {
   "cell_type": "code",
   "execution_count": null,
   "metadata": {},
   "outputs": [],
   "source": [
    "pred_network = pd.DataFrame(hard_voting_network.detach().numpy(), index=node_data, columns=node_data)"
   ]
  },
  {
   "cell_type": "code",
   "execution_count": null,
   "metadata": {},
   "outputs": [],
   "source": [
    "pred_network.to_csv('data/network/predicted_network/predicted_coword.csv')"
   ]
  },
  {
   "cell_type": "markdown",
   "metadata": {},
   "source": [
    "# 5. Predicted network analysis "
   ]
  },
  {
   "cell_type": "markdown",
   "metadata": {},
   "source": [
    "## 5-1. Network clustering"
   ]
  },
  {
   "cell_type": "markdown",
   "metadata": {},
   "source": [
    "Not clustering in all nodes.   \n",
    "\n",
    "\n",
    "If clustering in specific nodes(in original network), maybe it will return different output"
   ]
  },
  {
   "cell_type": "code",
   "execution_count": 90,
   "metadata": {},
   "outputs": [],
   "source": [
    "def node_selector(type) : \n",
    "    assert type in ['original', 'predicted']\n",
    "    \n",
    "    if type == 'original' :\n",
    "        node = pd.read_csv('data/network/coword_node/coword_node.csv')\n",
    "        node = list(node[node.Degree>=3].Id)\n",
    "\n",
    "        \n",
    "        \n",
    "    elif type == 'predicted' : \n",
    "        node = pd.read_csv('add after')\n",
    "        node = list(node.Id)\n",
    "\n",
    "\n",
    "    node_index_dict = {}\n",
    "    for i, node1 in enumerate(node_data) :\n",
    "        for _, node2 in enumerate(node) : \n",
    "            if node1 == node2 : \n",
    "                node_index_dict[node1] = i \n",
    "                continue\n",
    "\n",
    "    valualble_index = list(node_index_dict.values())\n",
    "    new_z = z[valualble_index, : ]\n",
    "    \n",
    "    return list(node_index_dict.keys()), new_z"
   ]
  },
  {
   "cell_type": "code",
   "execution_count": 94,
   "metadata": {},
   "outputs": [],
   "source": [
    "# Extract only nodes that exist in the current network from the entire vector\n",
    "current_nodes, current_vectors = node_selector('original')\n",
    "\n",
    "# clustering using kmeans\n",
    "embedding_vector = current_vectors.detach().numpy()\n",
    "kmeans = KMeans(n_clusters=15, random_state=1121).fit(embedding_vector)\n",
    "clusters = kmeans.labels_\n",
    "\n",
    "\n",
    "# assign cluster at nodes\n",
    "repo_cluster = {row : clusters[row_idx] for row_idx, row in enumerate(current_nodes)}\n",
    "repo_cluster = pd.DataFrame.from_dict(repo_cluster, orient='index')\n",
    "\n",
    "# change data type to dataframe \n",
    "repo_cluster.reset_index(inplace=True)\n",
    "repo_cluster.columns = ['Id', 'cluster']"
   ]
  },
  {
   "cell_type": "code",
   "execution_count": 95,
   "metadata": {},
   "outputs": [],
   "source": [
    "repo_cluster.to_csv('data/network/cluster/coword_cluster.csv', index=False)"
   ]
  },
  {
   "cell_type": "markdown",
   "metadata": {},
   "source": [
    "## 5-2. Visualize embeded nodes"
   ]
  },
  {
   "cell_type": "code",
   "execution_count": 96,
   "metadata": {},
   "outputs": [
    {
     "data": {
      "application/vnd.plotly.v1+json": {
       "config": {
        "plotlyServerURL": "https://plotly.com"
       },
       "data": [
        {
         "marker": {
          "color": [
           0,
           14,
           14,
           9,
           14,
           14,
           2,
           3,
           14,
           3,
           9,
           14,
           5,
           0,
           4,
           4,
           7,
           4,
           3,
           12,
           12,
           4,
           11,
           12,
           14,
           4,
           13,
           3,
           9,
           14,
           8,
           14,
           4,
           11,
           3,
           7,
           12,
           12,
           12,
           14,
           13,
           14,
           14,
           14,
           0,
           7,
           11,
           8,
           12,
           0,
           12,
           4,
           12,
           14,
           0,
           0,
           12,
           0,
           3,
           9,
           14,
           14,
           14,
           14,
           7,
           5,
           8,
           0,
           7,
           5,
           4,
           14,
           14,
           4,
           9,
           3,
           11,
           14,
           0,
           14,
           14,
           0,
           14,
           0,
           11,
           3,
           12,
           0,
           4,
           13,
           14,
           3,
           12,
           14,
           12,
           12,
           11,
           9,
           12,
           4,
           4,
           0,
           14,
           9,
           7,
           9,
           14,
           0,
           0,
           0,
           2,
           14,
           14,
           14,
           12,
           11,
           3,
           14,
           0,
           4,
           12,
           3,
           0,
           5,
           0,
           14,
           14,
           11,
           4,
           5,
           9,
           3,
           12,
           0,
           12,
           11,
           7,
           14,
           7,
           9,
           13,
           13,
           9,
           3,
           0,
           4,
           14,
           9,
           14,
           12,
           4,
           8,
           9,
           0,
           12,
           7,
           3,
           14,
           11,
           13,
           11,
           11,
           0,
           14,
           13,
           14,
           7,
           9,
           12,
           3,
           14,
           0,
           12,
           9,
           9,
           5,
           9,
           13,
           14,
           11,
           0,
           13,
           12,
           4,
           0,
           11,
           14,
           14,
           9,
           3,
           11,
           14,
           13,
           0,
           9,
           0,
           3,
           9,
           9,
           5,
           9,
           9,
           14,
           4,
           1,
           0,
           10,
           11,
           7,
           5,
           9,
           14,
           4,
           5,
           14,
           0,
           11,
           7,
           5,
           4,
           3,
           3,
           7,
           12,
           4,
           14,
           0,
           14,
           4,
           14,
           12,
           8,
           11,
           11,
           14,
           4,
           14,
           9,
           8,
           6,
           13,
           11,
           12,
           6,
           9,
           0,
           9,
           14,
           4,
           9,
           0,
           3,
           0,
           2,
           0,
           7,
           14,
           9,
           0,
           4,
           0,
           2,
           6,
           4,
           9,
           9,
           0,
           9,
           5,
           9,
           5,
           14,
           0,
           14,
           14,
           0,
           14,
           13,
           14,
           7,
           8,
           14,
           7,
           9,
           14,
           14,
           9,
           14,
           4,
           0
          ],
          "colorscale": [
           [
            0,
            "rgb(20, 29, 67)"
           ],
           [
            0.09090909090909091,
            "rgb(28, 72, 93)"
           ],
           [
            0.18181818181818182,
            "rgb(18, 115, 117)"
           ],
           [
            0.2727272727272727,
            "rgb(63, 156, 129)"
           ],
           [
            0.36363636363636365,
            "rgb(153, 189, 156)"
           ],
           [
            0.45454545454545453,
            "rgb(223, 225, 211)"
           ],
           [
            0.5454545454545454,
            "rgb(241, 218, 206)"
           ],
           [
            0.6363636363636364,
            "rgb(224, 160, 137)"
           ],
           [
            0.7272727272727273,
            "rgb(203, 101, 99)"
           ],
           [
            0.8181818181818182,
            "rgb(164, 54, 96)"
           ],
           [
            0.9090909090909091,
            "rgb(111, 23, 91)"
           ],
           [
            1,
            "rgb(51, 13, 53)"
           ]
          ]
         },
         "mode": "markers+text",
         "text": [
          "theano",
          "azure-machine-learning",
          "natural-language-generation",
          "caffe",
          "transfer-learning",
          "aml",
          "artificial-intelligence",
          "dae",
          "data-processing",
          "differential-equations",
          "edge-computing",
          "tool",
          "algorithms",
          "gluon",
          "word2vec",
          "lightgbm",
          "data-visualization",
          "graph",
          "pinn",
          "sentiment-analysis",
          "spacy",
          "timeseries",
          "id-card-camera",
          "awesome-list",
          "nlp-library",
          "r-package",
          "anomaly-detection",
          "delay-differential-equations",
          "video",
          "question-answering",
          "object-detection",
          "evaluation",
          "mlr3",
          "bot-framework",
          "pde",
          "classification",
          "aws",
          "tutorial",
          "annotation",
          "pandas-dataframe",
          "responsible-ai",
          "framework",
          "library",
          "rust",
          "hyperparameter-search",
          "pandas",
          "voice",
          "image-segmentation",
          "named-entity-recognition",
          "tensorflow-models",
          "azure",
          "cran",
          "prediction",
          "python-library",
          "neural-architecture-search",
          "graph-neural-networks",
          "text-analysis",
          "dqn",
          "scientific-ml",
          "reference-implementation",
          "c",
          "sagemaker",
          "microservices",
          "serving",
          "spark",
          "open-source",
          "dataset",
          "adversarial-examples",
          "clustering",
          "ios",
          "random-forest",
          "pypi",
          "scala",
          "distributed-computing",
          "intel",
          "scientific-machine-learning",
          "rasa",
          "h2o",
          "neptune-platform",
          "metrics",
          "ibm-research-ai",
          "simulation",
          "recommendation-system",
          "genetic-algorithm",
          "onboarding",
          "julia",
          "transformer",
          "self-driving-car",
          "hyperparameter-tuning",
          "interpretability",
          "models",
          "ordinary-differential-equations",
          "nlp-machine-learning",
          "gensim",
          "java",
          "natural-language-understanding",
          "rest-api",
          "cuda",
          "annotation-tool",
          "unsupervised-learning",
          "feature-engineering",
          "tensorflow-tutorials",
          "devops",
          "reproducibility",
          "data-analysis",
          "inference",
          "neptune",
          "parallel",
          "spiking-neural-networks",
          "autoencoder",
          "python",
          "python-package",
          "linear-regression",
          "kaggle",
          "bert",
          "projects",
          "dde",
          "search-engine",
          "bayesian-methods",
          "bayesian-optimization",
          "text-mining",
          "neural-ode",
          "examples",
          "opencv",
          "autograd",
          "pytorch-model",
          "gpt-2",
          "scanning-id-cards",
          "model-selection",
          "chatbot",
          "coreml",
          "partial-differential-equations",
          "embeddings",
          "tensor",
          "information-retrieval",
          "security",
          "pipeline",
          "fastai",
          "jupyter-notebook",
          "opencl",
          "interpretable-ai",
          "fairness-ai",
          "cpp",
          "sde",
          "gym",
          "stacking",
          "language-model",
          "artificial-neural-networks",
          "jupyterlab",
          "active-learning",
          "ensemble-learning",
          "gpu",
          "medical-image-processing",
          "quantum-computing",
          "numpy",
          "automl",
          "stochastic-differential-equations",
          "golang",
          "conversational-ai",
          "transparency",
          "id-scanning",
          "voice-commands",
          "tensorboard",
          "k8s",
          "fairness",
          "cloud",
          "scikit-learn",
          "yolo",
          "docker",
          "differential-algebraic-equations",
          "go",
          "automl-algorithms",
          "mlops",
          "live-demo",
          "data-augmentation",
          "speech-recognition",
          "feature-extraction",
          "fairness-ml",
          "cv",
          "kyc",
          "machine-translation",
          "interpretable-machine-learning",
          "text-classification",
          "bayesian-inference",
          "ppo",
          "dotnet",
          "automation",
          "opensource",
          "augmentation",
          "dynamical-systems",
          "nodejs",
          "semantic-search",
          "explainability",
          "reinforcement-learning-algorithms",
          "onnx",
          "neural-machine-translation",
          "scientific-ai",
          "neuroscience",
          "detection",
          "face-detection",
          "robotics",
          "neuroimaging",
          "reproducible-research",
          "time-series",
          "machine-learning",
          "generative-adversarial-network",
          "deep-learning",
          "typescript",
          "statistics",
          "image-processing",
          "pretrained-models",
          "workflow",
          "time-series-classification",
          "hacktoberfest2021",
          "mathematics",
          "openai",
          "text-to-speech",
          "r",
          "face-recognition",
          "collaborative-filtering",
          "automatic-differentiation",
          "neural-differential-equations",
          "xgboost",
          "kubernetes",
          "forecasting",
          "kubeflow",
          "floydhub",
          "kafka",
          "supervised-learning",
          "python2",
          "word-embeddings",
          "reinforcement-learning",
          "speech-to-text",
          "swift",
          "azureml",
          "probabilistic-programming",
          "database",
          "papers",
          "convolutional-neural-networks",
          "tensorflow",
          "iml",
          "react",
          "mxnet",
          "pytorch",
          "eeg",
          "adversarial-attacks",
          "real-time",
          "analytics",
          "decision-trees",
          "dnn",
          "recurrent-neural-networks",
          "ode",
          "jax",
          "data-science",
          "generative-model",
          "regression",
          "csharp",
          "medical-imaging",
          "cython",
          "linear-algebra",
          "pytorch-lightning",
          "natural-language-processing",
          "computer-vision",
          "dataframe",
          "openvino",
          "pose-estimation",
          "benchmarking",
          "keras-tensorflow",
          "android",
          "image-classification",
          "javascript",
          "cloud-native",
          "research",
          "natural-language",
          "recommendation-engine",
          "flux",
          "distributed-systems",
          "explainable-ai",
          "deployment",
          "data-mining",
          "keras",
          "data",
          "bigdata",
          "image-recognition",
          "developer-tools",
          "book",
          "tensorflow-examples",
          "search",
          "hyperparameter-optimization",
          "ros"
         ],
         "textfont": {
          "size": 7
         },
         "textposition": "bottom center",
         "type": "scatter",
         "x": [
          3.2382099628448486,
          -6.172144889831543,
          -3.7264835834503174,
          9.478732109069824,
          -2.191324234008789,
          -1.9843316078186035,
          14.852560997009277,
          -1.3326836824417114,
          -3.920804500579834,
          -0.1549576073884964,
          11.24587345123291,
          -0.6723279356956482,
          6.093222141265869,
          3.763667106628418,
          -10.699110984802246,
          -10.560140609741211,
          -14.61513614654541,
          5.745901584625244,
          -1.2540128231048584,
          -10.02685546875,
          -12.142855644226074,
          -7.3445587158203125,
          0.06837387382984161,
          -7.241017818450928,
          -3.3957908153533936,
          -4.670438766479492,
          -8.60513973236084,
          -0.9813981652259827,
          11.592310905456543,
          -5.642324447631836,
          11.96418571472168,
          0.42328113317489624,
          -3.9080216884613037,
          2.5793473720550537,
          -0.32796040177345276,
          -15.315906524658203,
          -9.435518264770508,
          3.4407269954681396,
          -10.551711082458496,
          -4.3827338218688965,
          7.990349292755127,
          0.6777644753456116,
          -2.363471031188965,
          -2.8512163162231445,
          -0.15686647593975067,
          -12.705098152160645,
          1.7352722883224487,
          10.997481346130371,
          -11.650691032409668,
          3.1951258182525635,
          -9.37644100189209,
          -4.6755452156066895,
          -11.251785278320312,
          -1.0939892530441284,
          2.2782509326934814,
          5.6613664627075195,
          -9.601977348327637,
          8.331398963928223,
          -1.585709571838379,
          8.262872695922852,
          -0.19703999161720276,
          -6.916370391845703,
          -4.761608600616455,
          -2.8934342861175537,
          -15.341126441955566,
          5.878220558166504,
          -15.605016708374023,
          3.64864444732666,
          -12.374690055847168,
          5.299691677093506,
          -9.044150352478027,
          -2.4838478565216064,
          -7.740435600280762,
          -11.303995132446289,
          7.6707587242126465,
          0.5757150053977966,
          2.5788886547088623,
          -6.075530529022217,
          -1.6797091960906982,
          -3.548077344894409,
          -2.5242276191711426,
          7.973177433013916,
          -6.095411777496338,
          2.747706651687622,
          -0.3889451026916504,
          -0.0360698401927948,
          -12.306591987609863,
          7.1783928871154785,
          -1.2657192945480347,
          8.055333137512207,
          -3.4658660888671875,
          -0.1566743552684784,
          -8.35736083984375,
          -5.174091815948486,
          -9.627467155456543,
          -12.832784652709961,
          2.114349365234375,
          11.375536918640137,
          -10.490952491760254,
          -9.767455101013184,
          -10.03044605255127,
          7.734616279602051,
          -4.997995853424072,
          1.5667707920074463,
          -13.595803260803223,
          10.48331356048584,
          -3.2836480140686035,
          0.2949254512786865,
          1.3465843200683594,
          4.633133888244629,
          15.463432312011719,
          -2.4813194274902344,
          -5.494879245758057,
          -0.8139073252677917,
          -12.376228332519531,
          1.5660783052444458,
          -0.7010644674301147,
          -4.827901840209961,
          -0.10999614745378494,
          -0.3538389801979065,
          -10.604803085327148,
          0.1110374927520752,
          1.0398871898651123,
          8.061028480529785,
          2.7400243282318115,
          0.04422180727124214,
          -5.984179496765137,
          0.2075107991695404,
          -5.0960469245910645,
          7.326322555541992,
          0.6782310605049133,
          -0.8148760795593262,
          -10.995474815368652,
          11.246066093444824,
          -8.397659301757812,
          -4.284734725952148,
          -12.479715347290039,
          -1.331739068031311,
          -15.98434066772461,
          11.642491340637207,
          9.53691577911377,
          7.615569591522217,
          11.820751190185547,
          -0.8997765183448792,
          6.942150115966797,
          -4.843585014343262,
          -4.966704368591309,
          2.001750946044922,
          -3.9469218254089355,
          -10.748955726623535,
          -5.397646427154541,
          4.618191242218018,
          6.516973495483398,
          3.7263801097869873,
          2.724717378616333,
          -13.356167793273926,
          -1.691925048828125,
          -2.3897433280944824,
          2.772758960723877,
          9.221973419189453,
          0.07037868350744247,
          1.5581693649291992,
          2.418703079223633,
          -1.135120153427124,
          8.018378257751465,
          -4.992353439331055,
          -15.812728881835938,
          8.12177562713623,
          -10.381991386413574,
          -1.9438813924789429,
          -2.261579751968384,
          -1.2149198055267334,
          -10.953189849853516,
          8.344498634338379,
          7.24030876159668,
          4.167174816131592,
          5.811069965362549,
          7.557183742523193,
          0.5938982963562012,
          -0.35535722970962524,
          -0.4095342755317688,
          9.046127319335938,
          -12.660332679748535,
          -0.46251779794692993,
          8.218093872070312,
          -0.17750686407089233,
          -7.06783390045166,
          -7.496103763580322,
          7.234121799468994,
          -0.47824627161026,
          -3.5005156993865967,
          -4.416593551635742,
          8.813060760498047,
          3.924973964691162,
          10.115795135498047,
          -0.17795319855213165,
          -1.8393412828445435,
          5.468067646026611,
          11.464680671691895,
          7.075139999389648,
          9.210382461547852,
          5.774282932281494,
          1.0590192079544067,
          -8.034379005432129,
          16.820833206176758,
          6.783874034881592,
          16.446104049682617,
          -0.7655653357505798,
          -13.2287015914917,
          10.588135719299316,
          8.56180477142334,
          -4.599361896514893,
          -5.861013889312744,
          5.864449977874756,
          -1.1221809387207031,
          4.922133445739746,
          2.9106926918029785,
          -12.461991310119629,
          6.980459213256836,
          -1.8883013725280762,
          0.5302996039390564,
          -1.1522189378738403,
          -11.67615795135498,
          -11.025339126586914,
          -7.577676296234131,
          -5.611132621765137,
          1.1468294858932495,
          -4.198868274688721,
          -8.910103797912598,
          -3.0350677967071533,
          -9.412917137145996,
          13.923147201538086,
          2.443646192550659,
          0.6174066066741943,
          -2.3699951171875,
          -0.23742540180683136,
          -6.467918395996094,
          6.595697402954102,
          12.115571022033691,
          14.612855911254883,
          9.049864768981934,
          -3.5608158111572266,
          3.4470558166503906,
          14.653100967407227,
          5.46832275390625,
          3.6283018589019775,
          10.232908248901367,
          -6.479358196258545,
          -9.226249694824219,
          6.057379245758057,
          2.5604658126831055,
          -0.12050298601388931,
          2.599985361099243,
          -17.658584594726562,
          5.528197288513184,
          -12.265825271606445,
          -0.45100927352905273,
          8.125746726989746,
          0.8647321462631226,
          1.50325345993042,
          1.8270599842071533,
          14.700114250183105,
          13.785651206970215,
          -7.481203079223633,
          8.090447425842285,
          10.110299110412598,
          3.3303661346435547,
          7.51190185546875,
          5.7217183113098145,
          9.101731300354004,
          5.322432518005371,
          -3.9657328128814697,
          3.858471393585205,
          -4.34779691696167,
          -6.23592472076416,
          0.6079691052436829,
          -6.320492267608643,
          7.844205379486084,
          -4.737504959106445,
          -13.456379890441895,
          13.5115385055542,
          -1.6358308792114258,
          -15.23960018157959,
          11.041825294494629,
          -0.669185996055603,
          -4.424764156341553,
          6.532005786895752,
          -5.778453350067139,
          -2.369865894317627,
          8.248515129089355
         ],
         "y": [
          3.6252317428588867,
          1.3051354885101318,
          -0.27540338039398193,
          -4.517827033996582,
          -1.0164296627044678,
          5.600561618804932,
          -13.19861125946045,
          21.157461166381836,
          -1.2745652198791504,
          22.232189178466797,
          -6.627106666564941,
          -4.885823726654053,
          -11.305716514587402,
          3.479022979736328,
          1.7294732332229614,
          5.986236572265625,
          3.79146409034729,
          8.653273582458496,
          17.584835052490234,
          -2.265700101852417,
          -4.0694899559021,
          10.427738189697266,
          -15.612260818481445,
          -6.5474748611450195,
          -0.13729171454906464,
          9.492297172546387,
          3.918900489807129,
          18.87911605834961,
          -5.700394153594971,
          -1.2534325122833252,
          -9.961167335510254,
          -1.0422163009643555,
          8.992086410522461,
          -16.09492301940918,
          18.6170654296875,
          2.4947350025177,
          -6.97905158996582,
          -2.2551627159118652,
          -4.351433277130127,
          3.9032068252563477,
          13.216851234436035,
          -5.338102340698242,
          1.2086604833602905,
          -6.976049423217773,
          8.277375221252441,
          3.369568347930908,
          -14.837382316589355,
          -10.56067180633545,
          -3.0436456203460693,
          4.543837547302246,
          -6.772658824920654,
          9.720304489135742,
          0.6426882743835449,
          -2.420548915863037,
          5.707489013671875,
          8.477927207946777,
          -2.2759182453155518,
          3.7194018363952637,
          18.51780128479004,
          -1.3543503284454346,
          -6.7518415451049805,
          1.4089782238006592,
          -8.240708351135254,
          2.342987537384033,
          6.363648414611816,
          -11.997794151306152,
          1.2408671379089355,
          -5.080493450164795,
          4.775932312011719,
          -15.521339416503906,
          6.355414390563965,
          -4.717945098876953,
          5.348462104797363,
          8.172842025756836,
          -1.529100775718689,
          22.697351455688477,
          -16.13913345336914,
          4.838721752166748,
          4.606236457824707,
          -2.697904348373413,
          3.691561698913574,
          5.495415687561035,
          -3.7689175605773926,
          9.94210147857666,
          -14.92068099975586,
          12.88659954071045,
          -0.6803144216537476,
          1.975477695465088,
          9.940757751464844,
          15.616052627563477,
          1.8498740196228027,
          19.81157684326172,
          -1.807359218597412,
          0.16816683113574982,
          -9.445384979248047,
          -4.570794582366943,
          -10.300894737243652,
          -0.018539173528552055,
          -3.7518727779388428,
          8.317055702209473,
          6.626581192016602,
          0.13202063739299774,
          -9.345861434936523,
          -2.7144155502319336,
          5.355179786682129,
          -6.5400390625,
          4.431093215942383,
          8.28984546661377,
          5.786814212799072,
          2.5710930824279785,
          -13.554372787475586,
          -4.626776218414307,
          2.8037614822387695,
          -2.7653615474700928,
          -1.1008981466293335,
          -11.380435943603516,
          20.613027572631836,
          -6.7772064208984375,
          6.933156490325928,
          10.202077865600586,
          -1.944581389427185,
          20.55451011657715,
          -0.03792814165353775,
          -13.194503784179688,
          7.838157653808594,
          -3.0706992149353027,
          -1.4327291250228882,
          -15.209461212158203,
          5.544595241546631,
          -16.0539608001709,
          -18.00404930114746,
          19.46446990966797,
          1.1322163343429565,
          0.7568407654762268,
          -1.690442681312561,
          -12.546846389770508,
          5.908441543579102,
          -0.25491228699684143,
          1.9109240770339966,
          -0.6736190915107727,
          13.635669708251953,
          14.037111282348633,
          -2.796210765838623,
          21.70541763305664,
          4.977184295654297,
          7.795109272003174,
          -1.167707085609436,
          0.160705104470253,
          2.660989999771118,
          -3.6222426891326904,
          6.951504707336426,
          -2.9935946464538574,
          -7.749574661254883,
          8.129460334777832,
          -1.9670401811599731,
          7.944934844970703,
          20.55875587463379,
          -8.771214485168457,
          -15.295279502868652,
          13.014289855957031,
          -14.769596099853516,
          -15.098104476928711,
          4.733368396759033,
          3.6975655555725098,
          14.614609718322754,
          -8.496789932250977,
          2.843325138092041,
          -3.3194963932037354,
          -8.937752723693848,
          19.659074783325195,
          -8.376699447631836,
          6.23612642288208,
          -7.5608649253845215,
          -1.4232419729232788,
          -6.017819404602051,
          -14.229275703430176,
          -4.762450218200684,
          13.506326675415039,
          -3.81523060798645,
          -15.476838111877441,
          1.4287868738174438,
          14.555716514587402,
          -3.6009600162506104,
          12.144388198852539,
          3.6212828159332275,
          -9.025983810424805,
          -7.779914379119873,
          -9.114141464233398,
          -6.086142539978027,
          17.343835830688477,
          -12.84725570678711,
          -6.656196594238281,
          13.456009864807129,
          5.669498920440674,
          -5.026665687561035,
          1.5856091976165771,
          18.988544464111328,
          -7.689887523651123,
          -4.8782124519348145,
          -13.678439140319824,
          5.0554399490356445,
          -7.499011039733887,
          -2.7052202224731445,
          10.509536743164062,
          -13.650710105895996,
          3.179605484008789,
          -13.528436660766602,
          -11.419222831726074,
          6.680136680603027,
          -10.85001277923584,
          -2.30873441696167,
          -5.640047073364258,
          9.515068054199219,
          -11.8190279006958,
          -5.965675354003906,
          5.010509490966797,
          -14.586904525756836,
          7.418953895568848,
          -13.752738952636719,
          8.177314758300781,
          13.077361106872559,
          20.001955032348633,
          6.035670280456543,
          -8.13124942779541,
          10.523390769958496,
          -5.303318977355957,
          3.6483495235443115,
          -9.279167175292969,
          1.8421921730041504,
          4.9268879890441895,
          -1.0616015195846558,
          -9.521403312683105,
          -10.757080078125,
          -17.666967391967773,
          5.895536422729492,
          11.298937797546387,
          -8.943384170532227,
          1.3840820789337158,
          -10.090957641601562,
          -12.48843002319336,
          14.064131736755371,
          -12.898704528808594,
          -1.8652825355529785,
          -12.034435272216797,
          -7.813908576965332,
          -5.103384971618652,
          -4.0634965896606445,
          -10.854531288146973,
          6.973217010498047,
          -1.8865182399749756,
          2.317349672317505,
          21.278337478637695,
          6.368869304656982,
          1.663396954536438,
          4.200925827026367,
          8.027194023132324,
          -5.79402494430542,
          -7.254735946655273,
          3.305065393447876,
          8.832873344421387,
          2.313521385192871,
          -13.816023826599121,
          -11.992033004760742,
          5.560554504394531,
          -1.7718696594238281,
          -3.3608579635620117,
          1.436320424079895,
          -3.586637496948242,
          -15.054641723632812,
          -5.617323398590088,
          -12.758927345275879,
          -7.11302375793457,
          0.45216912031173706,
          0.470367431640625,
          -3.762225866317749,
          6.698967456817627,
          -10.122757911682129,
          16.600963592529297,
          1.7276777029037476,
          4.907790184020996,
          -10.061671257019043,
          -2.4927682876586914,
          6.197647571563721,
          -5.895704746246338,
          -10.083327293395996,
          -2.4309608936309814,
          -1.2943419218063354,
          -7.650805950164795,
          12.389857292175293,
          4.934213638305664
         ]
        }
       ],
       "layout": {
        "height": 1000,
        "template": {
         "data": {
          "bar": [
           {
            "error_x": {
             "color": "#2a3f5f"
            },
            "error_y": {
             "color": "#2a3f5f"
            },
            "marker": {
             "line": {
              "color": "#E5ECF6",
              "width": 0.5
             },
             "pattern": {
              "fillmode": "overlay",
              "size": 10,
              "solidity": 0.2
             }
            },
            "type": "bar"
           }
          ],
          "barpolar": [
           {
            "marker": {
             "line": {
              "color": "#E5ECF6",
              "width": 0.5
             },
             "pattern": {
              "fillmode": "overlay",
              "size": 10,
              "solidity": 0.2
             }
            },
            "type": "barpolar"
           }
          ],
          "carpet": [
           {
            "aaxis": {
             "endlinecolor": "#2a3f5f",
             "gridcolor": "white",
             "linecolor": "white",
             "minorgridcolor": "white",
             "startlinecolor": "#2a3f5f"
            },
            "baxis": {
             "endlinecolor": "#2a3f5f",
             "gridcolor": "white",
             "linecolor": "white",
             "minorgridcolor": "white",
             "startlinecolor": "#2a3f5f"
            },
            "type": "carpet"
           }
          ],
          "choropleth": [
           {
            "colorbar": {
             "outlinewidth": 0,
             "ticks": ""
            },
            "type": "choropleth"
           }
          ],
          "contour": [
           {
            "colorbar": {
             "outlinewidth": 0,
             "ticks": ""
            },
            "colorscale": [
             [
              0,
              "#0d0887"
             ],
             [
              0.1111111111111111,
              "#46039f"
             ],
             [
              0.2222222222222222,
              "#7201a8"
             ],
             [
              0.3333333333333333,
              "#9c179e"
             ],
             [
              0.4444444444444444,
              "#bd3786"
             ],
             [
              0.5555555555555556,
              "#d8576b"
             ],
             [
              0.6666666666666666,
              "#ed7953"
             ],
             [
              0.7777777777777778,
              "#fb9f3a"
             ],
             [
              0.8888888888888888,
              "#fdca26"
             ],
             [
              1,
              "#f0f921"
             ]
            ],
            "type": "contour"
           }
          ],
          "contourcarpet": [
           {
            "colorbar": {
             "outlinewidth": 0,
             "ticks": ""
            },
            "type": "contourcarpet"
           }
          ],
          "heatmap": [
           {
            "colorbar": {
             "outlinewidth": 0,
             "ticks": ""
            },
            "colorscale": [
             [
              0,
              "#0d0887"
             ],
             [
              0.1111111111111111,
              "#46039f"
             ],
             [
              0.2222222222222222,
              "#7201a8"
             ],
             [
              0.3333333333333333,
              "#9c179e"
             ],
             [
              0.4444444444444444,
              "#bd3786"
             ],
             [
              0.5555555555555556,
              "#d8576b"
             ],
             [
              0.6666666666666666,
              "#ed7953"
             ],
             [
              0.7777777777777778,
              "#fb9f3a"
             ],
             [
              0.8888888888888888,
              "#fdca26"
             ],
             [
              1,
              "#f0f921"
             ]
            ],
            "type": "heatmap"
           }
          ],
          "heatmapgl": [
           {
            "colorbar": {
             "outlinewidth": 0,
             "ticks": ""
            },
            "colorscale": [
             [
              0,
              "#0d0887"
             ],
             [
              0.1111111111111111,
              "#46039f"
             ],
             [
              0.2222222222222222,
              "#7201a8"
             ],
             [
              0.3333333333333333,
              "#9c179e"
             ],
             [
              0.4444444444444444,
              "#bd3786"
             ],
             [
              0.5555555555555556,
              "#d8576b"
             ],
             [
              0.6666666666666666,
              "#ed7953"
             ],
             [
              0.7777777777777778,
              "#fb9f3a"
             ],
             [
              0.8888888888888888,
              "#fdca26"
             ],
             [
              1,
              "#f0f921"
             ]
            ],
            "type": "heatmapgl"
           }
          ],
          "histogram": [
           {
            "marker": {
             "pattern": {
              "fillmode": "overlay",
              "size": 10,
              "solidity": 0.2
             }
            },
            "type": "histogram"
           }
          ],
          "histogram2d": [
           {
            "colorbar": {
             "outlinewidth": 0,
             "ticks": ""
            },
            "colorscale": [
             [
              0,
              "#0d0887"
             ],
             [
              0.1111111111111111,
              "#46039f"
             ],
             [
              0.2222222222222222,
              "#7201a8"
             ],
             [
              0.3333333333333333,
              "#9c179e"
             ],
             [
              0.4444444444444444,
              "#bd3786"
             ],
             [
              0.5555555555555556,
              "#d8576b"
             ],
             [
              0.6666666666666666,
              "#ed7953"
             ],
             [
              0.7777777777777778,
              "#fb9f3a"
             ],
             [
              0.8888888888888888,
              "#fdca26"
             ],
             [
              1,
              "#f0f921"
             ]
            ],
            "type": "histogram2d"
           }
          ],
          "histogram2dcontour": [
           {
            "colorbar": {
             "outlinewidth": 0,
             "ticks": ""
            },
            "colorscale": [
             [
              0,
              "#0d0887"
             ],
             [
              0.1111111111111111,
              "#46039f"
             ],
             [
              0.2222222222222222,
              "#7201a8"
             ],
             [
              0.3333333333333333,
              "#9c179e"
             ],
             [
              0.4444444444444444,
              "#bd3786"
             ],
             [
              0.5555555555555556,
              "#d8576b"
             ],
             [
              0.6666666666666666,
              "#ed7953"
             ],
             [
              0.7777777777777778,
              "#fb9f3a"
             ],
             [
              0.8888888888888888,
              "#fdca26"
             ],
             [
              1,
              "#f0f921"
             ]
            ],
            "type": "histogram2dcontour"
           }
          ],
          "mesh3d": [
           {
            "colorbar": {
             "outlinewidth": 0,
             "ticks": ""
            },
            "type": "mesh3d"
           }
          ],
          "parcoords": [
           {
            "line": {
             "colorbar": {
              "outlinewidth": 0,
              "ticks": ""
             }
            },
            "type": "parcoords"
           }
          ],
          "pie": [
           {
            "automargin": true,
            "type": "pie"
           }
          ],
          "scatter": [
           {
            "marker": {
             "colorbar": {
              "outlinewidth": 0,
              "ticks": ""
             }
            },
            "type": "scatter"
           }
          ],
          "scatter3d": [
           {
            "line": {
             "colorbar": {
              "outlinewidth": 0,
              "ticks": ""
             }
            },
            "marker": {
             "colorbar": {
              "outlinewidth": 0,
              "ticks": ""
             }
            },
            "type": "scatter3d"
           }
          ],
          "scattercarpet": [
           {
            "marker": {
             "colorbar": {
              "outlinewidth": 0,
              "ticks": ""
             }
            },
            "type": "scattercarpet"
           }
          ],
          "scattergeo": [
           {
            "marker": {
             "colorbar": {
              "outlinewidth": 0,
              "ticks": ""
             }
            },
            "type": "scattergeo"
           }
          ],
          "scattergl": [
           {
            "marker": {
             "colorbar": {
              "outlinewidth": 0,
              "ticks": ""
             }
            },
            "type": "scattergl"
           }
          ],
          "scattermapbox": [
           {
            "marker": {
             "colorbar": {
              "outlinewidth": 0,
              "ticks": ""
             }
            },
            "type": "scattermapbox"
           }
          ],
          "scatterpolar": [
           {
            "marker": {
             "colorbar": {
              "outlinewidth": 0,
              "ticks": ""
             }
            },
            "type": "scatterpolar"
           }
          ],
          "scatterpolargl": [
           {
            "marker": {
             "colorbar": {
              "outlinewidth": 0,
              "ticks": ""
             }
            },
            "type": "scatterpolargl"
           }
          ],
          "scatterternary": [
           {
            "marker": {
             "colorbar": {
              "outlinewidth": 0,
              "ticks": ""
             }
            },
            "type": "scatterternary"
           }
          ],
          "surface": [
           {
            "colorbar": {
             "outlinewidth": 0,
             "ticks": ""
            },
            "colorscale": [
             [
              0,
              "#0d0887"
             ],
             [
              0.1111111111111111,
              "#46039f"
             ],
             [
              0.2222222222222222,
              "#7201a8"
             ],
             [
              0.3333333333333333,
              "#9c179e"
             ],
             [
              0.4444444444444444,
              "#bd3786"
             ],
             [
              0.5555555555555556,
              "#d8576b"
             ],
             [
              0.6666666666666666,
              "#ed7953"
             ],
             [
              0.7777777777777778,
              "#fb9f3a"
             ],
             [
              0.8888888888888888,
              "#fdca26"
             ],
             [
              1,
              "#f0f921"
             ]
            ],
            "type": "surface"
           }
          ],
          "table": [
           {
            "cells": {
             "fill": {
              "color": "#EBF0F8"
             },
             "line": {
              "color": "white"
             }
            },
            "header": {
             "fill": {
              "color": "#C8D4E3"
             },
             "line": {
              "color": "white"
             }
            },
            "type": "table"
           }
          ]
         },
         "layout": {
          "annotationdefaults": {
           "arrowcolor": "#2a3f5f",
           "arrowhead": 0,
           "arrowwidth": 1
          },
          "autotypenumbers": "strict",
          "coloraxis": {
           "colorbar": {
            "outlinewidth": 0,
            "ticks": ""
           }
          },
          "colorscale": {
           "diverging": [
            [
             0,
             "#8e0152"
            ],
            [
             0.1,
             "#c51b7d"
            ],
            [
             0.2,
             "#de77ae"
            ],
            [
             0.3,
             "#f1b6da"
            ],
            [
             0.4,
             "#fde0ef"
            ],
            [
             0.5,
             "#f7f7f7"
            ],
            [
             0.6,
             "#e6f5d0"
            ],
            [
             0.7,
             "#b8e186"
            ],
            [
             0.8,
             "#7fbc41"
            ],
            [
             0.9,
             "#4d9221"
            ],
            [
             1,
             "#276419"
            ]
           ],
           "sequential": [
            [
             0,
             "#0d0887"
            ],
            [
             0.1111111111111111,
             "#46039f"
            ],
            [
             0.2222222222222222,
             "#7201a8"
            ],
            [
             0.3333333333333333,
             "#9c179e"
            ],
            [
             0.4444444444444444,
             "#bd3786"
            ],
            [
             0.5555555555555556,
             "#d8576b"
            ],
            [
             0.6666666666666666,
             "#ed7953"
            ],
            [
             0.7777777777777778,
             "#fb9f3a"
            ],
            [
             0.8888888888888888,
             "#fdca26"
            ],
            [
             1,
             "#f0f921"
            ]
           ],
           "sequentialminus": [
            [
             0,
             "#0d0887"
            ],
            [
             0.1111111111111111,
             "#46039f"
            ],
            [
             0.2222222222222222,
             "#7201a8"
            ],
            [
             0.3333333333333333,
             "#9c179e"
            ],
            [
             0.4444444444444444,
             "#bd3786"
            ],
            [
             0.5555555555555556,
             "#d8576b"
            ],
            [
             0.6666666666666666,
             "#ed7953"
            ],
            [
             0.7777777777777778,
             "#fb9f3a"
            ],
            [
             0.8888888888888888,
             "#fdca26"
            ],
            [
             1,
             "#f0f921"
            ]
           ]
          },
          "colorway": [
           "#636efa",
           "#EF553B",
           "#00cc96",
           "#ab63fa",
           "#FFA15A",
           "#19d3f3",
           "#FF6692",
           "#B6E880",
           "#FF97FF",
           "#FECB52"
          ],
          "font": {
           "color": "#2a3f5f"
          },
          "geo": {
           "bgcolor": "white",
           "lakecolor": "white",
           "landcolor": "#E5ECF6",
           "showlakes": true,
           "showland": true,
           "subunitcolor": "white"
          },
          "hoverlabel": {
           "align": "left"
          },
          "hovermode": "closest",
          "mapbox": {
           "style": "light"
          },
          "paper_bgcolor": "white",
          "plot_bgcolor": "#E5ECF6",
          "polar": {
           "angularaxis": {
            "gridcolor": "white",
            "linecolor": "white",
            "ticks": ""
           },
           "bgcolor": "#E5ECF6",
           "radialaxis": {
            "gridcolor": "white",
            "linecolor": "white",
            "ticks": ""
           }
          },
          "scene": {
           "xaxis": {
            "backgroundcolor": "#E5ECF6",
            "gridcolor": "white",
            "gridwidth": 2,
            "linecolor": "white",
            "showbackground": true,
            "ticks": "",
            "zerolinecolor": "white"
           },
           "yaxis": {
            "backgroundcolor": "#E5ECF6",
            "gridcolor": "white",
            "gridwidth": 2,
            "linecolor": "white",
            "showbackground": true,
            "ticks": "",
            "zerolinecolor": "white"
           },
           "zaxis": {
            "backgroundcolor": "#E5ECF6",
            "gridcolor": "white",
            "gridwidth": 2,
            "linecolor": "white",
            "showbackground": true,
            "ticks": "",
            "zerolinecolor": "white"
           }
          },
          "shapedefaults": {
           "line": {
            "color": "#2a3f5f"
           }
          },
          "ternary": {
           "aaxis": {
            "gridcolor": "white",
            "linecolor": "white",
            "ticks": ""
           },
           "baxis": {
            "gridcolor": "white",
            "linecolor": "white",
            "ticks": ""
           },
           "bgcolor": "#E5ECF6",
           "caxis": {
            "gridcolor": "white",
            "linecolor": "white",
            "ticks": ""
           }
          },
          "title": {
           "x": 0.05
          },
          "xaxis": {
           "automargin": true,
           "gridcolor": "white",
           "linecolor": "white",
           "ticks": "",
           "title": {
            "standoff": 15
           },
           "zerolinecolor": "white",
           "zerolinewidth": 2
          },
          "yaxis": {
           "automargin": true,
           "gridcolor": "white",
           "linecolor": "white",
           "ticks": "",
           "title": {
            "standoff": 15
           },
           "zerolinecolor": "white",
           "zerolinewidth": 2
          }
         }
        },
        "width": 1600
       }
      }
     },
     "metadata": {},
     "output_type": "display_data"
    }
   ],
   "source": [
    "# Extract only nodes that exist in the current network from the entire vector\n",
    "current_nodes, current_vectors = node_selector('original')\n",
    "\n",
    "# Reduce vectors to 2D for visualization\n",
    "current_tsne = TSNE(n_components=2).fit_transform(current_vectors.detach().numpy())\n",
    "\n",
    "# visualize \n",
    "fig = go.Figure()\n",
    "fig.add_trace(go.Scatter(x=current_tsne[:,0], y=current_tsne[:,1], text=current_nodes, textposition=\"bottom center\",\n",
    "                    marker=dict(color=clusters, colorscale='curl'), textfont=dict(size=7), mode='markers+text'))\n",
    "\n",
    "fig.update_layout(width=1600, height=1000)\n",
    "\n",
    "fig.show()"
   ]
  },
  {
   "cell_type": "markdown",
   "metadata": {},
   "source": [
    "## 5-3. Extract sub-network"
   ]
  },
  {
   "cell_type": "code",
   "execution_count": null,
   "metadata": {},
   "outputs": [],
   "source": [
    "# extract in original network\n",
    "for i in np.unique(repo_cluster.cluster) :\n",
    "    word_per_cluster = list(repo_cluster[repo_cluster.cluster==i]['Id'])\n",
    "    small_network = original.loc[word_per_cluster, word_per_cluster]\n",
    "    for j in range(len(small_network)) :\n",
    "        small_network.iloc[j, j] = 0\n",
    "    small_network.to_csv('data/network/normalized_coword_subnetwork/{}_subnetwork.csv'.format(i))"
   ]
  },
  {
   "cell_type": "code",
   "execution_count": null,
   "metadata": {},
   "outputs": [],
   "source": []
  }
 ],
 "metadata": {
  "interpreter": {
   "hash": "b9c1b964bfdaeba97df143313eacb83cb2a089d6aaed4d2c190fe89571ac71de"
  },
  "kernelspec": {
   "display_name": "Python 3.8.11 64-bit ('research': conda)",
   "name": "python3"
  },
  "language_info": {
   "codemirror_mode": {
    "name": "ipython",
    "version": 3
   },
   "file_extension": ".py",
   "mimetype": "text/x-python",
   "name": "python",
   "nbconvert_exporter": "python",
   "pygments_lexer": "ipython3",
   "version": "3.8.11"
  },
  "orig_nbformat": 4
 },
 "nbformat": 4,
 "nbformat_minor": 2
}
