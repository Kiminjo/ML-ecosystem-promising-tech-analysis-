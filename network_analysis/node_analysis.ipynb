{
 "cells": [
  {
   "cell_type": "code",
   "execution_count": 1,
   "source": [
    "import pandas as pd\n",
    "import plotly.graph_objects as go\n",
    "from plotly.subplots import make_subplots\n",
    "import chart_studio\n",
    "from chart_studio.plotly import plot\n"
   ],
   "outputs": [],
   "metadata": {}
  },
  {
   "cell_type": "markdown",
   "source": [
    "# 1. Coword 네트워크 분석"
   ],
   "metadata": {}
  },
  {
   "cell_type": "markdown",
   "source": [
    "머신러닝 관련 저장소의 토픽을 이용하여 토픽네트워크를 구축한 후, 커뮤니티 탐지 기법을 적용한 결과 머신러닝 주요 기술로 분류가 되었다. \n",
    "\n",
    "대표적으로 'machine learning and appliation', 'deep learning and application', 'natural language processing' 과 같은 기술군으로 분류가 되었다. 이는 유의미하나 너무 포괄적인 정보를 나타내는 경향이 있다. \n",
    "\n",
    "본 코드에서는 각 키워드의 중앙성을 분석하여, 특정 기술군에서 특히 중요한 기술들을 분류하고, 규모가 큰 기술군에 대해 hirecical한 분류를 진행한다."
   ],
   "metadata": {}
  },
  {
   "cell_type": "code",
   "execution_count": 2,
   "source": [
    "data = pd.read_csv('data/network/node_table.csv')"
   ],
   "outputs": [],
   "metadata": {}
  },
  {
   "cell_type": "code",
   "execution_count": 3,
   "source": [
    "data"
   ],
   "outputs": [
    {
     "output_type": "execute_result",
     "data": {
      "text/plain": [
       "                   Id             Label  timeset  modularity_class  \\\n",
       "0                 git               git      NaN                 0   \n",
       "1    machine-learning  machine-learning      NaN                 0   \n",
       "2       data-analysis     data-analysis      NaN                 1   \n",
       "3          statistics        statistics      NaN                 1   \n",
       "4             bigdata           bigdata      NaN                 0   \n",
       "..                ...               ...      ...               ...   \n",
       "752   encoder-decoder   encoder-decoder      NaN                 0   \n",
       "753          deepface          deepface      NaN                 0   \n",
       "754     neural-search     neural-search      NaN                 0   \n",
       "755          max78000          max78000      NaN                 0   \n",
       "756    analog-devices    analog-devices      NaN                 0   \n",
       "\n",
       "     Eccentricity  closnesscentrality  harmonicclosnesscentrality  \\\n",
       "0               0            0.000000                    0.000000   \n",
       "1               2            0.950980                    0.974227   \n",
       "2               3            0.500861                    0.515464   \n",
       "3               3            0.503460                    0.520619   \n",
       "4               3            0.498288                    0.510309   \n",
       "..            ...                 ...                         ...   \n",
       "752             0            0.000000                    0.000000   \n",
       "753             0            0.000000                    0.000000   \n",
       "754             0            0.000000                    0.000000   \n",
       "755             0            0.000000                    0.000000   \n",
       "756             0            0.000000                    0.000000   \n",
       "\n",
       "     betweenesscentrality  Degree  Weighted Degree  clustering  triangles  \\\n",
       "0                0.000000       0                0    0.000000          0   \n",
       "1                0.504970     276            10528    0.030303       1150   \n",
       "2                0.000091      13              224    0.730769         57   \n",
       "3                0.000148      16              242    0.691667         83   \n",
       "4                0.000034      10              158    0.800000         36   \n",
       "..                    ...     ...              ...         ...        ...   \n",
       "752              0.000000       0                0    0.000000          0   \n",
       "753              0.000000       0                0    0.000000          0   \n",
       "754              0.000000       0                0    0.000000          0   \n",
       "755              0.000000       0                0    0.000000          0   \n",
       "756              0.000000       0                0    0.000000          0   \n",
       "\n",
       "     eigencentrality  \n",
       "0           0.000000  \n",
       "1           1.000000  \n",
       "2           0.158675  \n",
       "3           0.189111  \n",
       "4           0.138696  \n",
       "..               ...  \n",
       "752         0.000000  \n",
       "753         0.000000  \n",
       "754         0.000000  \n",
       "755         0.000000  \n",
       "756         0.000000  \n",
       "\n",
       "[757 rows x 13 columns]"
      ],
      "text/html": [
       "<div>\n",
       "<style scoped>\n",
       "    .dataframe tbody tr th:only-of-type {\n",
       "        vertical-align: middle;\n",
       "    }\n",
       "\n",
       "    .dataframe tbody tr th {\n",
       "        vertical-align: top;\n",
       "    }\n",
       "\n",
       "    .dataframe thead th {\n",
       "        text-align: right;\n",
       "    }\n",
       "</style>\n",
       "<table border=\"1\" class=\"dataframe\">\n",
       "  <thead>\n",
       "    <tr style=\"text-align: right;\">\n",
       "      <th></th>\n",
       "      <th>Id</th>\n",
       "      <th>Label</th>\n",
       "      <th>timeset</th>\n",
       "      <th>modularity_class</th>\n",
       "      <th>Eccentricity</th>\n",
       "      <th>closnesscentrality</th>\n",
       "      <th>harmonicclosnesscentrality</th>\n",
       "      <th>betweenesscentrality</th>\n",
       "      <th>Degree</th>\n",
       "      <th>Weighted Degree</th>\n",
       "      <th>clustering</th>\n",
       "      <th>triangles</th>\n",
       "      <th>eigencentrality</th>\n",
       "    </tr>\n",
       "  </thead>\n",
       "  <tbody>\n",
       "    <tr>\n",
       "      <th>0</th>\n",
       "      <td>git</td>\n",
       "      <td>git</td>\n",
       "      <td>NaN</td>\n",
       "      <td>0</td>\n",
       "      <td>0</td>\n",
       "      <td>0.000000</td>\n",
       "      <td>0.000000</td>\n",
       "      <td>0.000000</td>\n",
       "      <td>0</td>\n",
       "      <td>0</td>\n",
       "      <td>0.000000</td>\n",
       "      <td>0</td>\n",
       "      <td>0.000000</td>\n",
       "    </tr>\n",
       "    <tr>\n",
       "      <th>1</th>\n",
       "      <td>machine-learning</td>\n",
       "      <td>machine-learning</td>\n",
       "      <td>NaN</td>\n",
       "      <td>0</td>\n",
       "      <td>2</td>\n",
       "      <td>0.950980</td>\n",
       "      <td>0.974227</td>\n",
       "      <td>0.504970</td>\n",
       "      <td>276</td>\n",
       "      <td>10528</td>\n",
       "      <td>0.030303</td>\n",
       "      <td>1150</td>\n",
       "      <td>1.000000</td>\n",
       "    </tr>\n",
       "    <tr>\n",
       "      <th>2</th>\n",
       "      <td>data-analysis</td>\n",
       "      <td>data-analysis</td>\n",
       "      <td>NaN</td>\n",
       "      <td>1</td>\n",
       "      <td>3</td>\n",
       "      <td>0.500861</td>\n",
       "      <td>0.515464</td>\n",
       "      <td>0.000091</td>\n",
       "      <td>13</td>\n",
       "      <td>224</td>\n",
       "      <td>0.730769</td>\n",
       "      <td>57</td>\n",
       "      <td>0.158675</td>\n",
       "    </tr>\n",
       "    <tr>\n",
       "      <th>3</th>\n",
       "      <td>statistics</td>\n",
       "      <td>statistics</td>\n",
       "      <td>NaN</td>\n",
       "      <td>1</td>\n",
       "      <td>3</td>\n",
       "      <td>0.503460</td>\n",
       "      <td>0.520619</td>\n",
       "      <td>0.000148</td>\n",
       "      <td>16</td>\n",
       "      <td>242</td>\n",
       "      <td>0.691667</td>\n",
       "      <td>83</td>\n",
       "      <td>0.189111</td>\n",
       "    </tr>\n",
       "    <tr>\n",
       "      <th>4</th>\n",
       "      <td>bigdata</td>\n",
       "      <td>bigdata</td>\n",
       "      <td>NaN</td>\n",
       "      <td>0</td>\n",
       "      <td>3</td>\n",
       "      <td>0.498288</td>\n",
       "      <td>0.510309</td>\n",
       "      <td>0.000034</td>\n",
       "      <td>10</td>\n",
       "      <td>158</td>\n",
       "      <td>0.800000</td>\n",
       "      <td>36</td>\n",
       "      <td>0.138696</td>\n",
       "    </tr>\n",
       "    <tr>\n",
       "      <th>...</th>\n",
       "      <td>...</td>\n",
       "      <td>...</td>\n",
       "      <td>...</td>\n",
       "      <td>...</td>\n",
       "      <td>...</td>\n",
       "      <td>...</td>\n",
       "      <td>...</td>\n",
       "      <td>...</td>\n",
       "      <td>...</td>\n",
       "      <td>...</td>\n",
       "      <td>...</td>\n",
       "      <td>...</td>\n",
       "      <td>...</td>\n",
       "    </tr>\n",
       "    <tr>\n",
       "      <th>752</th>\n",
       "      <td>encoder-decoder</td>\n",
       "      <td>encoder-decoder</td>\n",
       "      <td>NaN</td>\n",
       "      <td>0</td>\n",
       "      <td>0</td>\n",
       "      <td>0.000000</td>\n",
       "      <td>0.000000</td>\n",
       "      <td>0.000000</td>\n",
       "      <td>0</td>\n",
       "      <td>0</td>\n",
       "      <td>0.000000</td>\n",
       "      <td>0</td>\n",
       "      <td>0.000000</td>\n",
       "    </tr>\n",
       "    <tr>\n",
       "      <th>753</th>\n",
       "      <td>deepface</td>\n",
       "      <td>deepface</td>\n",
       "      <td>NaN</td>\n",
       "      <td>0</td>\n",
       "      <td>0</td>\n",
       "      <td>0.000000</td>\n",
       "      <td>0.000000</td>\n",
       "      <td>0.000000</td>\n",
       "      <td>0</td>\n",
       "      <td>0</td>\n",
       "      <td>0.000000</td>\n",
       "      <td>0</td>\n",
       "      <td>0.000000</td>\n",
       "    </tr>\n",
       "    <tr>\n",
       "      <th>754</th>\n",
       "      <td>neural-search</td>\n",
       "      <td>neural-search</td>\n",
       "      <td>NaN</td>\n",
       "      <td>0</td>\n",
       "      <td>0</td>\n",
       "      <td>0.000000</td>\n",
       "      <td>0.000000</td>\n",
       "      <td>0.000000</td>\n",
       "      <td>0</td>\n",
       "      <td>0</td>\n",
       "      <td>0.000000</td>\n",
       "      <td>0</td>\n",
       "      <td>0.000000</td>\n",
       "    </tr>\n",
       "    <tr>\n",
       "      <th>755</th>\n",
       "      <td>max78000</td>\n",
       "      <td>max78000</td>\n",
       "      <td>NaN</td>\n",
       "      <td>0</td>\n",
       "      <td>0</td>\n",
       "      <td>0.000000</td>\n",
       "      <td>0.000000</td>\n",
       "      <td>0.000000</td>\n",
       "      <td>0</td>\n",
       "      <td>0</td>\n",
       "      <td>0.000000</td>\n",
       "      <td>0</td>\n",
       "      <td>0.000000</td>\n",
       "    </tr>\n",
       "    <tr>\n",
       "      <th>756</th>\n",
       "      <td>analog-devices</td>\n",
       "      <td>analog-devices</td>\n",
       "      <td>NaN</td>\n",
       "      <td>0</td>\n",
       "      <td>0</td>\n",
       "      <td>0.000000</td>\n",
       "      <td>0.000000</td>\n",
       "      <td>0.000000</td>\n",
       "      <td>0</td>\n",
       "      <td>0</td>\n",
       "      <td>0.000000</td>\n",
       "      <td>0</td>\n",
       "      <td>0.000000</td>\n",
       "    </tr>\n",
       "  </tbody>\n",
       "</table>\n",
       "<p>757 rows × 13 columns</p>\n",
       "</div>"
      ]
     },
     "metadata": {},
     "execution_count": 3
    }
   ],
   "metadata": {}
  },
  {
   "cell_type": "markdown",
   "source": [
    "## 1-1. 노드 분석 \n",
    "\n",
    "전체 데이터를 클러스터별 데이터로 분리한다. 이후 각 sub-network의 노드 중앙성을 파악하여 각 기술군에서 가장 중요한 기술을 파악하고자 한다."
   ],
   "metadata": {}
  },
  {
   "cell_type": "code",
   "execution_count": 4,
   "source": [
    "# split data by modularity class \n",
    "# check unique number of modularity \n",
    "unique_modularity = list(set(data.modularity_class))\n",
    "\n",
    "# append dataframe in dictionary per modularity class\n",
    "data_per_cluster = {}\n",
    "\n",
    "for mod in unique_modularity :\n",
    "    data_per_cluster[mod] = data[data.modularity_class==mod]"
   ],
   "outputs": [],
   "metadata": {}
  },
  {
   "cell_type": "markdown",
   "source": [
    "0번부터 19번까지 20개의 modularity 존재 "
   ],
   "metadata": {}
  },
  {
   "cell_type": "code",
   "execution_count": 5,
   "source": [
    "# visualize frequency of cluster \n",
    "fig = make_subplots(\n",
    "    rows=1, cols=1\n",
    ")\n",
    "\n",
    "fig.add_trace(\n",
    "    go.Bar(x=unique_modularity[1:], y=[len(data_per_cluster[i]) for i in unique_modularity][1:]),\n",
    "    row=1, col=1\n",
    ")\n",
    "\n",
    "fig.show()"
   ],
   "outputs": [
    {
     "output_type": "display_data",
     "data": {
      "application/vnd.plotly.v1+json": {
       "config": {
        "plotlyServerURL": "https://plotly.com"
       },
       "data": [
        {
         "type": "bar",
         "x": [
          1,
          2,
          3,
          4,
          5,
          6,
          7,
          8,
          9,
          10,
          11,
          12,
          13,
          14,
          15,
          16,
          17,
          18,
          19
         ],
         "xaxis": "x",
         "y": [
          13,
          28,
          39,
          13,
          11,
          4,
          11,
          7,
          10,
          29,
          11,
          4,
          9,
          2,
          20,
          2,
          2,
          2,
          5
         ],
         "yaxis": "y"
        }
       ],
       "layout": {
        "template": {
         "data": {
          "bar": [
           {
            "error_x": {
             "color": "#2a3f5f"
            },
            "error_y": {
             "color": "#2a3f5f"
            },
            "marker": {
             "line": {
              "color": "#E5ECF6",
              "width": 0.5
             },
             "pattern": {
              "fillmode": "overlay",
              "size": 10,
              "solidity": 0.2
             }
            },
            "type": "bar"
           }
          ],
          "barpolar": [
           {
            "marker": {
             "line": {
              "color": "#E5ECF6",
              "width": 0.5
             },
             "pattern": {
              "fillmode": "overlay",
              "size": 10,
              "solidity": 0.2
             }
            },
            "type": "barpolar"
           }
          ],
          "carpet": [
           {
            "aaxis": {
             "endlinecolor": "#2a3f5f",
             "gridcolor": "white",
             "linecolor": "white",
             "minorgridcolor": "white",
             "startlinecolor": "#2a3f5f"
            },
            "baxis": {
             "endlinecolor": "#2a3f5f",
             "gridcolor": "white",
             "linecolor": "white",
             "minorgridcolor": "white",
             "startlinecolor": "#2a3f5f"
            },
            "type": "carpet"
           }
          ],
          "choropleth": [
           {
            "colorbar": {
             "outlinewidth": 0,
             "ticks": ""
            },
            "type": "choropleth"
           }
          ],
          "contour": [
           {
            "colorbar": {
             "outlinewidth": 0,
             "ticks": ""
            },
            "colorscale": [
             [
              0,
              "#0d0887"
             ],
             [
              0.1111111111111111,
              "#46039f"
             ],
             [
              0.2222222222222222,
              "#7201a8"
             ],
             [
              0.3333333333333333,
              "#9c179e"
             ],
             [
              0.4444444444444444,
              "#bd3786"
             ],
             [
              0.5555555555555556,
              "#d8576b"
             ],
             [
              0.6666666666666666,
              "#ed7953"
             ],
             [
              0.7777777777777778,
              "#fb9f3a"
             ],
             [
              0.8888888888888888,
              "#fdca26"
             ],
             [
              1,
              "#f0f921"
             ]
            ],
            "type": "contour"
           }
          ],
          "contourcarpet": [
           {
            "colorbar": {
             "outlinewidth": 0,
             "ticks": ""
            },
            "type": "contourcarpet"
           }
          ],
          "heatmap": [
           {
            "colorbar": {
             "outlinewidth": 0,
             "ticks": ""
            },
            "colorscale": [
             [
              0,
              "#0d0887"
             ],
             [
              0.1111111111111111,
              "#46039f"
             ],
             [
              0.2222222222222222,
              "#7201a8"
             ],
             [
              0.3333333333333333,
              "#9c179e"
             ],
             [
              0.4444444444444444,
              "#bd3786"
             ],
             [
              0.5555555555555556,
              "#d8576b"
             ],
             [
              0.6666666666666666,
              "#ed7953"
             ],
             [
              0.7777777777777778,
              "#fb9f3a"
             ],
             [
              0.8888888888888888,
              "#fdca26"
             ],
             [
              1,
              "#f0f921"
             ]
            ],
            "type": "heatmap"
           }
          ],
          "heatmapgl": [
           {
            "colorbar": {
             "outlinewidth": 0,
             "ticks": ""
            },
            "colorscale": [
             [
              0,
              "#0d0887"
             ],
             [
              0.1111111111111111,
              "#46039f"
             ],
             [
              0.2222222222222222,
              "#7201a8"
             ],
             [
              0.3333333333333333,
              "#9c179e"
             ],
             [
              0.4444444444444444,
              "#bd3786"
             ],
             [
              0.5555555555555556,
              "#d8576b"
             ],
             [
              0.6666666666666666,
              "#ed7953"
             ],
             [
              0.7777777777777778,
              "#fb9f3a"
             ],
             [
              0.8888888888888888,
              "#fdca26"
             ],
             [
              1,
              "#f0f921"
             ]
            ],
            "type": "heatmapgl"
           }
          ],
          "histogram": [
           {
            "marker": {
             "pattern": {
              "fillmode": "overlay",
              "size": 10,
              "solidity": 0.2
             }
            },
            "type": "histogram"
           }
          ],
          "histogram2d": [
           {
            "colorbar": {
             "outlinewidth": 0,
             "ticks": ""
            },
            "colorscale": [
             [
              0,
              "#0d0887"
             ],
             [
              0.1111111111111111,
              "#46039f"
             ],
             [
              0.2222222222222222,
              "#7201a8"
             ],
             [
              0.3333333333333333,
              "#9c179e"
             ],
             [
              0.4444444444444444,
              "#bd3786"
             ],
             [
              0.5555555555555556,
              "#d8576b"
             ],
             [
              0.6666666666666666,
              "#ed7953"
             ],
             [
              0.7777777777777778,
              "#fb9f3a"
             ],
             [
              0.8888888888888888,
              "#fdca26"
             ],
             [
              1,
              "#f0f921"
             ]
            ],
            "type": "histogram2d"
           }
          ],
          "histogram2dcontour": [
           {
            "colorbar": {
             "outlinewidth": 0,
             "ticks": ""
            },
            "colorscale": [
             [
              0,
              "#0d0887"
             ],
             [
              0.1111111111111111,
              "#46039f"
             ],
             [
              0.2222222222222222,
              "#7201a8"
             ],
             [
              0.3333333333333333,
              "#9c179e"
             ],
             [
              0.4444444444444444,
              "#bd3786"
             ],
             [
              0.5555555555555556,
              "#d8576b"
             ],
             [
              0.6666666666666666,
              "#ed7953"
             ],
             [
              0.7777777777777778,
              "#fb9f3a"
             ],
             [
              0.8888888888888888,
              "#fdca26"
             ],
             [
              1,
              "#f0f921"
             ]
            ],
            "type": "histogram2dcontour"
           }
          ],
          "mesh3d": [
           {
            "colorbar": {
             "outlinewidth": 0,
             "ticks": ""
            },
            "type": "mesh3d"
           }
          ],
          "parcoords": [
           {
            "line": {
             "colorbar": {
              "outlinewidth": 0,
              "ticks": ""
             }
            },
            "type": "parcoords"
           }
          ],
          "pie": [
           {
            "automargin": true,
            "type": "pie"
           }
          ],
          "scatter": [
           {
            "marker": {
             "colorbar": {
              "outlinewidth": 0,
              "ticks": ""
             }
            },
            "type": "scatter"
           }
          ],
          "scatter3d": [
           {
            "line": {
             "colorbar": {
              "outlinewidth": 0,
              "ticks": ""
             }
            },
            "marker": {
             "colorbar": {
              "outlinewidth": 0,
              "ticks": ""
             }
            },
            "type": "scatter3d"
           }
          ],
          "scattercarpet": [
           {
            "marker": {
             "colorbar": {
              "outlinewidth": 0,
              "ticks": ""
             }
            },
            "type": "scattercarpet"
           }
          ],
          "scattergeo": [
           {
            "marker": {
             "colorbar": {
              "outlinewidth": 0,
              "ticks": ""
             }
            },
            "type": "scattergeo"
           }
          ],
          "scattergl": [
           {
            "marker": {
             "colorbar": {
              "outlinewidth": 0,
              "ticks": ""
             }
            },
            "type": "scattergl"
           }
          ],
          "scattermapbox": [
           {
            "marker": {
             "colorbar": {
              "outlinewidth": 0,
              "ticks": ""
             }
            },
            "type": "scattermapbox"
           }
          ],
          "scatterpolar": [
           {
            "marker": {
             "colorbar": {
              "outlinewidth": 0,
              "ticks": ""
             }
            },
            "type": "scatterpolar"
           }
          ],
          "scatterpolargl": [
           {
            "marker": {
             "colorbar": {
              "outlinewidth": 0,
              "ticks": ""
             }
            },
            "type": "scatterpolargl"
           }
          ],
          "scatterternary": [
           {
            "marker": {
             "colorbar": {
              "outlinewidth": 0,
              "ticks": ""
             }
            },
            "type": "scatterternary"
           }
          ],
          "surface": [
           {
            "colorbar": {
             "outlinewidth": 0,
             "ticks": ""
            },
            "colorscale": [
             [
              0,
              "#0d0887"
             ],
             [
              0.1111111111111111,
              "#46039f"
             ],
             [
              0.2222222222222222,
              "#7201a8"
             ],
             [
              0.3333333333333333,
              "#9c179e"
             ],
             [
              0.4444444444444444,
              "#bd3786"
             ],
             [
              0.5555555555555556,
              "#d8576b"
             ],
             [
              0.6666666666666666,
              "#ed7953"
             ],
             [
              0.7777777777777778,
              "#fb9f3a"
             ],
             [
              0.8888888888888888,
              "#fdca26"
             ],
             [
              1,
              "#f0f921"
             ]
            ],
            "type": "surface"
           }
          ],
          "table": [
           {
            "cells": {
             "fill": {
              "color": "#EBF0F8"
             },
             "line": {
              "color": "white"
             }
            },
            "header": {
             "fill": {
              "color": "#C8D4E3"
             },
             "line": {
              "color": "white"
             }
            },
            "type": "table"
           }
          ]
         },
         "layout": {
          "annotationdefaults": {
           "arrowcolor": "#2a3f5f",
           "arrowhead": 0,
           "arrowwidth": 1
          },
          "autotypenumbers": "strict",
          "coloraxis": {
           "colorbar": {
            "outlinewidth": 0,
            "ticks": ""
           }
          },
          "colorscale": {
           "diverging": [
            [
             0,
             "#8e0152"
            ],
            [
             0.1,
             "#c51b7d"
            ],
            [
             0.2,
             "#de77ae"
            ],
            [
             0.3,
             "#f1b6da"
            ],
            [
             0.4,
             "#fde0ef"
            ],
            [
             0.5,
             "#f7f7f7"
            ],
            [
             0.6,
             "#e6f5d0"
            ],
            [
             0.7,
             "#b8e186"
            ],
            [
             0.8,
             "#7fbc41"
            ],
            [
             0.9,
             "#4d9221"
            ],
            [
             1,
             "#276419"
            ]
           ],
           "sequential": [
            [
             0,
             "#0d0887"
            ],
            [
             0.1111111111111111,
             "#46039f"
            ],
            [
             0.2222222222222222,
             "#7201a8"
            ],
            [
             0.3333333333333333,
             "#9c179e"
            ],
            [
             0.4444444444444444,
             "#bd3786"
            ],
            [
             0.5555555555555556,
             "#d8576b"
            ],
            [
             0.6666666666666666,
             "#ed7953"
            ],
            [
             0.7777777777777778,
             "#fb9f3a"
            ],
            [
             0.8888888888888888,
             "#fdca26"
            ],
            [
             1,
             "#f0f921"
            ]
           ],
           "sequentialminus": [
            [
             0,
             "#0d0887"
            ],
            [
             0.1111111111111111,
             "#46039f"
            ],
            [
             0.2222222222222222,
             "#7201a8"
            ],
            [
             0.3333333333333333,
             "#9c179e"
            ],
            [
             0.4444444444444444,
             "#bd3786"
            ],
            [
             0.5555555555555556,
             "#d8576b"
            ],
            [
             0.6666666666666666,
             "#ed7953"
            ],
            [
             0.7777777777777778,
             "#fb9f3a"
            ],
            [
             0.8888888888888888,
             "#fdca26"
            ],
            [
             1,
             "#f0f921"
            ]
           ]
          },
          "colorway": [
           "#636efa",
           "#EF553B",
           "#00cc96",
           "#ab63fa",
           "#FFA15A",
           "#19d3f3",
           "#FF6692",
           "#B6E880",
           "#FF97FF",
           "#FECB52"
          ],
          "font": {
           "color": "#2a3f5f"
          },
          "geo": {
           "bgcolor": "white",
           "lakecolor": "white",
           "landcolor": "#E5ECF6",
           "showlakes": true,
           "showland": true,
           "subunitcolor": "white"
          },
          "hoverlabel": {
           "align": "left"
          },
          "hovermode": "closest",
          "mapbox": {
           "style": "light"
          },
          "paper_bgcolor": "white",
          "plot_bgcolor": "#E5ECF6",
          "polar": {
           "angularaxis": {
            "gridcolor": "white",
            "linecolor": "white",
            "ticks": ""
           },
           "bgcolor": "#E5ECF6",
           "radialaxis": {
            "gridcolor": "white",
            "linecolor": "white",
            "ticks": ""
           }
          },
          "scene": {
           "xaxis": {
            "backgroundcolor": "#E5ECF6",
            "gridcolor": "white",
            "gridwidth": 2,
            "linecolor": "white",
            "showbackground": true,
            "ticks": "",
            "zerolinecolor": "white"
           },
           "yaxis": {
            "backgroundcolor": "#E5ECF6",
            "gridcolor": "white",
            "gridwidth": 2,
            "linecolor": "white",
            "showbackground": true,
            "ticks": "",
            "zerolinecolor": "white"
           },
           "zaxis": {
            "backgroundcolor": "#E5ECF6",
            "gridcolor": "white",
            "gridwidth": 2,
            "linecolor": "white",
            "showbackground": true,
            "ticks": "",
            "zerolinecolor": "white"
           }
          },
          "shapedefaults": {
           "line": {
            "color": "#2a3f5f"
           }
          },
          "ternary": {
           "aaxis": {
            "gridcolor": "white",
            "linecolor": "white",
            "ticks": ""
           },
           "baxis": {
            "gridcolor": "white",
            "linecolor": "white",
            "ticks": ""
           },
           "bgcolor": "#E5ECF6",
           "caxis": {
            "gridcolor": "white",
            "linecolor": "white",
            "ticks": ""
           }
          },
          "title": {
           "x": 0.05
          },
          "xaxis": {
           "automargin": true,
           "gridcolor": "white",
           "linecolor": "white",
           "ticks": "",
           "title": {
            "standoff": 15
           },
           "zerolinecolor": "white",
           "zerolinewidth": 2
          },
          "yaxis": {
           "automargin": true,
           "gridcolor": "white",
           "linecolor": "white",
           "ticks": "",
           "title": {
            "standoff": 15
           },
           "zerolinecolor": "white",
           "zerolinewidth": 2
          }
         }
        },
        "xaxis": {
         "anchor": "y",
         "domain": [
          0,
          1
         ]
        },
        "yaxis": {
         "anchor": "x",
         "domain": [
          0,
          1
         ]
        }
       }
      }
     },
     "metadata": {}
    }
   ],
   "metadata": {}
  },
  {
   "cell_type": "markdown",
   "source": [
    "modularity 0은 machine-learning 클러스터 + 미분류 단어 전체 포함     \n",
    "혼자 너무 값이 크므로 여기선 제외하고 시각화"
   ],
   "metadata": {}
  },
  {
   "cell_type": "code",
   "execution_count": 18,
   "source": [
    "# print dataframe sorted by specific node feature \n",
    "# feature type : 'betweenesscentrality(default), Degree, Weighted Degree, closnesscentrality, eigencentrality \n",
    "# if cluster_num = None, all clusters are considered \n",
    "\n",
    "def print_high_centrality_keyword(cluster_num=None, filtering_feature='betweenesscentrality') :\n",
    "    if cluster_num == None :\n",
    "        output = data.sort_values(by=[filtering_feature], ascending=False).iloc[:20, :]\n",
    "    else : \n",
    "        output = data_per_cluster[cluster_num].sort_values(by=[filtering_feature], ascending=False)\n",
    "\n",
    "\n",
    "    return output"
   ],
   "outputs": [],
   "metadata": {}
  },
  {
   "cell_type": "code",
   "execution_count": 45,
   "source": [
    "print_high_centrality_keyword(19, 'eigencentrality')"
   ],
   "outputs": [
    {
     "output_type": "execute_result",
     "data": {
      "text/plain": [
       "                     Id               Label  timeset  modularity_class  \\\n",
       "66   speech-recognition  speech-recognition      NaN                19   \n",
       "717      speech-to-text      speech-to-text      NaN                19   \n",
       "64       text-to-speech      text-to-speech      NaN                19   \n",
       "598               voice               voice      NaN                19   \n",
       "599      voice-commands      voice-commands      NaN                19   \n",
       "\n",
       "     Eccentricity  closnesscentrality  harmonicclosnesscentrality  \\\n",
       "66              3            0.497436                    0.508591   \n",
       "717             3            0.492386                    0.498282   \n",
       "64              3            0.489899                    0.496564   \n",
       "598             3            0.489899                    0.496564   \n",
       "599             3            0.489899                    0.496564   \n",
       "\n",
       "     betweenesscentrality  Degree  Weighted Degree  clustering  triangles  \\\n",
       "66               0.000248       9               70    0.472222         17   \n",
       "717              0.000000       3               26    1.000000          3   \n",
       "64               0.000000       3               19    1.000000          3   \n",
       "598              0.000000       3               16    1.000000          3   \n",
       "599              0.000000       3               15    1.000000          3   \n",
       "\n",
       "     eigencentrality  \n",
       "66          0.100897  \n",
       "717         0.064637  \n",
       "64          0.040384  \n",
       "598         0.037061  \n",
       "599         0.037061  "
      ],
      "text/html": [
       "<div>\n",
       "<style scoped>\n",
       "    .dataframe tbody tr th:only-of-type {\n",
       "        vertical-align: middle;\n",
       "    }\n",
       "\n",
       "    .dataframe tbody tr th {\n",
       "        vertical-align: top;\n",
       "    }\n",
       "\n",
       "    .dataframe thead th {\n",
       "        text-align: right;\n",
       "    }\n",
       "</style>\n",
       "<table border=\"1\" class=\"dataframe\">\n",
       "  <thead>\n",
       "    <tr style=\"text-align: right;\">\n",
       "      <th></th>\n",
       "      <th>Id</th>\n",
       "      <th>Label</th>\n",
       "      <th>timeset</th>\n",
       "      <th>modularity_class</th>\n",
       "      <th>Eccentricity</th>\n",
       "      <th>closnesscentrality</th>\n",
       "      <th>harmonicclosnesscentrality</th>\n",
       "      <th>betweenesscentrality</th>\n",
       "      <th>Degree</th>\n",
       "      <th>Weighted Degree</th>\n",
       "      <th>clustering</th>\n",
       "      <th>triangles</th>\n",
       "      <th>eigencentrality</th>\n",
       "    </tr>\n",
       "  </thead>\n",
       "  <tbody>\n",
       "    <tr>\n",
       "      <th>66</th>\n",
       "      <td>speech-recognition</td>\n",
       "      <td>speech-recognition</td>\n",
       "      <td>NaN</td>\n",
       "      <td>19</td>\n",
       "      <td>3</td>\n",
       "      <td>0.497436</td>\n",
       "      <td>0.508591</td>\n",
       "      <td>0.000248</td>\n",
       "      <td>9</td>\n",
       "      <td>70</td>\n",
       "      <td>0.472222</td>\n",
       "      <td>17</td>\n",
       "      <td>0.100897</td>\n",
       "    </tr>\n",
       "    <tr>\n",
       "      <th>717</th>\n",
       "      <td>speech-to-text</td>\n",
       "      <td>speech-to-text</td>\n",
       "      <td>NaN</td>\n",
       "      <td>19</td>\n",
       "      <td>3</td>\n",
       "      <td>0.492386</td>\n",
       "      <td>0.498282</td>\n",
       "      <td>0.000000</td>\n",
       "      <td>3</td>\n",
       "      <td>26</td>\n",
       "      <td>1.000000</td>\n",
       "      <td>3</td>\n",
       "      <td>0.064637</td>\n",
       "    </tr>\n",
       "    <tr>\n",
       "      <th>64</th>\n",
       "      <td>text-to-speech</td>\n",
       "      <td>text-to-speech</td>\n",
       "      <td>NaN</td>\n",
       "      <td>19</td>\n",
       "      <td>3</td>\n",
       "      <td>0.489899</td>\n",
       "      <td>0.496564</td>\n",
       "      <td>0.000000</td>\n",
       "      <td>3</td>\n",
       "      <td>19</td>\n",
       "      <td>1.000000</td>\n",
       "      <td>3</td>\n",
       "      <td>0.040384</td>\n",
       "    </tr>\n",
       "    <tr>\n",
       "      <th>598</th>\n",
       "      <td>voice</td>\n",
       "      <td>voice</td>\n",
       "      <td>NaN</td>\n",
       "      <td>19</td>\n",
       "      <td>3</td>\n",
       "      <td>0.489899</td>\n",
       "      <td>0.496564</td>\n",
       "      <td>0.000000</td>\n",
       "      <td>3</td>\n",
       "      <td>16</td>\n",
       "      <td>1.000000</td>\n",
       "      <td>3</td>\n",
       "      <td>0.037061</td>\n",
       "    </tr>\n",
       "    <tr>\n",
       "      <th>599</th>\n",
       "      <td>voice-commands</td>\n",
       "      <td>voice-commands</td>\n",
       "      <td>NaN</td>\n",
       "      <td>19</td>\n",
       "      <td>3</td>\n",
       "      <td>0.489899</td>\n",
       "      <td>0.496564</td>\n",
       "      <td>0.000000</td>\n",
       "      <td>3</td>\n",
       "      <td>15</td>\n",
       "      <td>1.000000</td>\n",
       "      <td>3</td>\n",
       "      <td>0.037061</td>\n",
       "    </tr>\n",
       "  </tbody>\n",
       "</table>\n",
       "</div>"
      ]
     },
     "metadata": {},
     "execution_count": 45
    }
   ],
   "metadata": {}
  },
  {
   "cell_type": "markdown",
   "source": [
    "---"
   ],
   "metadata": {}
  },
  {
   "cell_type": "markdown",
   "source": [
    "## 1-2. Sub-network 구축\n",
    "\n",
    "규모가 큰 네트워크를 대상으로 추가적인 커뮤니티 탐지를 진행하여 더 세부적인 기술군으로 분류하고자한다.      \n",
    "대상 클러스터는 \n",
    "1. machine learning and application (0)\n",
    "2. deep learning and application (3)\n",
    "3. natural language processing (10)\n",
    "4. python and application (2)\n",
    "   \n",
    "총 4개의 클러스터이다"
   ],
   "metadata": {}
  },
  {
   "cell_type": "code",
   "execution_count": 46,
   "source": [
    "network = pd.read_csv('data/network/4_filtered_coword.csv', index_col=0)"
   ],
   "outputs": [],
   "metadata": {}
  },
  {
   "cell_type": "code",
   "execution_count": 48,
   "source": [
    "# extract subnetwork\n",
    "def extract_subnetwork(cluster_num) : \n",
    "    assert cluster_num in [0, 2, 3, 10]\n",
    "\n",
    "    output = network.loc[list(data_per_cluster[cluster_num].Id), list(data_per_cluster[cluster_num].Id)]\n",
    "\n",
    "    return output"
   ],
   "outputs": [],
   "metadata": {}
  },
  {
   "cell_type": "code",
   "execution_count": 56,
   "source": [
    "ml_subnetwork = extract_subnetwork(0)\n",
    "dl_subnetwork = extract_subnetwork(3)\n",
    "nlp_subnetwork = extract_subnetwork(10)\n",
    "python_subnetwork = extract_subnetwork(2)"
   ],
   "outputs": [],
   "metadata": {}
  },
  {
   "cell_type": "code",
   "execution_count": 58,
   "source": [
    "# csv 형태로 저장 \n",
    "\n",
    "ml_subnetwork.to_csv('data/network/ml_subnetwork.csv')\n",
    "dl_subnetwork.to_csv('data/network/dl_subnetwork.csv')\n",
    "nlp_subnetwork.to_csv('data/network/nlp_subnetwork.csv')\n",
    "python_subnetwork.to_csv('data/network/python_subnetwork.csv')"
   ],
   "outputs": [],
   "metadata": {}
  },
  {
   "cell_type": "markdown",
   "source": [
    "# 2. Contributor-coupling network 분석\n",
    "\n",
    "contributor-coupling 네트워크를 분석한 결과, 특정 하나의 클러스터가 기업의 생태계 특성을 띄지 않을 뿐만 아니라 모든 기업들을 연결하여, 매우 높은 중앙성을 띄는 것을 확인하였다.    \n",
    "본 코드에서는 해당 클러스터의 특성을 파악하고 그 서브네트워크를 구축하고자 한다."
   ],
   "metadata": {}
  },
  {
   "cell_type": "code",
   "execution_count": 5,
   "source": [
    "data = pd.read_csv('data/network/contributor_coupling_node_table.csv')\n",
    "network = pd.read_csv('data/network/contributor_4_filtered_network.csv', index_col=0)"
   ],
   "outputs": [],
   "metadata": {}
  },
  {
   "cell_type": "markdown",
   "source": [
    "## 2-1. 서브 네트워크 추출 \n",
    "\n",
    "분석하고자 하는 클러스터는 9번 클러스터이므로, modularity가 9번인 네트워크를 추출하여 새로운 서브네트워크를 구축한다"
   ],
   "metadata": {}
  },
  {
   "cell_type": "code",
   "execution_count": 9,
   "source": [
    "target_data = data[data.modularity_class==9]\n",
    "new_node = list(data[data.modularity_class==9].Id)\n",
    "subnetwork = network.loc[new_node, new_node]"
   ],
   "outputs": [],
   "metadata": {}
  },
  {
   "cell_type": "code",
   "execution_count": null,
   "source": [
    "subnetwork.to_csv('data/network/contributor_coupling_subnetwork.csv')"
   ],
   "outputs": [],
   "metadata": {}
  },
  {
   "cell_type": "markdown",
   "source": [
    "## 2-2. 노드 특성 분석 \n",
    "\n",
    "서브네트워크를 구성하는 노드들의 특징(디그리, 중앙성등)을 파악한다. 단, 여기서 나오는 값들은 서브네트워크에서의 지표가 아닌 전체 네트워크에서의 지표이다.     \n",
    "발표할때는 혼동할 수 있으므로 이 내용을 먼저 발표할 것 "
   ],
   "metadata": {}
  },
  {
   "cell_type": "code",
   "execution_count": 12,
   "source": [
    "# eigenvector centrality \n",
    "target_data.sort_values(by=['eigencentrality'], ascending=False)"
   ],
   "outputs": [
    {
     "output_type": "execute_result",
     "data": {
      "text/plain": [
       "                                 Id                          Label  timeset  \\\n",
       "128                      apache/tvm                     apache/tvm      NaN   \n",
       "42                     dmlc/xgboost                   dmlc/xgboost      NaN   \n",
       "279                 horovod/horovod                horovod/horovod      NaN   \n",
       "234       scikit-learn/scikit-learn      scikit-learn/scikit-learn      NaN   \n",
       "620                  OAID/MXNet-HRT                 OAID/MXNet-HRT      NaN   \n",
       "284                  dmlc/dmlc-core                 dmlc/dmlc-core      NaN   \n",
       "285                  pymc-devs/pymc                 pymc-devs/pymc      NaN   \n",
       "82                  ray-project/ray                ray-project/ray      NaN   \n",
       "31                kubeflow/kubeflow              kubeflow/kubeflow      NaN   \n",
       "235                       nltk/nltk                      nltk/nltk      NaN   \n",
       "109                   d2l-ai/d2l-en                  d2l-ai/d2l-en      NaN   \n",
       "30               kubeflow/pipelines             kubeflow/pipelines      NaN   \n",
       "812              microsoft/LightGBM             microsoft/LightGBM      NaN   \n",
       "925        RaRe-Technologies/gensim       RaRe-Technologies/gensim      NaN   \n",
       "372   aws/amazon-sagemaker-examples  aws/amazon-sagemaker-examples      NaN   \n",
       "621                    dmlc/mshadow                   dmlc/mshadow      NaN   \n",
       "617                   dmlc/gluon-cv                  dmlc/gluon-cv      NaN   \n",
       "233                 explosion/spaCy                explosion/spaCy      NaN   \n",
       "618                  dmlc/gluon-nlp                 dmlc/gluon-nlp      NaN   \n",
       "616               awslabs/autogluon              awslabs/autogluon      NaN   \n",
       "813                   mlflow/mlflow                  mlflow/mlflow      NaN   \n",
       "371        aws/sagemaker-python-sdk       aws/sagemaker-python-sdk      NaN   \n",
       "619                   d2l-ai/d2l-zh                  d2l-ai/d2l-zh      NaN   \n",
       "869      VowpalWabbit/vowpal_wabbit     VowpalWabbit/vowpal_wabbit      NaN   \n",
       "861                   rasbt/mlxtend                  rasbt/mlxtend      NaN   \n",
       "50                    kserve/kserve                  kserve/kserve      NaN   \n",
       "187                 feast-dev/feast                feast-dev/feast      NaN   \n",
       "157         argoproj/argo-workflows        argoproj/argo-workflows      NaN   \n",
       "125            SeldonIO/seldon-core           SeldonIO/seldon-core      NaN   \n",
       "927                  slundberg/shap                 slundberg/shap      NaN   \n",
       "1008           mne-tools/mne-python           mne-tools/mne-python      NaN   \n",
       "426               polyaxon/polyaxon              polyaxon/polyaxon      NaN   \n",
       "889                     h2oai/h2o-3                    h2oai/h2o-3      NaN   \n",
       "890           h2oai/sparkling-water          h2oai/sparkling-water      NaN   \n",
       "979                 nilearn/nilearn                nilearn/nilearn      NaN   \n",
       "568                 explosion/thinc                explosion/thinc      NaN   \n",
       "257    explosion/spacy-transformers   explosion/spacy-transformers      NaN   \n",
       "\n",
       "      modularity_class  Degree  Weighted Degree  Eccentricity  \\\n",
       "128                  9      27              261             6   \n",
       "42                   9      29              240             6   \n",
       "279                  9      23              129             6   \n",
       "234                  9      21              182             6   \n",
       "620                  9      23              276             6   \n",
       "284                  9      19              220             6   \n",
       "285                  9      15               96             7   \n",
       "82                   9      15               93             5   \n",
       "31                   9      14              154             5   \n",
       "235                  9      13               89             7   \n",
       "109                  9      13              108             6   \n",
       "30                   9      16              189             5   \n",
       "812                  9      13               98             6   \n",
       "925                  9       9               82             7   \n",
       "372                  9      11              146             6   \n",
       "621                  9      10              143             7   \n",
       "617                  9      11              113             6   \n",
       "233                  9      10               84             7   \n",
       "618                  9       9               88             7   \n",
       "616                  9      10               58             6   \n",
       "813                  9      11               64             5   \n",
       "371                  9       8              123             5   \n",
       "619                  9       8              111             7   \n",
       "869                  9       6               31             7   \n",
       "861                  9       4               20             7   \n",
       "50                   9       6               86             5   \n",
       "187                  9       6               29             5   \n",
       "157                  9       6               60             5   \n",
       "125                  9       7               53             6   \n",
       "927                  9       4               30             6   \n",
       "1008                 9       3               34             7   \n",
       "426                  9       2                9             7   \n",
       "889                  9       2               39             7   \n",
       "890                  9       2               31             7   \n",
       "979                  9       2               38             7   \n",
       "568                  9       2               24             8   \n",
       "257                  9       2               17             8   \n",
       "\n",
       "      closnesscentrality  harmonicclosnesscentrality  betweenesscentrality  \\\n",
       "128             0.336722                    0.409811              0.019745   \n",
       "42              0.345953                    0.424906              0.107713   \n",
       "279             0.293142                    0.367736              0.005420   \n",
       "234             0.335019                    0.399119              0.020893   \n",
       "620             0.295429                    0.368365              0.004401   \n",
       "284             0.332915                    0.393459              0.016335   \n",
       "285             0.309942                    0.378455              0.005816   \n",
       "82              0.355705                    0.401069              0.069315   \n",
       "31              0.306005                    0.359623              0.012982   \n",
       "235             0.306358                    0.369650              0.005042   \n",
       "109             0.284030                    0.339748              0.001460   \n",
       "30              0.311398                    0.364528              0.261014   \n",
       "812             0.298423                    0.360503              0.046425   \n",
       "925             0.272915                    0.330404              0.000303   \n",
       "372             0.282215                    0.329371              0.000705   \n",
       "621             0.266600                    0.317197              0.000574   \n",
       "617             0.273478                    0.315220              0.000404   \n",
       "233             0.269309                    0.324429              0.013467   \n",
       "618             0.259549                    0.303675              0.000016   \n",
       "616             0.272354                    0.311447              0.000388   \n",
       "813             0.298760                    0.342642              0.011578   \n",
       "371             0.289934                    0.326604              0.008880   \n",
       "619             0.257782                    0.298643              0.000000   \n",
       "869             0.267137                    0.309964              0.000148   \n",
       "861             0.266064                    0.308392              0.000006   \n",
       "50              0.276907                    0.305031              0.000223   \n",
       "187             0.281915                    0.308994              0.000218   \n",
       "157             0.281915                    0.308994              0.000218   \n",
       "125             0.251662                    0.286289              0.000717   \n",
       "927             0.279241                    0.310818              0.000854   \n",
       "1008            0.254075                    0.283235              0.000032   \n",
       "426             0.253589                    0.285813              0.000042   \n",
       "889             0.257532                    0.287323              0.000000   \n",
       "890             0.257532                    0.287323              0.000000   \n",
       "979             0.251423                    0.276945              0.000000   \n",
       "568             0.212510                    0.238176              0.000000   \n",
       "257             0.212510                    0.238176              0.000000   \n",
       "\n",
       "      eigencentrality  \n",
       "128          0.019703  \n",
       "42           0.017157  \n",
       "279          0.015977  \n",
       "234          0.015222  \n",
       "620          0.014622  \n",
       "284          0.013581  \n",
       "285          0.010961  \n",
       "82           0.009240  \n",
       "31           0.009026  \n",
       "235          0.008915  \n",
       "109          0.008201  \n",
       "30           0.008184  \n",
       "812          0.007826  \n",
       "925          0.006725  \n",
       "372          0.006537  \n",
       "621          0.005978  \n",
       "617          0.005902  \n",
       "233          0.005362  \n",
       "618          0.005152  \n",
       "616          0.005149  \n",
       "813          0.005123  \n",
       "371          0.004851  \n",
       "619          0.004398  \n",
       "869          0.003569  \n",
       "861          0.003153  \n",
       "50           0.002587  \n",
       "187          0.002516  \n",
       "157          0.002516  \n",
       "125          0.002504  \n",
       "927          0.002014  \n",
       "1008         0.001513  \n",
       "426          0.001426  \n",
       "889          0.001062  \n",
       "890          0.001062  \n",
       "979          0.000962  \n",
       "568          0.000578  \n",
       "257          0.000578  "
      ],
      "text/html": [
       "<div>\n",
       "<style scoped>\n",
       "    .dataframe tbody tr th:only-of-type {\n",
       "        vertical-align: middle;\n",
       "    }\n",
       "\n",
       "    .dataframe tbody tr th {\n",
       "        vertical-align: top;\n",
       "    }\n",
       "\n",
       "    .dataframe thead th {\n",
       "        text-align: right;\n",
       "    }\n",
       "</style>\n",
       "<table border=\"1\" class=\"dataframe\">\n",
       "  <thead>\n",
       "    <tr style=\"text-align: right;\">\n",
       "      <th></th>\n",
       "      <th>Id</th>\n",
       "      <th>Label</th>\n",
       "      <th>timeset</th>\n",
       "      <th>modularity_class</th>\n",
       "      <th>Degree</th>\n",
       "      <th>Weighted Degree</th>\n",
       "      <th>Eccentricity</th>\n",
       "      <th>closnesscentrality</th>\n",
       "      <th>harmonicclosnesscentrality</th>\n",
       "      <th>betweenesscentrality</th>\n",
       "      <th>eigencentrality</th>\n",
       "    </tr>\n",
       "  </thead>\n",
       "  <tbody>\n",
       "    <tr>\n",
       "      <th>128</th>\n",
       "      <td>apache/tvm</td>\n",
       "      <td>apache/tvm</td>\n",
       "      <td>NaN</td>\n",
       "      <td>9</td>\n",
       "      <td>27</td>\n",
       "      <td>261</td>\n",
       "      <td>6</td>\n",
       "      <td>0.336722</td>\n",
       "      <td>0.409811</td>\n",
       "      <td>0.019745</td>\n",
       "      <td>0.019703</td>\n",
       "    </tr>\n",
       "    <tr>\n",
       "      <th>42</th>\n",
       "      <td>dmlc/xgboost</td>\n",
       "      <td>dmlc/xgboost</td>\n",
       "      <td>NaN</td>\n",
       "      <td>9</td>\n",
       "      <td>29</td>\n",
       "      <td>240</td>\n",
       "      <td>6</td>\n",
       "      <td>0.345953</td>\n",
       "      <td>0.424906</td>\n",
       "      <td>0.107713</td>\n",
       "      <td>0.017157</td>\n",
       "    </tr>\n",
       "    <tr>\n",
       "      <th>279</th>\n",
       "      <td>horovod/horovod</td>\n",
       "      <td>horovod/horovod</td>\n",
       "      <td>NaN</td>\n",
       "      <td>9</td>\n",
       "      <td>23</td>\n",
       "      <td>129</td>\n",
       "      <td>6</td>\n",
       "      <td>0.293142</td>\n",
       "      <td>0.367736</td>\n",
       "      <td>0.005420</td>\n",
       "      <td>0.015977</td>\n",
       "    </tr>\n",
       "    <tr>\n",
       "      <th>234</th>\n",
       "      <td>scikit-learn/scikit-learn</td>\n",
       "      <td>scikit-learn/scikit-learn</td>\n",
       "      <td>NaN</td>\n",
       "      <td>9</td>\n",
       "      <td>21</td>\n",
       "      <td>182</td>\n",
       "      <td>6</td>\n",
       "      <td>0.335019</td>\n",
       "      <td>0.399119</td>\n",
       "      <td>0.020893</td>\n",
       "      <td>0.015222</td>\n",
       "    </tr>\n",
       "    <tr>\n",
       "      <th>620</th>\n",
       "      <td>OAID/MXNet-HRT</td>\n",
       "      <td>OAID/MXNet-HRT</td>\n",
       "      <td>NaN</td>\n",
       "      <td>9</td>\n",
       "      <td>23</td>\n",
       "      <td>276</td>\n",
       "      <td>6</td>\n",
       "      <td>0.295429</td>\n",
       "      <td>0.368365</td>\n",
       "      <td>0.004401</td>\n",
       "      <td>0.014622</td>\n",
       "    </tr>\n",
       "    <tr>\n",
       "      <th>284</th>\n",
       "      <td>dmlc/dmlc-core</td>\n",
       "      <td>dmlc/dmlc-core</td>\n",
       "      <td>NaN</td>\n",
       "      <td>9</td>\n",
       "      <td>19</td>\n",
       "      <td>220</td>\n",
       "      <td>6</td>\n",
       "      <td>0.332915</td>\n",
       "      <td>0.393459</td>\n",
       "      <td>0.016335</td>\n",
       "      <td>0.013581</td>\n",
       "    </tr>\n",
       "    <tr>\n",
       "      <th>285</th>\n",
       "      <td>pymc-devs/pymc</td>\n",
       "      <td>pymc-devs/pymc</td>\n",
       "      <td>NaN</td>\n",
       "      <td>9</td>\n",
       "      <td>15</td>\n",
       "      <td>96</td>\n",
       "      <td>7</td>\n",
       "      <td>0.309942</td>\n",
       "      <td>0.378455</td>\n",
       "      <td>0.005816</td>\n",
       "      <td>0.010961</td>\n",
       "    </tr>\n",
       "    <tr>\n",
       "      <th>82</th>\n",
       "      <td>ray-project/ray</td>\n",
       "      <td>ray-project/ray</td>\n",
       "      <td>NaN</td>\n",
       "      <td>9</td>\n",
       "      <td>15</td>\n",
       "      <td>93</td>\n",
       "      <td>5</td>\n",
       "      <td>0.355705</td>\n",
       "      <td>0.401069</td>\n",
       "      <td>0.069315</td>\n",
       "      <td>0.009240</td>\n",
       "    </tr>\n",
       "    <tr>\n",
       "      <th>31</th>\n",
       "      <td>kubeflow/kubeflow</td>\n",
       "      <td>kubeflow/kubeflow</td>\n",
       "      <td>NaN</td>\n",
       "      <td>9</td>\n",
       "      <td>14</td>\n",
       "      <td>154</td>\n",
       "      <td>5</td>\n",
       "      <td>0.306005</td>\n",
       "      <td>0.359623</td>\n",
       "      <td>0.012982</td>\n",
       "      <td>0.009026</td>\n",
       "    </tr>\n",
       "    <tr>\n",
       "      <th>235</th>\n",
       "      <td>nltk/nltk</td>\n",
       "      <td>nltk/nltk</td>\n",
       "      <td>NaN</td>\n",
       "      <td>9</td>\n",
       "      <td>13</td>\n",
       "      <td>89</td>\n",
       "      <td>7</td>\n",
       "      <td>0.306358</td>\n",
       "      <td>0.369650</td>\n",
       "      <td>0.005042</td>\n",
       "      <td>0.008915</td>\n",
       "    </tr>\n",
       "    <tr>\n",
       "      <th>109</th>\n",
       "      <td>d2l-ai/d2l-en</td>\n",
       "      <td>d2l-ai/d2l-en</td>\n",
       "      <td>NaN</td>\n",
       "      <td>9</td>\n",
       "      <td>13</td>\n",
       "      <td>108</td>\n",
       "      <td>6</td>\n",
       "      <td>0.284030</td>\n",
       "      <td>0.339748</td>\n",
       "      <td>0.001460</td>\n",
       "      <td>0.008201</td>\n",
       "    </tr>\n",
       "    <tr>\n",
       "      <th>30</th>\n",
       "      <td>kubeflow/pipelines</td>\n",
       "      <td>kubeflow/pipelines</td>\n",
       "      <td>NaN</td>\n",
       "      <td>9</td>\n",
       "      <td>16</td>\n",
       "      <td>189</td>\n",
       "      <td>5</td>\n",
       "      <td>0.311398</td>\n",
       "      <td>0.364528</td>\n",
       "      <td>0.261014</td>\n",
       "      <td>0.008184</td>\n",
       "    </tr>\n",
       "    <tr>\n",
       "      <th>812</th>\n",
       "      <td>microsoft/LightGBM</td>\n",
       "      <td>microsoft/LightGBM</td>\n",
       "      <td>NaN</td>\n",
       "      <td>9</td>\n",
       "      <td>13</td>\n",
       "      <td>98</td>\n",
       "      <td>6</td>\n",
       "      <td>0.298423</td>\n",
       "      <td>0.360503</td>\n",
       "      <td>0.046425</td>\n",
       "      <td>0.007826</td>\n",
       "    </tr>\n",
       "    <tr>\n",
       "      <th>925</th>\n",
       "      <td>RaRe-Technologies/gensim</td>\n",
       "      <td>RaRe-Technologies/gensim</td>\n",
       "      <td>NaN</td>\n",
       "      <td>9</td>\n",
       "      <td>9</td>\n",
       "      <td>82</td>\n",
       "      <td>7</td>\n",
       "      <td>0.272915</td>\n",
       "      <td>0.330404</td>\n",
       "      <td>0.000303</td>\n",
       "      <td>0.006725</td>\n",
       "    </tr>\n",
       "    <tr>\n",
       "      <th>372</th>\n",
       "      <td>aws/amazon-sagemaker-examples</td>\n",
       "      <td>aws/amazon-sagemaker-examples</td>\n",
       "      <td>NaN</td>\n",
       "      <td>9</td>\n",
       "      <td>11</td>\n",
       "      <td>146</td>\n",
       "      <td>6</td>\n",
       "      <td>0.282215</td>\n",
       "      <td>0.329371</td>\n",
       "      <td>0.000705</td>\n",
       "      <td>0.006537</td>\n",
       "    </tr>\n",
       "    <tr>\n",
       "      <th>621</th>\n",
       "      <td>dmlc/mshadow</td>\n",
       "      <td>dmlc/mshadow</td>\n",
       "      <td>NaN</td>\n",
       "      <td>9</td>\n",
       "      <td>10</td>\n",
       "      <td>143</td>\n",
       "      <td>7</td>\n",
       "      <td>0.266600</td>\n",
       "      <td>0.317197</td>\n",
       "      <td>0.000574</td>\n",
       "      <td>0.005978</td>\n",
       "    </tr>\n",
       "    <tr>\n",
       "      <th>617</th>\n",
       "      <td>dmlc/gluon-cv</td>\n",
       "      <td>dmlc/gluon-cv</td>\n",
       "      <td>NaN</td>\n",
       "      <td>9</td>\n",
       "      <td>11</td>\n",
       "      <td>113</td>\n",
       "      <td>6</td>\n",
       "      <td>0.273478</td>\n",
       "      <td>0.315220</td>\n",
       "      <td>0.000404</td>\n",
       "      <td>0.005902</td>\n",
       "    </tr>\n",
       "    <tr>\n",
       "      <th>233</th>\n",
       "      <td>explosion/spaCy</td>\n",
       "      <td>explosion/spaCy</td>\n",
       "      <td>NaN</td>\n",
       "      <td>9</td>\n",
       "      <td>10</td>\n",
       "      <td>84</td>\n",
       "      <td>7</td>\n",
       "      <td>0.269309</td>\n",
       "      <td>0.324429</td>\n",
       "      <td>0.013467</td>\n",
       "      <td>0.005362</td>\n",
       "    </tr>\n",
       "    <tr>\n",
       "      <th>618</th>\n",
       "      <td>dmlc/gluon-nlp</td>\n",
       "      <td>dmlc/gluon-nlp</td>\n",
       "      <td>NaN</td>\n",
       "      <td>9</td>\n",
       "      <td>9</td>\n",
       "      <td>88</td>\n",
       "      <td>7</td>\n",
       "      <td>0.259549</td>\n",
       "      <td>0.303675</td>\n",
       "      <td>0.000016</td>\n",
       "      <td>0.005152</td>\n",
       "    </tr>\n",
       "    <tr>\n",
       "      <th>616</th>\n",
       "      <td>awslabs/autogluon</td>\n",
       "      <td>awslabs/autogluon</td>\n",
       "      <td>NaN</td>\n",
       "      <td>9</td>\n",
       "      <td>10</td>\n",
       "      <td>58</td>\n",
       "      <td>6</td>\n",
       "      <td>0.272354</td>\n",
       "      <td>0.311447</td>\n",
       "      <td>0.000388</td>\n",
       "      <td>0.005149</td>\n",
       "    </tr>\n",
       "    <tr>\n",
       "      <th>813</th>\n",
       "      <td>mlflow/mlflow</td>\n",
       "      <td>mlflow/mlflow</td>\n",
       "      <td>NaN</td>\n",
       "      <td>9</td>\n",
       "      <td>11</td>\n",
       "      <td>64</td>\n",
       "      <td>5</td>\n",
       "      <td>0.298760</td>\n",
       "      <td>0.342642</td>\n",
       "      <td>0.011578</td>\n",
       "      <td>0.005123</td>\n",
       "    </tr>\n",
       "    <tr>\n",
       "      <th>371</th>\n",
       "      <td>aws/sagemaker-python-sdk</td>\n",
       "      <td>aws/sagemaker-python-sdk</td>\n",
       "      <td>NaN</td>\n",
       "      <td>9</td>\n",
       "      <td>8</td>\n",
       "      <td>123</td>\n",
       "      <td>5</td>\n",
       "      <td>0.289934</td>\n",
       "      <td>0.326604</td>\n",
       "      <td>0.008880</td>\n",
       "      <td>0.004851</td>\n",
       "    </tr>\n",
       "    <tr>\n",
       "      <th>619</th>\n",
       "      <td>d2l-ai/d2l-zh</td>\n",
       "      <td>d2l-ai/d2l-zh</td>\n",
       "      <td>NaN</td>\n",
       "      <td>9</td>\n",
       "      <td>8</td>\n",
       "      <td>111</td>\n",
       "      <td>7</td>\n",
       "      <td>0.257782</td>\n",
       "      <td>0.298643</td>\n",
       "      <td>0.000000</td>\n",
       "      <td>0.004398</td>\n",
       "    </tr>\n",
       "    <tr>\n",
       "      <th>869</th>\n",
       "      <td>VowpalWabbit/vowpal_wabbit</td>\n",
       "      <td>VowpalWabbit/vowpal_wabbit</td>\n",
       "      <td>NaN</td>\n",
       "      <td>9</td>\n",
       "      <td>6</td>\n",
       "      <td>31</td>\n",
       "      <td>7</td>\n",
       "      <td>0.267137</td>\n",
       "      <td>0.309964</td>\n",
       "      <td>0.000148</td>\n",
       "      <td>0.003569</td>\n",
       "    </tr>\n",
       "    <tr>\n",
       "      <th>861</th>\n",
       "      <td>rasbt/mlxtend</td>\n",
       "      <td>rasbt/mlxtend</td>\n",
       "      <td>NaN</td>\n",
       "      <td>9</td>\n",
       "      <td>4</td>\n",
       "      <td>20</td>\n",
       "      <td>7</td>\n",
       "      <td>0.266064</td>\n",
       "      <td>0.308392</td>\n",
       "      <td>0.000006</td>\n",
       "      <td>0.003153</td>\n",
       "    </tr>\n",
       "    <tr>\n",
       "      <th>50</th>\n",
       "      <td>kserve/kserve</td>\n",
       "      <td>kserve/kserve</td>\n",
       "      <td>NaN</td>\n",
       "      <td>9</td>\n",
       "      <td>6</td>\n",
       "      <td>86</td>\n",
       "      <td>5</td>\n",
       "      <td>0.276907</td>\n",
       "      <td>0.305031</td>\n",
       "      <td>0.000223</td>\n",
       "      <td>0.002587</td>\n",
       "    </tr>\n",
       "    <tr>\n",
       "      <th>187</th>\n",
       "      <td>feast-dev/feast</td>\n",
       "      <td>feast-dev/feast</td>\n",
       "      <td>NaN</td>\n",
       "      <td>9</td>\n",
       "      <td>6</td>\n",
       "      <td>29</td>\n",
       "      <td>5</td>\n",
       "      <td>0.281915</td>\n",
       "      <td>0.308994</td>\n",
       "      <td>0.000218</td>\n",
       "      <td>0.002516</td>\n",
       "    </tr>\n",
       "    <tr>\n",
       "      <th>157</th>\n",
       "      <td>argoproj/argo-workflows</td>\n",
       "      <td>argoproj/argo-workflows</td>\n",
       "      <td>NaN</td>\n",
       "      <td>9</td>\n",
       "      <td>6</td>\n",
       "      <td>60</td>\n",
       "      <td>5</td>\n",
       "      <td>0.281915</td>\n",
       "      <td>0.308994</td>\n",
       "      <td>0.000218</td>\n",
       "      <td>0.002516</td>\n",
       "    </tr>\n",
       "    <tr>\n",
       "      <th>125</th>\n",
       "      <td>SeldonIO/seldon-core</td>\n",
       "      <td>SeldonIO/seldon-core</td>\n",
       "      <td>NaN</td>\n",
       "      <td>9</td>\n",
       "      <td>7</td>\n",
       "      <td>53</td>\n",
       "      <td>6</td>\n",
       "      <td>0.251662</td>\n",
       "      <td>0.286289</td>\n",
       "      <td>0.000717</td>\n",
       "      <td>0.002504</td>\n",
       "    </tr>\n",
       "    <tr>\n",
       "      <th>927</th>\n",
       "      <td>slundberg/shap</td>\n",
       "      <td>slundberg/shap</td>\n",
       "      <td>NaN</td>\n",
       "      <td>9</td>\n",
       "      <td>4</td>\n",
       "      <td>30</td>\n",
       "      <td>6</td>\n",
       "      <td>0.279241</td>\n",
       "      <td>0.310818</td>\n",
       "      <td>0.000854</td>\n",
       "      <td>0.002014</td>\n",
       "    </tr>\n",
       "    <tr>\n",
       "      <th>1008</th>\n",
       "      <td>mne-tools/mne-python</td>\n",
       "      <td>mne-tools/mne-python</td>\n",
       "      <td>NaN</td>\n",
       "      <td>9</td>\n",
       "      <td>3</td>\n",
       "      <td>34</td>\n",
       "      <td>7</td>\n",
       "      <td>0.254075</td>\n",
       "      <td>0.283235</td>\n",
       "      <td>0.000032</td>\n",
       "      <td>0.001513</td>\n",
       "    </tr>\n",
       "    <tr>\n",
       "      <th>426</th>\n",
       "      <td>polyaxon/polyaxon</td>\n",
       "      <td>polyaxon/polyaxon</td>\n",
       "      <td>NaN</td>\n",
       "      <td>9</td>\n",
       "      <td>2</td>\n",
       "      <td>9</td>\n",
       "      <td>7</td>\n",
       "      <td>0.253589</td>\n",
       "      <td>0.285813</td>\n",
       "      <td>0.000042</td>\n",
       "      <td>0.001426</td>\n",
       "    </tr>\n",
       "    <tr>\n",
       "      <th>889</th>\n",
       "      <td>h2oai/h2o-3</td>\n",
       "      <td>h2oai/h2o-3</td>\n",
       "      <td>NaN</td>\n",
       "      <td>9</td>\n",
       "      <td>2</td>\n",
       "      <td>39</td>\n",
       "      <td>7</td>\n",
       "      <td>0.257532</td>\n",
       "      <td>0.287323</td>\n",
       "      <td>0.000000</td>\n",
       "      <td>0.001062</td>\n",
       "    </tr>\n",
       "    <tr>\n",
       "      <th>890</th>\n",
       "      <td>h2oai/sparkling-water</td>\n",
       "      <td>h2oai/sparkling-water</td>\n",
       "      <td>NaN</td>\n",
       "      <td>9</td>\n",
       "      <td>2</td>\n",
       "      <td>31</td>\n",
       "      <td>7</td>\n",
       "      <td>0.257532</td>\n",
       "      <td>0.287323</td>\n",
       "      <td>0.000000</td>\n",
       "      <td>0.001062</td>\n",
       "    </tr>\n",
       "    <tr>\n",
       "      <th>979</th>\n",
       "      <td>nilearn/nilearn</td>\n",
       "      <td>nilearn/nilearn</td>\n",
       "      <td>NaN</td>\n",
       "      <td>9</td>\n",
       "      <td>2</td>\n",
       "      <td>38</td>\n",
       "      <td>7</td>\n",
       "      <td>0.251423</td>\n",
       "      <td>0.276945</td>\n",
       "      <td>0.000000</td>\n",
       "      <td>0.000962</td>\n",
       "    </tr>\n",
       "    <tr>\n",
       "      <th>568</th>\n",
       "      <td>explosion/thinc</td>\n",
       "      <td>explosion/thinc</td>\n",
       "      <td>NaN</td>\n",
       "      <td>9</td>\n",
       "      <td>2</td>\n",
       "      <td>24</td>\n",
       "      <td>8</td>\n",
       "      <td>0.212510</td>\n",
       "      <td>0.238176</td>\n",
       "      <td>0.000000</td>\n",
       "      <td>0.000578</td>\n",
       "    </tr>\n",
       "    <tr>\n",
       "      <th>257</th>\n",
       "      <td>explosion/spacy-transformers</td>\n",
       "      <td>explosion/spacy-transformers</td>\n",
       "      <td>NaN</td>\n",
       "      <td>9</td>\n",
       "      <td>2</td>\n",
       "      <td>17</td>\n",
       "      <td>8</td>\n",
       "      <td>0.212510</td>\n",
       "      <td>0.238176</td>\n",
       "      <td>0.000000</td>\n",
       "      <td>0.000578</td>\n",
       "    </tr>\n",
       "  </tbody>\n",
       "</table>\n",
       "</div>"
      ]
     },
     "metadata": {},
     "execution_count": 12
    }
   ],
   "metadata": {}
  },
  {
   "cell_type": "code",
   "execution_count": 13,
   "source": [
    "# degree \n",
    "target_data.sort_values(by=['Degree'], ascending=False)"
   ],
   "outputs": [
    {
     "output_type": "execute_result",
     "data": {
      "text/plain": [
       "                                 Id                          Label  timeset  \\\n",
       "42                     dmlc/xgboost                   dmlc/xgboost      NaN   \n",
       "128                      apache/tvm                     apache/tvm      NaN   \n",
       "620                  OAID/MXNet-HRT                 OAID/MXNet-HRT      NaN   \n",
       "279                 horovod/horovod                horovod/horovod      NaN   \n",
       "234       scikit-learn/scikit-learn      scikit-learn/scikit-learn      NaN   \n",
       "284                  dmlc/dmlc-core                 dmlc/dmlc-core      NaN   \n",
       "30               kubeflow/pipelines             kubeflow/pipelines      NaN   \n",
       "82                  ray-project/ray                ray-project/ray      NaN   \n",
       "285                  pymc-devs/pymc                 pymc-devs/pymc      NaN   \n",
       "31                kubeflow/kubeflow              kubeflow/kubeflow      NaN   \n",
       "109                   d2l-ai/d2l-en                  d2l-ai/d2l-en      NaN   \n",
       "812              microsoft/LightGBM             microsoft/LightGBM      NaN   \n",
       "235                       nltk/nltk                      nltk/nltk      NaN   \n",
       "813                   mlflow/mlflow                  mlflow/mlflow      NaN   \n",
       "617                   dmlc/gluon-cv                  dmlc/gluon-cv      NaN   \n",
       "372   aws/amazon-sagemaker-examples  aws/amazon-sagemaker-examples      NaN   \n",
       "621                    dmlc/mshadow                   dmlc/mshadow      NaN   \n",
       "233                 explosion/spaCy                explosion/spaCy      NaN   \n",
       "616               awslabs/autogluon              awslabs/autogluon      NaN   \n",
       "925        RaRe-Technologies/gensim       RaRe-Technologies/gensim      NaN   \n",
       "618                  dmlc/gluon-nlp                 dmlc/gluon-nlp      NaN   \n",
       "619                   d2l-ai/d2l-zh                  d2l-ai/d2l-zh      NaN   \n",
       "371        aws/sagemaker-python-sdk       aws/sagemaker-python-sdk      NaN   \n",
       "125            SeldonIO/seldon-core           SeldonIO/seldon-core      NaN   \n",
       "869      VowpalWabbit/vowpal_wabbit     VowpalWabbit/vowpal_wabbit      NaN   \n",
       "187                 feast-dev/feast                feast-dev/feast      NaN   \n",
       "157         argoproj/argo-workflows        argoproj/argo-workflows      NaN   \n",
       "50                    kserve/kserve                  kserve/kserve      NaN   \n",
       "927                  slundberg/shap                 slundberg/shap      NaN   \n",
       "861                   rasbt/mlxtend                  rasbt/mlxtend      NaN   \n",
       "1008           mne-tools/mne-python           mne-tools/mne-python      NaN   \n",
       "889                     h2oai/h2o-3                    h2oai/h2o-3      NaN   \n",
       "890           h2oai/sparkling-water          h2oai/sparkling-water      NaN   \n",
       "568                 explosion/thinc                explosion/thinc      NaN   \n",
       "426               polyaxon/polyaxon              polyaxon/polyaxon      NaN   \n",
       "979                 nilearn/nilearn                nilearn/nilearn      NaN   \n",
       "257    explosion/spacy-transformers   explosion/spacy-transformers      NaN   \n",
       "\n",
       "      modularity_class  Degree  Weighted Degree  Eccentricity  \\\n",
       "42                   9      29              240             6   \n",
       "128                  9      27              261             6   \n",
       "620                  9      23              276             6   \n",
       "279                  9      23              129             6   \n",
       "234                  9      21              182             6   \n",
       "284                  9      19              220             6   \n",
       "30                   9      16              189             5   \n",
       "82                   9      15               93             5   \n",
       "285                  9      15               96             7   \n",
       "31                   9      14              154             5   \n",
       "109                  9      13              108             6   \n",
       "812                  9      13               98             6   \n",
       "235                  9      13               89             7   \n",
       "813                  9      11               64             5   \n",
       "617                  9      11              113             6   \n",
       "372                  9      11              146             6   \n",
       "621                  9      10              143             7   \n",
       "233                  9      10               84             7   \n",
       "616                  9      10               58             6   \n",
       "925                  9       9               82             7   \n",
       "618                  9       9               88             7   \n",
       "619                  9       8              111             7   \n",
       "371                  9       8              123             5   \n",
       "125                  9       7               53             6   \n",
       "869                  9       6               31             7   \n",
       "187                  9       6               29             5   \n",
       "157                  9       6               60             5   \n",
       "50                   9       6               86             5   \n",
       "927                  9       4               30             6   \n",
       "861                  9       4               20             7   \n",
       "1008                 9       3               34             7   \n",
       "889                  9       2               39             7   \n",
       "890                  9       2               31             7   \n",
       "568                  9       2               24             8   \n",
       "426                  9       2                9             7   \n",
       "979                  9       2               38             7   \n",
       "257                  9       2               17             8   \n",
       "\n",
       "      closnesscentrality  harmonicclosnesscentrality  betweenesscentrality  \\\n",
       "42              0.345953                    0.424906              0.107713   \n",
       "128             0.336722                    0.409811              0.019745   \n",
       "620             0.295429                    0.368365              0.004401   \n",
       "279             0.293142                    0.367736              0.005420   \n",
       "234             0.335019                    0.399119              0.020893   \n",
       "284             0.332915                    0.393459              0.016335   \n",
       "30              0.311398                    0.364528              0.261014   \n",
       "82              0.355705                    0.401069              0.069315   \n",
       "285             0.309942                    0.378455              0.005816   \n",
       "31              0.306005                    0.359623              0.012982   \n",
       "109             0.284030                    0.339748              0.001460   \n",
       "812             0.298423                    0.360503              0.046425   \n",
       "235             0.306358                    0.369650              0.005042   \n",
       "813             0.298760                    0.342642              0.011578   \n",
       "617             0.273478                    0.315220              0.000404   \n",
       "372             0.282215                    0.329371              0.000705   \n",
       "621             0.266600                    0.317197              0.000574   \n",
       "233             0.269309                    0.324429              0.013467   \n",
       "616             0.272354                    0.311447              0.000388   \n",
       "925             0.272915                    0.330404              0.000303   \n",
       "618             0.259549                    0.303675              0.000016   \n",
       "619             0.257782                    0.298643              0.000000   \n",
       "371             0.289934                    0.326604              0.008880   \n",
       "125             0.251662                    0.286289              0.000717   \n",
       "869             0.267137                    0.309964              0.000148   \n",
       "187             0.281915                    0.308994              0.000218   \n",
       "157             0.281915                    0.308994              0.000218   \n",
       "50              0.276907                    0.305031              0.000223   \n",
       "927             0.279241                    0.310818              0.000854   \n",
       "861             0.266064                    0.308392              0.000006   \n",
       "1008            0.254075                    0.283235              0.000032   \n",
       "889             0.257532                    0.287323              0.000000   \n",
       "890             0.257532                    0.287323              0.000000   \n",
       "568             0.212510                    0.238176              0.000000   \n",
       "426             0.253589                    0.285813              0.000042   \n",
       "979             0.251423                    0.276945              0.000000   \n",
       "257             0.212510                    0.238176              0.000000   \n",
       "\n",
       "      eigencentrality  \n",
       "42           0.017157  \n",
       "128          0.019703  \n",
       "620          0.014622  \n",
       "279          0.015977  \n",
       "234          0.015222  \n",
       "284          0.013581  \n",
       "30           0.008184  \n",
       "82           0.009240  \n",
       "285          0.010961  \n",
       "31           0.009026  \n",
       "109          0.008201  \n",
       "812          0.007826  \n",
       "235          0.008915  \n",
       "813          0.005123  \n",
       "617          0.005902  \n",
       "372          0.006537  \n",
       "621          0.005978  \n",
       "233          0.005362  \n",
       "616          0.005149  \n",
       "925          0.006725  \n",
       "618          0.005152  \n",
       "619          0.004398  \n",
       "371          0.004851  \n",
       "125          0.002504  \n",
       "869          0.003569  \n",
       "187          0.002516  \n",
       "157          0.002516  \n",
       "50           0.002587  \n",
       "927          0.002014  \n",
       "861          0.003153  \n",
       "1008         0.001513  \n",
       "889          0.001062  \n",
       "890          0.001062  \n",
       "568          0.000578  \n",
       "426          0.001426  \n",
       "979          0.000962  \n",
       "257          0.000578  "
      ],
      "text/html": [
       "<div>\n",
       "<style scoped>\n",
       "    .dataframe tbody tr th:only-of-type {\n",
       "        vertical-align: middle;\n",
       "    }\n",
       "\n",
       "    .dataframe tbody tr th {\n",
       "        vertical-align: top;\n",
       "    }\n",
       "\n",
       "    .dataframe thead th {\n",
       "        text-align: right;\n",
       "    }\n",
       "</style>\n",
       "<table border=\"1\" class=\"dataframe\">\n",
       "  <thead>\n",
       "    <tr style=\"text-align: right;\">\n",
       "      <th></th>\n",
       "      <th>Id</th>\n",
       "      <th>Label</th>\n",
       "      <th>timeset</th>\n",
       "      <th>modularity_class</th>\n",
       "      <th>Degree</th>\n",
       "      <th>Weighted Degree</th>\n",
       "      <th>Eccentricity</th>\n",
       "      <th>closnesscentrality</th>\n",
       "      <th>harmonicclosnesscentrality</th>\n",
       "      <th>betweenesscentrality</th>\n",
       "      <th>eigencentrality</th>\n",
       "    </tr>\n",
       "  </thead>\n",
       "  <tbody>\n",
       "    <tr>\n",
       "      <th>42</th>\n",
       "      <td>dmlc/xgboost</td>\n",
       "      <td>dmlc/xgboost</td>\n",
       "      <td>NaN</td>\n",
       "      <td>9</td>\n",
       "      <td>29</td>\n",
       "      <td>240</td>\n",
       "      <td>6</td>\n",
       "      <td>0.345953</td>\n",
       "      <td>0.424906</td>\n",
       "      <td>0.107713</td>\n",
       "      <td>0.017157</td>\n",
       "    </tr>\n",
       "    <tr>\n",
       "      <th>128</th>\n",
       "      <td>apache/tvm</td>\n",
       "      <td>apache/tvm</td>\n",
       "      <td>NaN</td>\n",
       "      <td>9</td>\n",
       "      <td>27</td>\n",
       "      <td>261</td>\n",
       "      <td>6</td>\n",
       "      <td>0.336722</td>\n",
       "      <td>0.409811</td>\n",
       "      <td>0.019745</td>\n",
       "      <td>0.019703</td>\n",
       "    </tr>\n",
       "    <tr>\n",
       "      <th>620</th>\n",
       "      <td>OAID/MXNet-HRT</td>\n",
       "      <td>OAID/MXNet-HRT</td>\n",
       "      <td>NaN</td>\n",
       "      <td>9</td>\n",
       "      <td>23</td>\n",
       "      <td>276</td>\n",
       "      <td>6</td>\n",
       "      <td>0.295429</td>\n",
       "      <td>0.368365</td>\n",
       "      <td>0.004401</td>\n",
       "      <td>0.014622</td>\n",
       "    </tr>\n",
       "    <tr>\n",
       "      <th>279</th>\n",
       "      <td>horovod/horovod</td>\n",
       "      <td>horovod/horovod</td>\n",
       "      <td>NaN</td>\n",
       "      <td>9</td>\n",
       "      <td>23</td>\n",
       "      <td>129</td>\n",
       "      <td>6</td>\n",
       "      <td>0.293142</td>\n",
       "      <td>0.367736</td>\n",
       "      <td>0.005420</td>\n",
       "      <td>0.015977</td>\n",
       "    </tr>\n",
       "    <tr>\n",
       "      <th>234</th>\n",
       "      <td>scikit-learn/scikit-learn</td>\n",
       "      <td>scikit-learn/scikit-learn</td>\n",
       "      <td>NaN</td>\n",
       "      <td>9</td>\n",
       "      <td>21</td>\n",
       "      <td>182</td>\n",
       "      <td>6</td>\n",
       "      <td>0.335019</td>\n",
       "      <td>0.399119</td>\n",
       "      <td>0.020893</td>\n",
       "      <td>0.015222</td>\n",
       "    </tr>\n",
       "    <tr>\n",
       "      <th>284</th>\n",
       "      <td>dmlc/dmlc-core</td>\n",
       "      <td>dmlc/dmlc-core</td>\n",
       "      <td>NaN</td>\n",
       "      <td>9</td>\n",
       "      <td>19</td>\n",
       "      <td>220</td>\n",
       "      <td>6</td>\n",
       "      <td>0.332915</td>\n",
       "      <td>0.393459</td>\n",
       "      <td>0.016335</td>\n",
       "      <td>0.013581</td>\n",
       "    </tr>\n",
       "    <tr>\n",
       "      <th>30</th>\n",
       "      <td>kubeflow/pipelines</td>\n",
       "      <td>kubeflow/pipelines</td>\n",
       "      <td>NaN</td>\n",
       "      <td>9</td>\n",
       "      <td>16</td>\n",
       "      <td>189</td>\n",
       "      <td>5</td>\n",
       "      <td>0.311398</td>\n",
       "      <td>0.364528</td>\n",
       "      <td>0.261014</td>\n",
       "      <td>0.008184</td>\n",
       "    </tr>\n",
       "    <tr>\n",
       "      <th>82</th>\n",
       "      <td>ray-project/ray</td>\n",
       "      <td>ray-project/ray</td>\n",
       "      <td>NaN</td>\n",
       "      <td>9</td>\n",
       "      <td>15</td>\n",
       "      <td>93</td>\n",
       "      <td>5</td>\n",
       "      <td>0.355705</td>\n",
       "      <td>0.401069</td>\n",
       "      <td>0.069315</td>\n",
       "      <td>0.009240</td>\n",
       "    </tr>\n",
       "    <tr>\n",
       "      <th>285</th>\n",
       "      <td>pymc-devs/pymc</td>\n",
       "      <td>pymc-devs/pymc</td>\n",
       "      <td>NaN</td>\n",
       "      <td>9</td>\n",
       "      <td>15</td>\n",
       "      <td>96</td>\n",
       "      <td>7</td>\n",
       "      <td>0.309942</td>\n",
       "      <td>0.378455</td>\n",
       "      <td>0.005816</td>\n",
       "      <td>0.010961</td>\n",
       "    </tr>\n",
       "    <tr>\n",
       "      <th>31</th>\n",
       "      <td>kubeflow/kubeflow</td>\n",
       "      <td>kubeflow/kubeflow</td>\n",
       "      <td>NaN</td>\n",
       "      <td>9</td>\n",
       "      <td>14</td>\n",
       "      <td>154</td>\n",
       "      <td>5</td>\n",
       "      <td>0.306005</td>\n",
       "      <td>0.359623</td>\n",
       "      <td>0.012982</td>\n",
       "      <td>0.009026</td>\n",
       "    </tr>\n",
       "    <tr>\n",
       "      <th>109</th>\n",
       "      <td>d2l-ai/d2l-en</td>\n",
       "      <td>d2l-ai/d2l-en</td>\n",
       "      <td>NaN</td>\n",
       "      <td>9</td>\n",
       "      <td>13</td>\n",
       "      <td>108</td>\n",
       "      <td>6</td>\n",
       "      <td>0.284030</td>\n",
       "      <td>0.339748</td>\n",
       "      <td>0.001460</td>\n",
       "      <td>0.008201</td>\n",
       "    </tr>\n",
       "    <tr>\n",
       "      <th>812</th>\n",
       "      <td>microsoft/LightGBM</td>\n",
       "      <td>microsoft/LightGBM</td>\n",
       "      <td>NaN</td>\n",
       "      <td>9</td>\n",
       "      <td>13</td>\n",
       "      <td>98</td>\n",
       "      <td>6</td>\n",
       "      <td>0.298423</td>\n",
       "      <td>0.360503</td>\n",
       "      <td>0.046425</td>\n",
       "      <td>0.007826</td>\n",
       "    </tr>\n",
       "    <tr>\n",
       "      <th>235</th>\n",
       "      <td>nltk/nltk</td>\n",
       "      <td>nltk/nltk</td>\n",
       "      <td>NaN</td>\n",
       "      <td>9</td>\n",
       "      <td>13</td>\n",
       "      <td>89</td>\n",
       "      <td>7</td>\n",
       "      <td>0.306358</td>\n",
       "      <td>0.369650</td>\n",
       "      <td>0.005042</td>\n",
       "      <td>0.008915</td>\n",
       "    </tr>\n",
       "    <tr>\n",
       "      <th>813</th>\n",
       "      <td>mlflow/mlflow</td>\n",
       "      <td>mlflow/mlflow</td>\n",
       "      <td>NaN</td>\n",
       "      <td>9</td>\n",
       "      <td>11</td>\n",
       "      <td>64</td>\n",
       "      <td>5</td>\n",
       "      <td>0.298760</td>\n",
       "      <td>0.342642</td>\n",
       "      <td>0.011578</td>\n",
       "      <td>0.005123</td>\n",
       "    </tr>\n",
       "    <tr>\n",
       "      <th>617</th>\n",
       "      <td>dmlc/gluon-cv</td>\n",
       "      <td>dmlc/gluon-cv</td>\n",
       "      <td>NaN</td>\n",
       "      <td>9</td>\n",
       "      <td>11</td>\n",
       "      <td>113</td>\n",
       "      <td>6</td>\n",
       "      <td>0.273478</td>\n",
       "      <td>0.315220</td>\n",
       "      <td>0.000404</td>\n",
       "      <td>0.005902</td>\n",
       "    </tr>\n",
       "    <tr>\n",
       "      <th>372</th>\n",
       "      <td>aws/amazon-sagemaker-examples</td>\n",
       "      <td>aws/amazon-sagemaker-examples</td>\n",
       "      <td>NaN</td>\n",
       "      <td>9</td>\n",
       "      <td>11</td>\n",
       "      <td>146</td>\n",
       "      <td>6</td>\n",
       "      <td>0.282215</td>\n",
       "      <td>0.329371</td>\n",
       "      <td>0.000705</td>\n",
       "      <td>0.006537</td>\n",
       "    </tr>\n",
       "    <tr>\n",
       "      <th>621</th>\n",
       "      <td>dmlc/mshadow</td>\n",
       "      <td>dmlc/mshadow</td>\n",
       "      <td>NaN</td>\n",
       "      <td>9</td>\n",
       "      <td>10</td>\n",
       "      <td>143</td>\n",
       "      <td>7</td>\n",
       "      <td>0.266600</td>\n",
       "      <td>0.317197</td>\n",
       "      <td>0.000574</td>\n",
       "      <td>0.005978</td>\n",
       "    </tr>\n",
       "    <tr>\n",
       "      <th>233</th>\n",
       "      <td>explosion/spaCy</td>\n",
       "      <td>explosion/spaCy</td>\n",
       "      <td>NaN</td>\n",
       "      <td>9</td>\n",
       "      <td>10</td>\n",
       "      <td>84</td>\n",
       "      <td>7</td>\n",
       "      <td>0.269309</td>\n",
       "      <td>0.324429</td>\n",
       "      <td>0.013467</td>\n",
       "      <td>0.005362</td>\n",
       "    </tr>\n",
       "    <tr>\n",
       "      <th>616</th>\n",
       "      <td>awslabs/autogluon</td>\n",
       "      <td>awslabs/autogluon</td>\n",
       "      <td>NaN</td>\n",
       "      <td>9</td>\n",
       "      <td>10</td>\n",
       "      <td>58</td>\n",
       "      <td>6</td>\n",
       "      <td>0.272354</td>\n",
       "      <td>0.311447</td>\n",
       "      <td>0.000388</td>\n",
       "      <td>0.005149</td>\n",
       "    </tr>\n",
       "    <tr>\n",
       "      <th>925</th>\n",
       "      <td>RaRe-Technologies/gensim</td>\n",
       "      <td>RaRe-Technologies/gensim</td>\n",
       "      <td>NaN</td>\n",
       "      <td>9</td>\n",
       "      <td>9</td>\n",
       "      <td>82</td>\n",
       "      <td>7</td>\n",
       "      <td>0.272915</td>\n",
       "      <td>0.330404</td>\n",
       "      <td>0.000303</td>\n",
       "      <td>0.006725</td>\n",
       "    </tr>\n",
       "    <tr>\n",
       "      <th>618</th>\n",
       "      <td>dmlc/gluon-nlp</td>\n",
       "      <td>dmlc/gluon-nlp</td>\n",
       "      <td>NaN</td>\n",
       "      <td>9</td>\n",
       "      <td>9</td>\n",
       "      <td>88</td>\n",
       "      <td>7</td>\n",
       "      <td>0.259549</td>\n",
       "      <td>0.303675</td>\n",
       "      <td>0.000016</td>\n",
       "      <td>0.005152</td>\n",
       "    </tr>\n",
       "    <tr>\n",
       "      <th>619</th>\n",
       "      <td>d2l-ai/d2l-zh</td>\n",
       "      <td>d2l-ai/d2l-zh</td>\n",
       "      <td>NaN</td>\n",
       "      <td>9</td>\n",
       "      <td>8</td>\n",
       "      <td>111</td>\n",
       "      <td>7</td>\n",
       "      <td>0.257782</td>\n",
       "      <td>0.298643</td>\n",
       "      <td>0.000000</td>\n",
       "      <td>0.004398</td>\n",
       "    </tr>\n",
       "    <tr>\n",
       "      <th>371</th>\n",
       "      <td>aws/sagemaker-python-sdk</td>\n",
       "      <td>aws/sagemaker-python-sdk</td>\n",
       "      <td>NaN</td>\n",
       "      <td>9</td>\n",
       "      <td>8</td>\n",
       "      <td>123</td>\n",
       "      <td>5</td>\n",
       "      <td>0.289934</td>\n",
       "      <td>0.326604</td>\n",
       "      <td>0.008880</td>\n",
       "      <td>0.004851</td>\n",
       "    </tr>\n",
       "    <tr>\n",
       "      <th>125</th>\n",
       "      <td>SeldonIO/seldon-core</td>\n",
       "      <td>SeldonIO/seldon-core</td>\n",
       "      <td>NaN</td>\n",
       "      <td>9</td>\n",
       "      <td>7</td>\n",
       "      <td>53</td>\n",
       "      <td>6</td>\n",
       "      <td>0.251662</td>\n",
       "      <td>0.286289</td>\n",
       "      <td>0.000717</td>\n",
       "      <td>0.002504</td>\n",
       "    </tr>\n",
       "    <tr>\n",
       "      <th>869</th>\n",
       "      <td>VowpalWabbit/vowpal_wabbit</td>\n",
       "      <td>VowpalWabbit/vowpal_wabbit</td>\n",
       "      <td>NaN</td>\n",
       "      <td>9</td>\n",
       "      <td>6</td>\n",
       "      <td>31</td>\n",
       "      <td>7</td>\n",
       "      <td>0.267137</td>\n",
       "      <td>0.309964</td>\n",
       "      <td>0.000148</td>\n",
       "      <td>0.003569</td>\n",
       "    </tr>\n",
       "    <tr>\n",
       "      <th>187</th>\n",
       "      <td>feast-dev/feast</td>\n",
       "      <td>feast-dev/feast</td>\n",
       "      <td>NaN</td>\n",
       "      <td>9</td>\n",
       "      <td>6</td>\n",
       "      <td>29</td>\n",
       "      <td>5</td>\n",
       "      <td>0.281915</td>\n",
       "      <td>0.308994</td>\n",
       "      <td>0.000218</td>\n",
       "      <td>0.002516</td>\n",
       "    </tr>\n",
       "    <tr>\n",
       "      <th>157</th>\n",
       "      <td>argoproj/argo-workflows</td>\n",
       "      <td>argoproj/argo-workflows</td>\n",
       "      <td>NaN</td>\n",
       "      <td>9</td>\n",
       "      <td>6</td>\n",
       "      <td>60</td>\n",
       "      <td>5</td>\n",
       "      <td>0.281915</td>\n",
       "      <td>0.308994</td>\n",
       "      <td>0.000218</td>\n",
       "      <td>0.002516</td>\n",
       "    </tr>\n",
       "    <tr>\n",
       "      <th>50</th>\n",
       "      <td>kserve/kserve</td>\n",
       "      <td>kserve/kserve</td>\n",
       "      <td>NaN</td>\n",
       "      <td>9</td>\n",
       "      <td>6</td>\n",
       "      <td>86</td>\n",
       "      <td>5</td>\n",
       "      <td>0.276907</td>\n",
       "      <td>0.305031</td>\n",
       "      <td>0.000223</td>\n",
       "      <td>0.002587</td>\n",
       "    </tr>\n",
       "    <tr>\n",
       "      <th>927</th>\n",
       "      <td>slundberg/shap</td>\n",
       "      <td>slundberg/shap</td>\n",
       "      <td>NaN</td>\n",
       "      <td>9</td>\n",
       "      <td>4</td>\n",
       "      <td>30</td>\n",
       "      <td>6</td>\n",
       "      <td>0.279241</td>\n",
       "      <td>0.310818</td>\n",
       "      <td>0.000854</td>\n",
       "      <td>0.002014</td>\n",
       "    </tr>\n",
       "    <tr>\n",
       "      <th>861</th>\n",
       "      <td>rasbt/mlxtend</td>\n",
       "      <td>rasbt/mlxtend</td>\n",
       "      <td>NaN</td>\n",
       "      <td>9</td>\n",
       "      <td>4</td>\n",
       "      <td>20</td>\n",
       "      <td>7</td>\n",
       "      <td>0.266064</td>\n",
       "      <td>0.308392</td>\n",
       "      <td>0.000006</td>\n",
       "      <td>0.003153</td>\n",
       "    </tr>\n",
       "    <tr>\n",
       "      <th>1008</th>\n",
       "      <td>mne-tools/mne-python</td>\n",
       "      <td>mne-tools/mne-python</td>\n",
       "      <td>NaN</td>\n",
       "      <td>9</td>\n",
       "      <td>3</td>\n",
       "      <td>34</td>\n",
       "      <td>7</td>\n",
       "      <td>0.254075</td>\n",
       "      <td>0.283235</td>\n",
       "      <td>0.000032</td>\n",
       "      <td>0.001513</td>\n",
       "    </tr>\n",
       "    <tr>\n",
       "      <th>889</th>\n",
       "      <td>h2oai/h2o-3</td>\n",
       "      <td>h2oai/h2o-3</td>\n",
       "      <td>NaN</td>\n",
       "      <td>9</td>\n",
       "      <td>2</td>\n",
       "      <td>39</td>\n",
       "      <td>7</td>\n",
       "      <td>0.257532</td>\n",
       "      <td>0.287323</td>\n",
       "      <td>0.000000</td>\n",
       "      <td>0.001062</td>\n",
       "    </tr>\n",
       "    <tr>\n",
       "      <th>890</th>\n",
       "      <td>h2oai/sparkling-water</td>\n",
       "      <td>h2oai/sparkling-water</td>\n",
       "      <td>NaN</td>\n",
       "      <td>9</td>\n",
       "      <td>2</td>\n",
       "      <td>31</td>\n",
       "      <td>7</td>\n",
       "      <td>0.257532</td>\n",
       "      <td>0.287323</td>\n",
       "      <td>0.000000</td>\n",
       "      <td>0.001062</td>\n",
       "    </tr>\n",
       "    <tr>\n",
       "      <th>568</th>\n",
       "      <td>explosion/thinc</td>\n",
       "      <td>explosion/thinc</td>\n",
       "      <td>NaN</td>\n",
       "      <td>9</td>\n",
       "      <td>2</td>\n",
       "      <td>24</td>\n",
       "      <td>8</td>\n",
       "      <td>0.212510</td>\n",
       "      <td>0.238176</td>\n",
       "      <td>0.000000</td>\n",
       "      <td>0.000578</td>\n",
       "    </tr>\n",
       "    <tr>\n",
       "      <th>426</th>\n",
       "      <td>polyaxon/polyaxon</td>\n",
       "      <td>polyaxon/polyaxon</td>\n",
       "      <td>NaN</td>\n",
       "      <td>9</td>\n",
       "      <td>2</td>\n",
       "      <td>9</td>\n",
       "      <td>7</td>\n",
       "      <td>0.253589</td>\n",
       "      <td>0.285813</td>\n",
       "      <td>0.000042</td>\n",
       "      <td>0.001426</td>\n",
       "    </tr>\n",
       "    <tr>\n",
       "      <th>979</th>\n",
       "      <td>nilearn/nilearn</td>\n",
       "      <td>nilearn/nilearn</td>\n",
       "      <td>NaN</td>\n",
       "      <td>9</td>\n",
       "      <td>2</td>\n",
       "      <td>38</td>\n",
       "      <td>7</td>\n",
       "      <td>0.251423</td>\n",
       "      <td>0.276945</td>\n",
       "      <td>0.000000</td>\n",
       "      <td>0.000962</td>\n",
       "    </tr>\n",
       "    <tr>\n",
       "      <th>257</th>\n",
       "      <td>explosion/spacy-transformers</td>\n",
       "      <td>explosion/spacy-transformers</td>\n",
       "      <td>NaN</td>\n",
       "      <td>9</td>\n",
       "      <td>2</td>\n",
       "      <td>17</td>\n",
       "      <td>8</td>\n",
       "      <td>0.212510</td>\n",
       "      <td>0.238176</td>\n",
       "      <td>0.000000</td>\n",
       "      <td>0.000578</td>\n",
       "    </tr>\n",
       "  </tbody>\n",
       "</table>\n",
       "</div>"
      ]
     },
     "metadata": {},
     "execution_count": 13
    }
   ],
   "metadata": {}
  },
  {
   "cell_type": "code",
   "execution_count": null,
   "source": [],
   "outputs": [],
   "metadata": {}
  }
 ],
 "metadata": {
  "orig_nbformat": 4,
  "language_info": {
   "name": "python",
   "version": "3.8.11",
   "mimetype": "text/x-python",
   "codemirror_mode": {
    "name": "ipython",
    "version": 3
   },
   "pygments_lexer": "ipython3",
   "nbconvert_exporter": "python",
   "file_extension": ".py"
  },
  "kernelspec": {
   "name": "python3",
   "display_name": "Python 3.8.11 64-bit ('research': conda)"
  },
  "interpreter": {
   "hash": "b9c1b964bfdaeba97df143313eacb83cb2a089d6aaed4d2c190fe89571ac71de"
  }
 },
 "nbformat": 4,
 "nbformat_minor": 2
}