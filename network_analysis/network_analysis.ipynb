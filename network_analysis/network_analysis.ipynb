{
 "cells": [
  {
   "cell_type": "code",
   "execution_count": 8,
   "source": [
    "import numpy as np\n",
    "import pandas as pd\n",
    "import networkx as nx\n",
    "import community as community_louvain\n",
    "from plotly.subplots import make_subplots\n",
    "import plotly.graph_objects as go\n",
    "import chart_studio\n",
    "from chart_studio.plotly import plot\n",
    "from tqdm import tqdm\n",
    "\n",
    "chart_studio.tools.set_credentials_file(username='Injokim', api_key='ZAsiIjcDIzXdYHa8CXbw')"
   ],
   "outputs": [],
   "metadata": {}
  },
  {
   "cell_type": "markdown",
   "source": [
    "# 1. Coword network analysis"
   ],
   "metadata": {}
  },
  {
   "cell_type": "markdown",
   "source": [
    "Analyze the coword network.\n",
    "\n",
    "The network imported in this study has already undergone edge normalization."
   ],
   "metadata": {}
  },
  {
   "cell_type": "markdown",
   "source": [
    "## 1-1. Load network"
   ],
   "metadata": {}
  },
  {
   "cell_type": "code",
   "execution_count": 2,
   "source": [
    "# read network using pandas \n",
    "network = pd.read_csv('data/network/0.3_filtered_normalized_coword.csv', index_col=0)\n",
    "\n",
    "# switch network dataframe to networkx\n",
    "G = nx.from_pandas_adjacency(network)"
   ],
   "outputs": [],
   "metadata": {}
  },
  {
   "cell_type": "code",
   "execution_count": 3,
   "source": [
    "# analize network features \n",
    "print(nx.info(G))\n",
    "print('network density : {:.5f}'.format(nx.density(G)))"
   ],
   "outputs": [
    {
     "output_type": "stream",
     "name": "stdout",
     "text": [
      "Graph with 6456 nodes and 13921 edges\n",
      "network density : 0.00067\n"
     ]
    }
   ],
   "metadata": {}
  },
  {
   "cell_type": "markdown",
   "source": [
    "## 1-2. Filtering node based on degree"
   ],
   "metadata": {}
  },
  {
   "cell_type": "markdown",
   "source": [
    "As a result of visualization through gephi, it was most appropriately visualized when the node degree was 3.     \n",
    "\n",
    "So, in this code as well, the analysis is performed after network filtering by setting node degree 3 or higher as the standard."
   ],
   "metadata": {}
  },
  {
   "cell_type": "code",
   "execution_count": 4,
   "source": [
    "# check node degree and extract nodes which its degree is lower than 3\n",
    "filtered_nodes = []\n",
    "\n",
    "for (node, degree) in G.degree :\n",
    "    if degree <= 3 :\n",
    "        filtered_nodes.append((node, degree))\n",
    "\n",
    "\n",
    "# remove nodes from G \n",
    "for node, _ in filtered_nodes : \n",
    "    G.remove_node(node)\n",
    "    \n",
    "\n",
    "# network features after filtering \n",
    "print(nx.info(G))\n",
    "print('network density : {:.5f}'.format(nx.density(G)))"
   ],
   "outputs": [
    {
     "output_type": "stream",
     "name": "stdout",
     "text": [
      "Graph with 3206 nodes and 11291 edges\n",
      "network density : 0.00220\n"
     ]
    }
   ],
   "metadata": {}
  },
  {
   "cell_type": "markdown",
   "source": [
    "## 1-3. Community detection using Louvain method"
   ],
   "metadata": {}
  },
  {
   "cell_type": "markdown",
   "source": [
    "Apply community detection technique to the filtered network.   \n",
    "\n",
    "At this time, it is expected that each cluster (technically, a community, but hereinafter referred to as a cluster) will be divided into sub-technology groups, applications, libraries, etc. of machine learning."
   ],
   "metadata": {}
  },
  {
   "cell_type": "code",
   "execution_count": 7,
   "source": [
    "# conduct community detection using louvain method\n",
    "clusters_dict = community_louvain.best_partition(G)\n",
    "\n",
    "# arrange by clusters \n",
    "# key : clsuter id\n",
    "# values : included node name \n",
    "clusters = {}\n",
    "\n",
    "for node, cluster_id in clusters_dict.items() :  \n",
    "    if cluster_id not in clusters.keys() :\n",
    "        clusters[cluster_id] = []\n",
    "    clusters[cluster_id].append(node)"
   ],
   "outputs": [],
   "metadata": {}
  },
  {
   "cell_type": "code",
   "execution_count": 48,
   "source": [
    "# A cluster with less than n nodes is judged as meaningless and removed.\n",
    "# Count the number of clusters with less than n nodes\n",
    "clusters_freq = {k : len(v) for k, v in clusters.items()}\n",
    "cluster_count_threshold = 7\n",
    "\n",
    "print('number of clusters : {}'.format(len(clusters_freq)))\n",
    "print('number of clusters which has more than {} nodes : {}'.format(cluster_count_threshold, \n",
    "                                                            len([k for k, v in clusters_freq.items() if v >= cluster_count_threshold])))\n",
    "\n",
    "\n",
    "# remove non-meaning clusters \n",
    "filtered_clusters = {k : v for k, v in clusters.items() if clusters_freq[k] >= cluster_count_threshold}\n",
    "\n",
    "\n",
    "# remove non-meaning nodes in network \n",
    "# remain original network G \n",
    "# create new network filtered_G\n",
    "filtered_G = G.copy()\n",
    "non_meaning_nodes = []\n",
    "\n",
    "for _, v in clusters.items() :\n",
    "    if len(v) < cluster_count_threshold :\n",
    "        non_meaning_nodes += v \n",
    "\n",
    "for node in G.nodes :\n",
    "    if node in non_meaning_nodes :\n",
    "        filtered_G.remove_node(node)"
   ],
   "outputs": [
    {
     "output_type": "stream",
     "name": "stdout",
     "text": [
      "number of clusters : 263\n",
      "number of clusters which has more than 7 nodes : 121\n"
     ]
    }
   ],
   "metadata": {}
  },
  {
   "cell_type": "code",
   "execution_count": 87,
   "source": [
    "# Visualize the number of nodes per cluster\n",
    "fig = make_subplots(\n",
    "    rows=1, cols=1\n",
    ")\n",
    "\n",
    "fig.add_trace(\n",
    "    go.Bar(x=list(clusters_freq.keys()), y=list(clusters_freq.values()))\n",
    ")\n",
    "\n",
    "plot(fig, filename='cluster_count', auto_open=True)"
   ],
   "outputs": [
    {
     "output_type": "execute_result",
     "data": {
      "text/plain": [
       "'https://plotly.com/~injokim/17/'"
      ]
     },
     "metadata": {},
     "execution_count": 87
    }
   ],
   "metadata": {}
  },
  {
   "cell_type": "markdown",
   "source": [
    "Clusters 2, 59, 73, 111, and 117 are the top 5 clusters with a large number of clusters, so they are separately collected and visualized."
   ],
   "metadata": {}
  },
  {
   "cell_type": "code",
   "execution_count": 80,
   "source": [
    "meaning_clusters = [2, 59, 73, 111, 117]\n",
    "\n",
    "def create_subnetwork(id) :\n",
    "    new_G = G.copy()\n",
    "\n",
    "    nodes = clusters[id]\n",
    "    remove_nodes = [node for node in new_G.nodes if node not in nodes]\n",
    "\n",
    "    for node in remove_nodes :\n",
    "        new_G.remove_node(node)\n",
    "\n",
    "    return nx.to_pandas_edgelist(new_G)\n",
    "\n",
    "# make subnetwork \n",
    "for id in meaning_clusters :\n",
    "    vars()[f'subnetwork_{id}'] = create_subnetwork(id)"
   ],
   "outputs": [],
   "metadata": {}
  },
  {
   "cell_type": "markdown",
   "source": [
    "## 1-4. Store network as pandas dataframe and csv"
   ],
   "metadata": {}
  },
  {
   "cell_type": "code",
   "execution_count": 69,
   "source": [
    "# change network as dataframe\n",
    "new_network = nx.to_pandas_edgelist(filtered_G)\n",
    "\n",
    "# change community as dataframe\n",
    "community_df = {}\n",
    "for k, v in filtered_clusters.items() :\n",
    "    for node in v : \n",
    "        community_df[node] = k\n",
    "\n",
    "community_df = pd.DataFrame.from_dict(community_df, orient='index').reset_index()\n",
    "community_df.columns = ['node', 'cluster']"
   ],
   "outputs": [],
   "metadata": {}
  },
  {
   "cell_type": "code",
   "execution_count": 71,
   "source": [
    "# store network info\n",
    "new_network.to_csv('data/network/0.3_clustered_normalized_coword.csv')\n",
    "community_df.to_csv('data/network/0.3_cluster.csv')"
   ],
   "outputs": [],
   "metadata": {}
  },
  {
   "cell_type": "code",
   "execution_count": 84,
   "source": [
    "# store subnetwork \n",
    "for id in meaning_clusters :\n",
    "    vars()[f'subnetwork_{id}'].to_csv('data/network/subnetwork_' + str(id) + '.csv', index=False)"
   ],
   "outputs": [],
   "metadata": {}
  },
  {
   "cell_type": "code",
   "execution_count": null,
   "source": [],
   "outputs": [],
   "metadata": {}
  },
  {
   "cell_type": "markdown",
   "source": [
    "# 2. Contributor-coupling network analysis"
   ],
   "metadata": {}
  },
  {
   "cell_type": "markdown",
   "source": [
    "## 2-1. Network load"
   ],
   "metadata": {}
  },
  {
   "cell_type": "code",
   "execution_count": 2,
   "source": [
    "network = pd.read_csv('data/network/contributor_coupling.csv', index_col=0)"
   ],
   "outputs": [],
   "metadata": {}
  },
  {
   "cell_type": "markdown",
   "source": [
    "## 2-2. Edge normalization using association strength"
   ],
   "metadata": {}
  },
  {
   "cell_type": "markdown",
   "source": [
    "Unlike the coword network, this network is not normalized, so normalization is performed first using the association strength."
   ],
   "metadata": {}
  },
  {
   "cell_type": "code",
   "execution_count": 6,
   "source": [
    "# extract diagonal term for association strength\n",
    "diagonal = {node : network.loc[node, node] for node in network.columns}\n",
    "\n",
    "# conduct association strength\n",
    "normalized_network = network.copy()\n",
    "\n",
    "for node1 in tqdm(network.columns) :\n",
    "    for node2 in network.columns : \n",
    "        normalized_network.loc[node1, node2]= network.loc[node1, node2]/(diagonal[node1] * diagonal[node2])"
   ],
   "outputs": [
    {
     "output_type": "stream",
     "name": "stderr",
     "text": [
      "100%|██████████| 3367/3367 [06:31<00:00,  8.60it/s]\n"
     ]
    }
   ],
   "metadata": {}
  },
  {
   "cell_type": "markdown",
   "source": [
    "## 2-3. Network analysis"
   ],
   "metadata": {}
  },
  {
   "cell_type": "markdown",
   "source": [
    "As a result of putting it as an input to gephi, empirically, the best looking network was generated when visualizing an edge weight of 0.03 or more.   \n",
    "\n",
    "Therefore, in this code, the same edge weight is set and network analysis is performed.\n",
    "\n",
    "\n",
    "The analysis procedure is\n",
    "\n",
    "1. Network dichotomize\n",
    "2. Remove nodes below a certain degree\n",
    "3. Community Detection\n",
    "4. Remove communities below a certain number of nodes\n",
    "5. Node Centrality Analysis"
   ],
   "metadata": {}
  },
  {
   "cell_type": "code",
   "execution_count": 34,
   "source": [
    "# network construct\n",
    "# remove self-loop \n",
    "for i in range(len(normalized_network)) :\n",
    "    normalized_network.iloc[i, i] = 0\n",
    "\n",
    "# dichotomize \n",
    "# initialize all edge weight to 0\n",
    "edge_threshold = 0.03\n",
    "\n",
    "columns = normalized_network.columns\n",
    "dichotomized_network = normalized_network.values\n",
    "dichotomized_network = np.where(dichotomized_network >= edge_threshold , 1, 0)\n",
    "dichotomized_network = pd.DataFrame(dichotomized_network, index=columns, columns=columns)\n",
    "\n",
    "\n",
    "# change data type df to networkx\n",
    "G = nx.from_pandas_adjacency(dichotomized_network)"
   ],
   "outputs": [],
   "metadata": {}
  },
  {
   "cell_type": "code",
   "execution_count": 35,
   "source": [
    "# record initial network statement \n",
    "nx.info(G)"
   ],
   "outputs": [
    {
     "output_type": "execute_result",
     "data": {
      "text/plain": [
       "'Graph with 3367 nodes and 5043 edges'"
      ]
     },
     "metadata": {},
     "execution_count": 35
    }
   ],
   "metadata": {}
  },
  {
   "cell_type": "code",
   "execution_count": 36,
   "source": [
    "# Remove isolated nodes\n",
    "isolated = []\n",
    "\n",
    "for node, degree in G.degree : \n",
    "    if degree == 0 :\n",
    "        isolated.append(node)\n",
    "\n",
    "for node in isolated :\n",
    "    G.remove_node(node)\n",
    "\n",
    "nx.info(G)\n"
   ],
   "outputs": [
    {
     "output_type": "execute_result",
     "data": {
      "text/plain": [
       "'Graph with 1091 nodes and 5043 edges'"
      ]
     },
     "metadata": {},
     "execution_count": 36
    }
   ],
   "metadata": {}
  },
  {
   "cell_type": "code",
   "execution_count": 38,
   "source": [
    "# community detection using louvain method \n",
    "cluster = community_louvain.best_partition(G)\n",
    "\n",
    "# make new dictionary about community and nodes\n",
    "# keys : cluster id \n",
    "# values : list of nodes\n",
    "cluster_node_dict = {}\n",
    "for k, v in cluster.items() :\n",
    "    if v not in list(cluster_node_dict.keys()) :\n",
    "        cluster_node_dict[v] = []\n",
    "    cluster_node_dict[v].append(k)"
   ],
   "outputs": [],
   "metadata": {}
  },
  {
   "cell_type": "markdown",
   "source": [
    "The number of created communities is 245"
   ],
   "metadata": {}
  },
  {
   "cell_type": "code",
   "execution_count": 42,
   "source": [
    "# Communities with 5 or fewer nodes are considered unimportant and all are removed\n",
    "# extract nodes in unimportant cluster \n",
    "unimportant = []\n",
    "cluster_threshold = 5\n",
    "\n",
    "for k, v in cluster_node_dict.items() : \n",
    "    if len(v) <= 5 :\n",
    "        unimportant += v\n",
    "\n",
    "# remove nodes in network G\n",
    "for node in unimportant : \n",
    "    G.remove_node(node)\n",
    "\n",
    "nx.info(G)"
   ],
   "outputs": [
    {
     "output_type": "execute_result",
     "data": {
      "text/plain": [
       "'Graph with 528 nodes and 4595 edges'"
      ]
     },
     "metadata": {},
     "execution_count": 42
    }
   ],
   "metadata": {}
  },
  {
   "cell_type": "code",
   "execution_count": 47,
   "source": [
    "# node centrality analysis \n",
    "eigen = nx.eigenvector_centrality(G)\n",
    "\n",
    "# ordering by eigenvector centrality \n",
    "eigen = pd.DataFrame.from_dict(eigen, orient='index').reset_index()\n",
    "eigen.columns = ['node', 'eigenvector_centrality']\n",
    "eigen.sort_values(by=['eigenvector_centrality'], ascending=False, inplace=True)\n",
    "\n",
    "# Visualizing the top 20 nodes in an eigenvector\n",
    "fig = make_subplots(\n",
    "    rows=1, cols=1\n",
    ")\n",
    "\n",
    "fig.add_trace(\n",
    "    go.Bar(x=eigen.node[:20], y=eigen.eigenvector_centrality[:20])\n",
    ")"
   ],
   "outputs": [
    {
     "output_type": "display_data",
     "data": {
      "application/vnd.plotly.v1+json": {
       "config": {
        "plotlyServerURL": "https://plotly.com"
       },
       "data": [
        {
         "type": "bar",
         "x": [
          "microsoft/OnDemandMLflowTrainAndServe",
          "autoai-org/AID",
          "IBM/MAX-OCR",
          "tofunlp/lineflow",
          "tipresias/tipresias",
          "doccano/doccano-transformer",
          "aws-samples/cloud-experiments",
          "NU-CUCIS/ElemNet",
          "alipay/jpmml-sparkml-lightgbm",
          "RasaHQ/rasalit",
          "google/ml-compiler-opt",
          "QData/AdversarialDNN-Playground",
          "runwayml/model-template",
          "thoughtfulml/examples",
          "quadflor/Quadflor",
          "cs217/cs217.github.io",
          "Meituan-Dianping/vision-ml",
          "render-examples/fastai-v3",
          "thu-ml/ares",
          "lobe/image-tools"
         ],
         "y": [
          0.16514045201968608,
          0.161739055440954,
          0.16163381321892195,
          0.16020176574733663,
          0.16020176574733663,
          0.15640845670678763,
          0.15584126899589723,
          0.15469532517786166,
          0.15452568340277711,
          0.15452309837452152,
          0.15452307268440957,
          0.15446070942614362,
          0.1543983964853702,
          0.1543983964853702,
          0.1543983964853702,
          0.1543983964853702,
          0.1543983964853702,
          0.1543983964853702,
          0.15439839648537018,
          0.15439839648537018
         ]
        }
       ],
       "layout": {
        "template": {
         "data": {
          "bar": [
           {
            "error_x": {
             "color": "#2a3f5f"
            },
            "error_y": {
             "color": "#2a3f5f"
            },
            "marker": {
             "line": {
              "color": "#E5ECF6",
              "width": 0.5
             },
             "pattern": {
              "fillmode": "overlay",
              "size": 10,
              "solidity": 0.2
             }
            },
            "type": "bar"
           }
          ],
          "barpolar": [
           {
            "marker": {
             "line": {
              "color": "#E5ECF6",
              "width": 0.5
             },
             "pattern": {
              "fillmode": "overlay",
              "size": 10,
              "solidity": 0.2
             }
            },
            "type": "barpolar"
           }
          ],
          "carpet": [
           {
            "aaxis": {
             "endlinecolor": "#2a3f5f",
             "gridcolor": "white",
             "linecolor": "white",
             "minorgridcolor": "white",
             "startlinecolor": "#2a3f5f"
            },
            "baxis": {
             "endlinecolor": "#2a3f5f",
             "gridcolor": "white",
             "linecolor": "white",
             "minorgridcolor": "white",
             "startlinecolor": "#2a3f5f"
            },
            "type": "carpet"
           }
          ],
          "choropleth": [
           {
            "colorbar": {
             "outlinewidth": 0,
             "ticks": ""
            },
            "type": "choropleth"
           }
          ],
          "contour": [
           {
            "colorbar": {
             "outlinewidth": 0,
             "ticks": ""
            },
            "colorscale": [
             [
              0,
              "#0d0887"
             ],
             [
              0.1111111111111111,
              "#46039f"
             ],
             [
              0.2222222222222222,
              "#7201a8"
             ],
             [
              0.3333333333333333,
              "#9c179e"
             ],
             [
              0.4444444444444444,
              "#bd3786"
             ],
             [
              0.5555555555555556,
              "#d8576b"
             ],
             [
              0.6666666666666666,
              "#ed7953"
             ],
             [
              0.7777777777777778,
              "#fb9f3a"
             ],
             [
              0.8888888888888888,
              "#fdca26"
             ],
             [
              1,
              "#f0f921"
             ]
            ],
            "type": "contour"
           }
          ],
          "contourcarpet": [
           {
            "colorbar": {
             "outlinewidth": 0,
             "ticks": ""
            },
            "type": "contourcarpet"
           }
          ],
          "heatmap": [
           {
            "colorbar": {
             "outlinewidth": 0,
             "ticks": ""
            },
            "colorscale": [
             [
              0,
              "#0d0887"
             ],
             [
              0.1111111111111111,
              "#46039f"
             ],
             [
              0.2222222222222222,
              "#7201a8"
             ],
             [
              0.3333333333333333,
              "#9c179e"
             ],
             [
              0.4444444444444444,
              "#bd3786"
             ],
             [
              0.5555555555555556,
              "#d8576b"
             ],
             [
              0.6666666666666666,
              "#ed7953"
             ],
             [
              0.7777777777777778,
              "#fb9f3a"
             ],
             [
              0.8888888888888888,
              "#fdca26"
             ],
             [
              1,
              "#f0f921"
             ]
            ],
            "type": "heatmap"
           }
          ],
          "heatmapgl": [
           {
            "colorbar": {
             "outlinewidth": 0,
             "ticks": ""
            },
            "colorscale": [
             [
              0,
              "#0d0887"
             ],
             [
              0.1111111111111111,
              "#46039f"
             ],
             [
              0.2222222222222222,
              "#7201a8"
             ],
             [
              0.3333333333333333,
              "#9c179e"
             ],
             [
              0.4444444444444444,
              "#bd3786"
             ],
             [
              0.5555555555555556,
              "#d8576b"
             ],
             [
              0.6666666666666666,
              "#ed7953"
             ],
             [
              0.7777777777777778,
              "#fb9f3a"
             ],
             [
              0.8888888888888888,
              "#fdca26"
             ],
             [
              1,
              "#f0f921"
             ]
            ],
            "type": "heatmapgl"
           }
          ],
          "histogram": [
           {
            "marker": {
             "pattern": {
              "fillmode": "overlay",
              "size": 10,
              "solidity": 0.2
             }
            },
            "type": "histogram"
           }
          ],
          "histogram2d": [
           {
            "colorbar": {
             "outlinewidth": 0,
             "ticks": ""
            },
            "colorscale": [
             [
              0,
              "#0d0887"
             ],
             [
              0.1111111111111111,
              "#46039f"
             ],
             [
              0.2222222222222222,
              "#7201a8"
             ],
             [
              0.3333333333333333,
              "#9c179e"
             ],
             [
              0.4444444444444444,
              "#bd3786"
             ],
             [
              0.5555555555555556,
              "#d8576b"
             ],
             [
              0.6666666666666666,
              "#ed7953"
             ],
             [
              0.7777777777777778,
              "#fb9f3a"
             ],
             [
              0.8888888888888888,
              "#fdca26"
             ],
             [
              1,
              "#f0f921"
             ]
            ],
            "type": "histogram2d"
           }
          ],
          "histogram2dcontour": [
           {
            "colorbar": {
             "outlinewidth": 0,
             "ticks": ""
            },
            "colorscale": [
             [
              0,
              "#0d0887"
             ],
             [
              0.1111111111111111,
              "#46039f"
             ],
             [
              0.2222222222222222,
              "#7201a8"
             ],
             [
              0.3333333333333333,
              "#9c179e"
             ],
             [
              0.4444444444444444,
              "#bd3786"
             ],
             [
              0.5555555555555556,
              "#d8576b"
             ],
             [
              0.6666666666666666,
              "#ed7953"
             ],
             [
              0.7777777777777778,
              "#fb9f3a"
             ],
             [
              0.8888888888888888,
              "#fdca26"
             ],
             [
              1,
              "#f0f921"
             ]
            ],
            "type": "histogram2dcontour"
           }
          ],
          "mesh3d": [
           {
            "colorbar": {
             "outlinewidth": 0,
             "ticks": ""
            },
            "type": "mesh3d"
           }
          ],
          "parcoords": [
           {
            "line": {
             "colorbar": {
              "outlinewidth": 0,
              "ticks": ""
             }
            },
            "type": "parcoords"
           }
          ],
          "pie": [
           {
            "automargin": true,
            "type": "pie"
           }
          ],
          "scatter": [
           {
            "marker": {
             "colorbar": {
              "outlinewidth": 0,
              "ticks": ""
             }
            },
            "type": "scatter"
           }
          ],
          "scatter3d": [
           {
            "line": {
             "colorbar": {
              "outlinewidth": 0,
              "ticks": ""
             }
            },
            "marker": {
             "colorbar": {
              "outlinewidth": 0,
              "ticks": ""
             }
            },
            "type": "scatter3d"
           }
          ],
          "scattercarpet": [
           {
            "marker": {
             "colorbar": {
              "outlinewidth": 0,
              "ticks": ""
             }
            },
            "type": "scattercarpet"
           }
          ],
          "scattergeo": [
           {
            "marker": {
             "colorbar": {
              "outlinewidth": 0,
              "ticks": ""
             }
            },
            "type": "scattergeo"
           }
          ],
          "scattergl": [
           {
            "marker": {
             "colorbar": {
              "outlinewidth": 0,
              "ticks": ""
             }
            },
            "type": "scattergl"
           }
          ],
          "scattermapbox": [
           {
            "marker": {
             "colorbar": {
              "outlinewidth": 0,
              "ticks": ""
             }
            },
            "type": "scattermapbox"
           }
          ],
          "scatterpolar": [
           {
            "marker": {
             "colorbar": {
              "outlinewidth": 0,
              "ticks": ""
             }
            },
            "type": "scatterpolar"
           }
          ],
          "scatterpolargl": [
           {
            "marker": {
             "colorbar": {
              "outlinewidth": 0,
              "ticks": ""
             }
            },
            "type": "scatterpolargl"
           }
          ],
          "scatterternary": [
           {
            "marker": {
             "colorbar": {
              "outlinewidth": 0,
              "ticks": ""
             }
            },
            "type": "scatterternary"
           }
          ],
          "surface": [
           {
            "colorbar": {
             "outlinewidth": 0,
             "ticks": ""
            },
            "colorscale": [
             [
              0,
              "#0d0887"
             ],
             [
              0.1111111111111111,
              "#46039f"
             ],
             [
              0.2222222222222222,
              "#7201a8"
             ],
             [
              0.3333333333333333,
              "#9c179e"
             ],
             [
              0.4444444444444444,
              "#bd3786"
             ],
             [
              0.5555555555555556,
              "#d8576b"
             ],
             [
              0.6666666666666666,
              "#ed7953"
             ],
             [
              0.7777777777777778,
              "#fb9f3a"
             ],
             [
              0.8888888888888888,
              "#fdca26"
             ],
             [
              1,
              "#f0f921"
             ]
            ],
            "type": "surface"
           }
          ],
          "table": [
           {
            "cells": {
             "fill": {
              "color": "#EBF0F8"
             },
             "line": {
              "color": "white"
             }
            },
            "header": {
             "fill": {
              "color": "#C8D4E3"
             },
             "line": {
              "color": "white"
             }
            },
            "type": "table"
           }
          ]
         },
         "layout": {
          "annotationdefaults": {
           "arrowcolor": "#2a3f5f",
           "arrowhead": 0,
           "arrowwidth": 1
          },
          "autotypenumbers": "strict",
          "coloraxis": {
           "colorbar": {
            "outlinewidth": 0,
            "ticks": ""
           }
          },
          "colorscale": {
           "diverging": [
            [
             0,
             "#8e0152"
            ],
            [
             0.1,
             "#c51b7d"
            ],
            [
             0.2,
             "#de77ae"
            ],
            [
             0.3,
             "#f1b6da"
            ],
            [
             0.4,
             "#fde0ef"
            ],
            [
             0.5,
             "#f7f7f7"
            ],
            [
             0.6,
             "#e6f5d0"
            ],
            [
             0.7,
             "#b8e186"
            ],
            [
             0.8,
             "#7fbc41"
            ],
            [
             0.9,
             "#4d9221"
            ],
            [
             1,
             "#276419"
            ]
           ],
           "sequential": [
            [
             0,
             "#0d0887"
            ],
            [
             0.1111111111111111,
             "#46039f"
            ],
            [
             0.2222222222222222,
             "#7201a8"
            ],
            [
             0.3333333333333333,
             "#9c179e"
            ],
            [
             0.4444444444444444,
             "#bd3786"
            ],
            [
             0.5555555555555556,
             "#d8576b"
            ],
            [
             0.6666666666666666,
             "#ed7953"
            ],
            [
             0.7777777777777778,
             "#fb9f3a"
            ],
            [
             0.8888888888888888,
             "#fdca26"
            ],
            [
             1,
             "#f0f921"
            ]
           ],
           "sequentialminus": [
            [
             0,
             "#0d0887"
            ],
            [
             0.1111111111111111,
             "#46039f"
            ],
            [
             0.2222222222222222,
             "#7201a8"
            ],
            [
             0.3333333333333333,
             "#9c179e"
            ],
            [
             0.4444444444444444,
             "#bd3786"
            ],
            [
             0.5555555555555556,
             "#d8576b"
            ],
            [
             0.6666666666666666,
             "#ed7953"
            ],
            [
             0.7777777777777778,
             "#fb9f3a"
            ],
            [
             0.8888888888888888,
             "#fdca26"
            ],
            [
             1,
             "#f0f921"
            ]
           ]
          },
          "colorway": [
           "#636efa",
           "#EF553B",
           "#00cc96",
           "#ab63fa",
           "#FFA15A",
           "#19d3f3",
           "#FF6692",
           "#B6E880",
           "#FF97FF",
           "#FECB52"
          ],
          "font": {
           "color": "#2a3f5f"
          },
          "geo": {
           "bgcolor": "white",
           "lakecolor": "white",
           "landcolor": "#E5ECF6",
           "showlakes": true,
           "showland": true,
           "subunitcolor": "white"
          },
          "hoverlabel": {
           "align": "left"
          },
          "hovermode": "closest",
          "mapbox": {
           "style": "light"
          },
          "paper_bgcolor": "white",
          "plot_bgcolor": "#E5ECF6",
          "polar": {
           "angularaxis": {
            "gridcolor": "white",
            "linecolor": "white",
            "ticks": ""
           },
           "bgcolor": "#E5ECF6",
           "radialaxis": {
            "gridcolor": "white",
            "linecolor": "white",
            "ticks": ""
           }
          },
          "scene": {
           "xaxis": {
            "backgroundcolor": "#E5ECF6",
            "gridcolor": "white",
            "gridwidth": 2,
            "linecolor": "white",
            "showbackground": true,
            "ticks": "",
            "zerolinecolor": "white"
           },
           "yaxis": {
            "backgroundcolor": "#E5ECF6",
            "gridcolor": "white",
            "gridwidth": 2,
            "linecolor": "white",
            "showbackground": true,
            "ticks": "",
            "zerolinecolor": "white"
           },
           "zaxis": {
            "backgroundcolor": "#E5ECF6",
            "gridcolor": "white",
            "gridwidth": 2,
            "linecolor": "white",
            "showbackground": true,
            "ticks": "",
            "zerolinecolor": "white"
           }
          },
          "shapedefaults": {
           "line": {
            "color": "#2a3f5f"
           }
          },
          "ternary": {
           "aaxis": {
            "gridcolor": "white",
            "linecolor": "white",
            "ticks": ""
           },
           "baxis": {
            "gridcolor": "white",
            "linecolor": "white",
            "ticks": ""
           },
           "bgcolor": "#E5ECF6",
           "caxis": {
            "gridcolor": "white",
            "linecolor": "white",
            "ticks": ""
           }
          },
          "title": {
           "x": 0.05
          },
          "xaxis": {
           "automargin": true,
           "gridcolor": "white",
           "linecolor": "white",
           "ticks": "",
           "title": {
            "standoff": 15
           },
           "zerolinecolor": "white",
           "zerolinewidth": 2
          },
          "yaxis": {
           "automargin": true,
           "gridcolor": "white",
           "linecolor": "white",
           "ticks": "",
           "title": {
            "standoff": 15
           },
           "zerolinecolor": "white",
           "zerolinewidth": 2
          }
         }
        },
        "xaxis": {
         "anchor": "y",
         "domain": [
          0,
          1
         ]
        },
        "yaxis": {
         "anchor": "x",
         "domain": [
          0,
          1
         ]
        }
       }
      }
     },
     "metadata": {}
    }
   ],
   "metadata": {}
  },
  {
   "cell_type": "markdown",
   "source": [
    "## 2-4. Extract subnetwork"
   ],
   "metadata": {}
  },
  {
   "cell_type": "markdown",
   "source": [
    "As a result of network visualization, it turned out that clusters 1 and 9 were not nodes of a specific company.   \n",
    "\n",
    "Extract their subnetworks and examine the components that make up them.   \n",
    "\n",
    "Since the size of the subnetwork is small, networks 1 and 9 are combined and expressed as one subnetwork."
   ],
   "metadata": {}
  },
  {
   "cell_type": "code",
   "execution_count": 59,
   "source": [
    "meaning_cluster = [1, 9]\n",
    "\n",
    "# find nodes of cluster 1 and 9 \n",
    "# combine two cluster's nodes\n",
    "meaning_nodes = [] + cluster_node_dict[1] + cluster_node_dict[9]\n",
    "\n",
    "# create new network and remove nodes which not in meaning nodes(nodes of cluster 1 and cluster 9)\n",
    "G_sub = G.copy()\n",
    "all_nodes = G.nodes\n",
    "\n",
    "for node in all_nodes : \n",
    "    if node not in meaning_nodes : \n",
    "        G_sub.remove_node(node)"
   ],
   "outputs": [],
   "metadata": {}
  },
  {
   "cell_type": "markdown",
   "source": [
    "## 2-5. Store network and community "
   ],
   "metadata": {}
  },
  {
   "cell_type": "markdown",
   "source": [
    "Change networkx back to pandas format and save it as a csv file."
   ],
   "metadata": {}
  },
  {
   "cell_type": "code",
   "execution_count": 49,
   "source": [
    "# change network networkx to pandas edgelist\n",
    "final_network = nx.to_pandas_edgelist(G)\n",
    "\n",
    "# change subnetwork networkx to pandas edgelist\n",
    "subnetwork = nx.to_pandas_edgelist(G_sub)\n",
    "\n",
    "# change cluster dictionary to pandas nodelist\n",
    "cluster = pd.DataFrame.from_dict(cluster, orient='index').reset_index()\n",
    "cluster.columns = ['Id', 'cluster']"
   ],
   "outputs": [],
   "metadata": {}
  },
  {
   "cell_type": "code",
   "execution_count": 52,
   "source": [
    "# save network \n",
    "final_network.to_csv('data/network/normalized_contributor_coupling/normalized_cc.csv', index=False)\n",
    "\n",
    "# save subnetwork\n",
    "subnetwork.to_csv('data/network/normalized_contributor_coupling/normalized_cc_sub.csv', index=False)\n",
    "\n",
    "# save cluster info\n",
    "cluster.to_csv('data/network/normalized_contributor_coupling_node/cluster.csv', index=False)"
   ],
   "outputs": [],
   "metadata": {}
  },
  {
   "cell_type": "code",
   "execution_count": null,
   "source": [],
   "outputs": [],
   "metadata": {}
  }
 ],
 "metadata": {
  "orig_nbformat": 4,
  "language_info": {
   "name": "python",
   "version": "3.8.11",
   "mimetype": "text/x-python",
   "codemirror_mode": {
    "name": "ipython",
    "version": 3
   },
   "pygments_lexer": "ipython3",
   "nbconvert_exporter": "python",
   "file_extension": ".py"
  },
  "kernelspec": {
   "name": "python3",
   "display_name": "Python 3.8.11 64-bit ('research': conda)"
  },
  "interpreter": {
   "hash": "b9c1b964bfdaeba97df143313eacb83cb2a089d6aaed4d2c190fe89571ac71de"
  }
 },
 "nbformat": 4,
 "nbformat_minor": 2
}